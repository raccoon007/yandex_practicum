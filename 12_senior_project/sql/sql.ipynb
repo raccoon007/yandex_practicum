{
 "cells": [
  {
   "cell_type": "markdown",
   "id": "db63b4d9",
   "metadata": {},
   "source": [
    "# Проект по анализу книжной БД для создания приложения\n",
    "\n",
    "**Цель исследования** - предоставить данные, которые помогут сформулировать ценностное предложение для нового продукта: создаваемого приложения для тех, кто любит читать.\n",
    "\n",
    "**Задачи исследования:**\n",
    "Проанализировать базу данных и определить:\n",
    "- сколько книг вышло после 1 января 2000 года;\n",
    "- посчитать количество обзоров и среднюю оценку для каждой книги;\n",
    "- определить издательство, которое выпустило наибольшее число книг толще 50-ти страниц;\n",
    "- определить автора с самой высокой средней оценкой книг (среди книг с 50-ю и более оценками);\n",
    "- посчитать среднее количество обзоров от пользователей, которые поставили больше 50 оценок.\n",
    "\n",
    "# Резюме\n",
    "\n",
    "Выгрузка данных позволила узнать, что:\n",
    "1. После 01.01.2000 года было выпущено 819 книг.\n",
    "2. Издательство Penguin Books выпустило больще всего книг, толщиной более 50 страниц, а именно: 42 уникальных произведения.\n",
    "3. Среди книг с 50-ю и более оценками, автор с самой высокой средней оценкой книг - J.K. Rowling/Mary GrandPré с рейтингом 4.3.\n",
    "4. Среднее количество обзоров от пользователей, поставивших более 50 оценок, равно 24,33.\n",
    "\n",
    "Кроме того, для каждой книги, сведения о которой содержатся в БД, было определено количество обзоров и средний рейтинг."
   ]
  },
  {
   "cell_type": "markdown",
   "id": "d151043b",
   "metadata": {},
   "source": [
    "## Загрузка файлов и знакомство с данными"
   ]
  },
  {
   "cell_type": "markdown",
   "id": "380a2fba",
   "metadata": {},
   "source": [
    "### Импорт библиотек"
   ]
  },
  {
   "cell_type": "markdown",
   "id": "e6779504",
   "metadata": {},
   "source": [
    "Загружаю библиотеки, которые понадобятся мне для исследования:"
   ]
  },
  {
   "cell_type": "code",
   "execution_count": 1,
   "id": "a94758a5",
   "metadata": {},
   "outputs": [],
   "source": [
    "import pandas as pd\n",
    "from sqlalchemy import create_engine"
   ]
  },
  {
   "cell_type": "markdown",
   "id": "5d202158",
   "metadata": {},
   "source": [
    "### Подключение к БД"
   ]
  },
  {
   "cell_type": "markdown",
   "id": "1cc9a417",
   "metadata": {},
   "source": [
    "Настраиваю параметры подключения к БД, в которой хранятся необходимые для исследования таблицы:"
   ]
  },
  {
   "cell_type": "code",
   "execution_count": 2,
   "id": "d3379db3",
   "metadata": {},
   "outputs": [],
   "source": [
    "# устанавливаю параметры\n",
    "db_config = {'user': 'user', # имя пользователя\n",
    "'pwd': 'password', # пароль\n",
    "'host': 'host',\n",
    "'port': 1111, # порт подключения\n",
    "'db': 'database_name'} # название базы данных\n",
    "connection_string = 'postgresql://{}:{}@{}:{}/{}'.format(db_config['user'],\n",
    " db_config['pwd'],\n",
    " db_config['host'],\n",
    " db_config['port'],\n",
    " db_config['db'])\n",
    "\n",
    "# сохраняю коннектор\n",
    "engine = create_engine(connection_string, connect_args={'sslmode':'require'})"
   ]
  },
  {
   "cell_type": "markdown",
   "id": "89b65590",
   "metadata": {},
   "source": [
    " Ошибок нет, значит подключение прошло успешно. Теперь выгружаю данные из БД:"
   ]
  },
  {
   "cell_type": "markdown",
   "id": "60a3a894",
   "metadata": {},
   "source": [
    "### Загрузка таблицы `books`"
   ]
  },
  {
   "cell_type": "code",
   "execution_count": 3,
   "id": "295d7d57",
   "metadata": {},
   "outputs": [
    {
     "data": {
      "text/html": [
       "<div>\n",
       "<style scoped>\n",
       "    .dataframe tbody tr th:only-of-type {\n",
       "        vertical-align: middle;\n",
       "    }\n",
       "\n",
       "    .dataframe tbody tr th {\n",
       "        vertical-align: top;\n",
       "    }\n",
       "\n",
       "    .dataframe thead th {\n",
       "        text-align: right;\n",
       "    }\n",
       "</style>\n",
       "<table border=\"1\" class=\"dataframe\">\n",
       "  <thead>\n",
       "    <tr style=\"text-align: right;\">\n",
       "      <th></th>\n",
       "      <th>book_id</th>\n",
       "      <th>author_id</th>\n",
       "      <th>title</th>\n",
       "      <th>num_pages</th>\n",
       "      <th>publication_date</th>\n",
       "      <th>publisher_id</th>\n",
       "    </tr>\n",
       "  </thead>\n",
       "  <tbody>\n",
       "    <tr>\n",
       "      <th>0</th>\n",
       "      <td>1</td>\n",
       "      <td>546</td>\n",
       "      <td>'Salem's Lot</td>\n",
       "      <td>594</td>\n",
       "      <td>2005-11-01</td>\n",
       "      <td>93</td>\n",
       "    </tr>\n",
       "    <tr>\n",
       "      <th>1</th>\n",
       "      <td>2</td>\n",
       "      <td>465</td>\n",
       "      <td>1 000 Places to See Before You Die</td>\n",
       "      <td>992</td>\n",
       "      <td>2003-05-22</td>\n",
       "      <td>336</td>\n",
       "    </tr>\n",
       "    <tr>\n",
       "      <th>2</th>\n",
       "      <td>3</td>\n",
       "      <td>407</td>\n",
       "      <td>13 Little Blue Envelopes (Little Blue Envelope...</td>\n",
       "      <td>322</td>\n",
       "      <td>2010-12-21</td>\n",
       "      <td>135</td>\n",
       "    </tr>\n",
       "    <tr>\n",
       "      <th>3</th>\n",
       "      <td>4</td>\n",
       "      <td>82</td>\n",
       "      <td>1491: New Revelations of the Americas Before C...</td>\n",
       "      <td>541</td>\n",
       "      <td>2006-10-10</td>\n",
       "      <td>309</td>\n",
       "    </tr>\n",
       "    <tr>\n",
       "      <th>4</th>\n",
       "      <td>5</td>\n",
       "      <td>125</td>\n",
       "      <td>1776</td>\n",
       "      <td>386</td>\n",
       "      <td>2006-07-04</td>\n",
       "      <td>268</td>\n",
       "    </tr>\n",
       "  </tbody>\n",
       "</table>\n",
       "</div>"
      ],
      "text/plain": [
       "   book_id  author_id                                              title  \\\n",
       "0        1        546                                       'Salem's Lot   \n",
       "1        2        465                 1 000 Places to See Before You Die   \n",
       "2        3        407  13 Little Blue Envelopes (Little Blue Envelope...   \n",
       "3        4         82  1491: New Revelations of the Americas Before C...   \n",
       "4        5        125                                               1776   \n",
       "\n",
       "   num_pages publication_date  publisher_id  \n",
       "0        594       2005-11-01            93  \n",
       "1        992       2003-05-22           336  \n",
       "2        322       2010-12-21           135  \n",
       "3        541       2006-10-10           309  \n",
       "4        386       2006-07-04           268  "
      ]
     },
     "execution_count": 3,
     "metadata": {},
     "output_type": "execute_result"
    }
   ],
   "source": [
    "pd.io.sql.read_sql('SELECT * FROM books LIMIT 5', con = engine) "
   ]
  },
  {
   "cell_type": "markdown",
   "id": "1fa95b19",
   "metadata": {},
   "source": [
    "### Загрузка таблицы `authors`"
   ]
  },
  {
   "cell_type": "code",
   "execution_count": 4,
   "id": "689e42bb",
   "metadata": {},
   "outputs": [
    {
     "data": {
      "text/html": [
       "<div>\n",
       "<style scoped>\n",
       "    .dataframe tbody tr th:only-of-type {\n",
       "        vertical-align: middle;\n",
       "    }\n",
       "\n",
       "    .dataframe tbody tr th {\n",
       "        vertical-align: top;\n",
       "    }\n",
       "\n",
       "    .dataframe thead th {\n",
       "        text-align: right;\n",
       "    }\n",
       "</style>\n",
       "<table border=\"1\" class=\"dataframe\">\n",
       "  <thead>\n",
       "    <tr style=\"text-align: right;\">\n",
       "      <th></th>\n",
       "      <th>author_id</th>\n",
       "      <th>author</th>\n",
       "    </tr>\n",
       "  </thead>\n",
       "  <tbody>\n",
       "    <tr>\n",
       "      <th>0</th>\n",
       "      <td>1</td>\n",
       "      <td>A.S. Byatt</td>\n",
       "    </tr>\n",
       "    <tr>\n",
       "      <th>1</th>\n",
       "      <td>2</td>\n",
       "      <td>Aesop/Laura Harris/Laura Gibbs</td>\n",
       "    </tr>\n",
       "    <tr>\n",
       "      <th>2</th>\n",
       "      <td>3</td>\n",
       "      <td>Agatha Christie</td>\n",
       "    </tr>\n",
       "    <tr>\n",
       "      <th>3</th>\n",
       "      <td>4</td>\n",
       "      <td>Alan Brennert</td>\n",
       "    </tr>\n",
       "    <tr>\n",
       "      <th>4</th>\n",
       "      <td>5</td>\n",
       "      <td>Alan Moore/David   Lloyd</td>\n",
       "    </tr>\n",
       "  </tbody>\n",
       "</table>\n",
       "</div>"
      ],
      "text/plain": [
       "   author_id                          author\n",
       "0          1                      A.S. Byatt\n",
       "1          2  Aesop/Laura Harris/Laura Gibbs\n",
       "2          3                 Agatha Christie\n",
       "3          4                   Alan Brennert\n",
       "4          5        Alan Moore/David   Lloyd"
      ]
     },
     "execution_count": 4,
     "metadata": {},
     "output_type": "execute_result"
    }
   ],
   "source": [
    "pd.io.sql.read_sql('SELECT * FROM authors LIMIT 5', con = engine) "
   ]
  },
  {
   "cell_type": "markdown",
   "id": "dacadb87",
   "metadata": {},
   "source": [
    "### Загрузка таблицы `publisher`"
   ]
  },
  {
   "cell_type": "code",
   "execution_count": 5,
   "id": "f31e9483",
   "metadata": {},
   "outputs": [
    {
     "data": {
      "text/html": [
       "<div>\n",
       "<style scoped>\n",
       "    .dataframe tbody tr th:only-of-type {\n",
       "        vertical-align: middle;\n",
       "    }\n",
       "\n",
       "    .dataframe tbody tr th {\n",
       "        vertical-align: top;\n",
       "    }\n",
       "\n",
       "    .dataframe thead th {\n",
       "        text-align: right;\n",
       "    }\n",
       "</style>\n",
       "<table border=\"1\" class=\"dataframe\">\n",
       "  <thead>\n",
       "    <tr style=\"text-align: right;\">\n",
       "      <th></th>\n",
       "      <th>publisher_id</th>\n",
       "      <th>publisher</th>\n",
       "    </tr>\n",
       "  </thead>\n",
       "  <tbody>\n",
       "    <tr>\n",
       "      <th>0</th>\n",
       "      <td>1</td>\n",
       "      <td>Ace</td>\n",
       "    </tr>\n",
       "    <tr>\n",
       "      <th>1</th>\n",
       "      <td>2</td>\n",
       "      <td>Ace Book</td>\n",
       "    </tr>\n",
       "    <tr>\n",
       "      <th>2</th>\n",
       "      <td>3</td>\n",
       "      <td>Ace Books</td>\n",
       "    </tr>\n",
       "    <tr>\n",
       "      <th>3</th>\n",
       "      <td>4</td>\n",
       "      <td>Ace Hardcover</td>\n",
       "    </tr>\n",
       "    <tr>\n",
       "      <th>4</th>\n",
       "      <td>5</td>\n",
       "      <td>Addison Wesley Publishing Company</td>\n",
       "    </tr>\n",
       "  </tbody>\n",
       "</table>\n",
       "</div>"
      ],
      "text/plain": [
       "   publisher_id                          publisher\n",
       "0             1                                Ace\n",
       "1             2                           Ace Book\n",
       "2             3                          Ace Books\n",
       "3             4                      Ace Hardcover\n",
       "4             5  Addison Wesley Publishing Company"
      ]
     },
     "execution_count": 5,
     "metadata": {},
     "output_type": "execute_result"
    }
   ],
   "source": [
    "pd.io.sql.read_sql('SELECT * FROM publishers LIMIT 5', con = engine) "
   ]
  },
  {
   "cell_type": "markdown",
   "id": "d0593fff",
   "metadata": {},
   "source": [
    "### Загрузка таблицы `ratings`"
   ]
  },
  {
   "cell_type": "code",
   "execution_count": 6,
   "id": "a718b703",
   "metadata": {},
   "outputs": [
    {
     "data": {
      "text/html": [
       "<div>\n",
       "<style scoped>\n",
       "    .dataframe tbody tr th:only-of-type {\n",
       "        vertical-align: middle;\n",
       "    }\n",
       "\n",
       "    .dataframe tbody tr th {\n",
       "        vertical-align: top;\n",
       "    }\n",
       "\n",
       "    .dataframe thead th {\n",
       "        text-align: right;\n",
       "    }\n",
       "</style>\n",
       "<table border=\"1\" class=\"dataframe\">\n",
       "  <thead>\n",
       "    <tr style=\"text-align: right;\">\n",
       "      <th></th>\n",
       "      <th>rating_id</th>\n",
       "      <th>book_id</th>\n",
       "      <th>username</th>\n",
       "      <th>rating</th>\n",
       "    </tr>\n",
       "  </thead>\n",
       "  <tbody>\n",
       "    <tr>\n",
       "      <th>0</th>\n",
       "      <td>1</td>\n",
       "      <td>1</td>\n",
       "      <td>ryanfranco</td>\n",
       "      <td>4</td>\n",
       "    </tr>\n",
       "    <tr>\n",
       "      <th>1</th>\n",
       "      <td>2</td>\n",
       "      <td>1</td>\n",
       "      <td>grantpatricia</td>\n",
       "      <td>2</td>\n",
       "    </tr>\n",
       "    <tr>\n",
       "      <th>2</th>\n",
       "      <td>3</td>\n",
       "      <td>1</td>\n",
       "      <td>brandtandrea</td>\n",
       "      <td>5</td>\n",
       "    </tr>\n",
       "    <tr>\n",
       "      <th>3</th>\n",
       "      <td>4</td>\n",
       "      <td>2</td>\n",
       "      <td>lorichen</td>\n",
       "      <td>3</td>\n",
       "    </tr>\n",
       "    <tr>\n",
       "      <th>4</th>\n",
       "      <td>5</td>\n",
       "      <td>2</td>\n",
       "      <td>mariokeller</td>\n",
       "      <td>2</td>\n",
       "    </tr>\n",
       "  </tbody>\n",
       "</table>\n",
       "</div>"
      ],
      "text/plain": [
       "   rating_id  book_id       username  rating\n",
       "0          1        1     ryanfranco       4\n",
       "1          2        1  grantpatricia       2\n",
       "2          3        1   brandtandrea       5\n",
       "3          4        2       lorichen       3\n",
       "4          5        2    mariokeller       2"
      ]
     },
     "execution_count": 6,
     "metadata": {},
     "output_type": "execute_result"
    }
   ],
   "source": [
    "pd.io.sql.read_sql('SELECT * FROM ratings LIMIT 5', con = engine) "
   ]
  },
  {
   "cell_type": "markdown",
   "id": "944d42bc",
   "metadata": {},
   "source": [
    "### Загрузка таблицы `reviews`"
   ]
  },
  {
   "cell_type": "code",
   "execution_count": 7,
   "id": "b309fd12",
   "metadata": {},
   "outputs": [
    {
     "data": {
      "text/html": [
       "<div>\n",
       "<style scoped>\n",
       "    .dataframe tbody tr th:only-of-type {\n",
       "        vertical-align: middle;\n",
       "    }\n",
       "\n",
       "    .dataframe tbody tr th {\n",
       "        vertical-align: top;\n",
       "    }\n",
       "\n",
       "    .dataframe thead th {\n",
       "        text-align: right;\n",
       "    }\n",
       "</style>\n",
       "<table border=\"1\" class=\"dataframe\">\n",
       "  <thead>\n",
       "    <tr style=\"text-align: right;\">\n",
       "      <th></th>\n",
       "      <th>review_id</th>\n",
       "      <th>book_id</th>\n",
       "      <th>username</th>\n",
       "      <th>text</th>\n",
       "    </tr>\n",
       "  </thead>\n",
       "  <tbody>\n",
       "    <tr>\n",
       "      <th>0</th>\n",
       "      <td>1</td>\n",
       "      <td>1</td>\n",
       "      <td>brandtandrea</td>\n",
       "      <td>Mention society tell send professor analysis. ...</td>\n",
       "    </tr>\n",
       "    <tr>\n",
       "      <th>1</th>\n",
       "      <td>2</td>\n",
       "      <td>1</td>\n",
       "      <td>ryanfranco</td>\n",
       "      <td>Foot glass pretty audience hit themselves. Amo...</td>\n",
       "    </tr>\n",
       "    <tr>\n",
       "      <th>2</th>\n",
       "      <td>3</td>\n",
       "      <td>2</td>\n",
       "      <td>lorichen</td>\n",
       "      <td>Listen treat keep worry. Miss husband tax but ...</td>\n",
       "    </tr>\n",
       "    <tr>\n",
       "      <th>3</th>\n",
       "      <td>4</td>\n",
       "      <td>3</td>\n",
       "      <td>johnsonamanda</td>\n",
       "      <td>Finally month interesting blue could nature cu...</td>\n",
       "    </tr>\n",
       "    <tr>\n",
       "      <th>4</th>\n",
       "      <td>5</td>\n",
       "      <td>3</td>\n",
       "      <td>scotttamara</td>\n",
       "      <td>Nation purpose heavy give wait song will. List...</td>\n",
       "    </tr>\n",
       "  </tbody>\n",
       "</table>\n",
       "</div>"
      ],
      "text/plain": [
       "   review_id  book_id       username  \\\n",
       "0          1        1   brandtandrea   \n",
       "1          2        1     ryanfranco   \n",
       "2          3        2       lorichen   \n",
       "3          4        3  johnsonamanda   \n",
       "4          5        3    scotttamara   \n",
       "\n",
       "                                                text  \n",
       "0  Mention society tell send professor analysis. ...  \n",
       "1  Foot glass pretty audience hit themselves. Amo...  \n",
       "2  Listen treat keep worry. Miss husband tax but ...  \n",
       "3  Finally month interesting blue could nature cu...  \n",
       "4  Nation purpose heavy give wait song will. List...  "
      ]
     },
     "execution_count": 7,
     "metadata": {},
     "output_type": "execute_result"
    }
   ],
   "source": [
    "pd.io.sql.read_sql('SELECT * FROM reviews LIMIT 5', con = engine) "
   ]
  },
  {
   "cell_type": "markdown",
   "id": "c8f892da",
   "metadata": {},
   "source": [
    "## Определение количества выпущенных книг"
   ]
  },
  {
   "cell_type": "markdown",
   "id": "c93594a8",
   "metadata": {},
   "source": [
    "Необходимо посчитать количество книг, вышедших после 1 января 2000 года."
   ]
  },
  {
   "cell_type": "code",
   "execution_count": 8,
   "id": "32ac38a0",
   "metadata": {},
   "outputs": [],
   "source": [
    "january_release = '''SELECT COUNT(book_id)\n",
    "                  FROM books\n",
    "                  WHERE publication_date > '2000-01-01'\n",
    "                  '''"
   ]
  },
  {
   "cell_type": "code",
   "execution_count": 9,
   "id": "9a131c7a",
   "metadata": {},
   "outputs": [
    {
     "data": {
      "text/html": [
       "<div>\n",
       "<style scoped>\n",
       "    .dataframe tbody tr th:only-of-type {\n",
       "        vertical-align: middle;\n",
       "    }\n",
       "\n",
       "    .dataframe tbody tr th {\n",
       "        vertical-align: top;\n",
       "    }\n",
       "\n",
       "    .dataframe thead th {\n",
       "        text-align: right;\n",
       "    }\n",
       "</style>\n",
       "<table border=\"1\" class=\"dataframe\">\n",
       "  <thead>\n",
       "    <tr style=\"text-align: right;\">\n",
       "      <th></th>\n",
       "      <th>count</th>\n",
       "    </tr>\n",
       "  </thead>\n",
       "  <tbody>\n",
       "    <tr>\n",
       "      <th>0</th>\n",
       "      <td>819</td>\n",
       "    </tr>\n",
       "  </tbody>\n",
       "</table>\n",
       "</div>"
      ],
      "text/plain": [
       "   count\n",
       "0    819"
      ]
     },
     "execution_count": 9,
     "metadata": {},
     "output_type": "execute_result"
    }
   ],
   "source": [
    "pd.io.sql.read_sql(january_release, con = engine) "
   ]
  },
  {
   "cell_type": "markdown",
   "id": "7c012883",
   "metadata": {},
   "source": [
    "После 01.01.2000 года было выпущено 819 книг"
   ]
  },
  {
   "cell_type": "markdown",
   "id": "724f3660",
   "metadata": {},
   "source": [
    "## Анализ количества обзоров и средних оценок книг"
   ]
  },
  {
   "cell_type": "markdown",
   "id": "cec542b4",
   "metadata": {},
   "source": [
    "Необходимо посчитать количество обзоров и среднюю оценку каждой книги."
   ]
  },
  {
   "cell_type": "code",
   "execution_count": 10,
   "id": "a933500a",
   "metadata": {},
   "outputs": [],
   "source": [
    "reviews_cnt = ''' WITH\n",
    "\n",
    "                  rev AS\n",
    "                  (SELECT book_id, COUNT(review_id) OVER (PARTITION BY book_id) AS cnt_rev\n",
    "                  FROM reviews),\n",
    "                  \n",
    "                  rat AS \n",
    "                  (SELECT book_id, AVG(rating) OVER (PARTITION BY book_id) AS avg_rat\n",
    "                  FROM ratings) \n",
    "                  \n",
    "                  SELECT DISTINCT(b.book_id), title, cnt_rev, avg_rat\n",
    "                  FROM books AS b\n",
    "                  LEFT JOIN rev ON rev.book_id = b.book_id\n",
    "                  LEFT JOIN rat ON rat.book_id = b.book_id\n",
    "                  ORDER BY 1\n",
    "                  \n",
    "             '''"
   ]
  },
  {
   "cell_type": "code",
   "execution_count": 11,
   "id": "67318916",
   "metadata": {},
   "outputs": [
    {
     "data": {
      "text/html": [
       "<div>\n",
       "<style scoped>\n",
       "    .dataframe tbody tr th:only-of-type {\n",
       "        vertical-align: middle;\n",
       "    }\n",
       "\n",
       "    .dataframe tbody tr th {\n",
       "        vertical-align: top;\n",
       "    }\n",
       "\n",
       "    .dataframe thead th {\n",
       "        text-align: right;\n",
       "    }\n",
       "</style>\n",
       "<table border=\"1\" class=\"dataframe\">\n",
       "  <thead>\n",
       "    <tr style=\"text-align: right;\">\n",
       "      <th></th>\n",
       "      <th>book_id</th>\n",
       "      <th>title</th>\n",
       "      <th>cnt_rev</th>\n",
       "      <th>avg_rat</th>\n",
       "    </tr>\n",
       "  </thead>\n",
       "  <tbody>\n",
       "    <tr>\n",
       "      <th>0</th>\n",
       "      <td>1</td>\n",
       "      <td>'Salem's Lot</td>\n",
       "      <td>2.0</td>\n",
       "      <td>3.666667</td>\n",
       "    </tr>\n",
       "    <tr>\n",
       "      <th>1</th>\n",
       "      <td>2</td>\n",
       "      <td>1 000 Places to See Before You Die</td>\n",
       "      <td>1.0</td>\n",
       "      <td>2.500000</td>\n",
       "    </tr>\n",
       "    <tr>\n",
       "      <th>2</th>\n",
       "      <td>3</td>\n",
       "      <td>13 Little Blue Envelopes (Little Blue Envelope...</td>\n",
       "      <td>3.0</td>\n",
       "      <td>4.666667</td>\n",
       "    </tr>\n",
       "    <tr>\n",
       "      <th>3</th>\n",
       "      <td>4</td>\n",
       "      <td>1491: New Revelations of the Americas Before C...</td>\n",
       "      <td>2.0</td>\n",
       "      <td>4.500000</td>\n",
       "    </tr>\n",
       "    <tr>\n",
       "      <th>4</th>\n",
       "      <td>5</td>\n",
       "      <td>1776</td>\n",
       "      <td>4.0</td>\n",
       "      <td>4.000000</td>\n",
       "    </tr>\n",
       "    <tr>\n",
       "      <th>...</th>\n",
       "      <td>...</td>\n",
       "      <td>...</td>\n",
       "      <td>...</td>\n",
       "      <td>...</td>\n",
       "    </tr>\n",
       "    <tr>\n",
       "      <th>995</th>\n",
       "      <td>996</td>\n",
       "      <td>Wyrd Sisters (Discworld  #6; Witches #2)</td>\n",
       "      <td>3.0</td>\n",
       "      <td>3.666667</td>\n",
       "    </tr>\n",
       "    <tr>\n",
       "      <th>996</th>\n",
       "      <td>997</td>\n",
       "      <td>Xenocide (Ender's Saga  #3)</td>\n",
       "      <td>3.0</td>\n",
       "      <td>3.400000</td>\n",
       "    </tr>\n",
       "    <tr>\n",
       "      <th>997</th>\n",
       "      <td>998</td>\n",
       "      <td>Year of Wonders</td>\n",
       "      <td>4.0</td>\n",
       "      <td>3.200000</td>\n",
       "    </tr>\n",
       "    <tr>\n",
       "      <th>998</th>\n",
       "      <td>999</td>\n",
       "      <td>You Suck (A Love Story  #2)</td>\n",
       "      <td>2.0</td>\n",
       "      <td>4.500000</td>\n",
       "    </tr>\n",
       "    <tr>\n",
       "      <th>999</th>\n",
       "      <td>1000</td>\n",
       "      <td>Zen and the Art of Motorcycle Maintenance: An ...</td>\n",
       "      <td>4.0</td>\n",
       "      <td>3.833333</td>\n",
       "    </tr>\n",
       "  </tbody>\n",
       "</table>\n",
       "<p>1000 rows × 4 columns</p>\n",
       "</div>"
      ],
      "text/plain": [
       "     book_id                                              title  cnt_rev  \\\n",
       "0          1                                       'Salem's Lot      2.0   \n",
       "1          2                 1 000 Places to See Before You Die      1.0   \n",
       "2          3  13 Little Blue Envelopes (Little Blue Envelope...      3.0   \n",
       "3          4  1491: New Revelations of the Americas Before C...      2.0   \n",
       "4          5                                               1776      4.0   \n",
       "..       ...                                                ...      ...   \n",
       "995      996           Wyrd Sisters (Discworld  #6; Witches #2)      3.0   \n",
       "996      997                        Xenocide (Ender's Saga  #3)      3.0   \n",
       "997      998                                    Year of Wonders      4.0   \n",
       "998      999                        You Suck (A Love Story  #2)      2.0   \n",
       "999     1000  Zen and the Art of Motorcycle Maintenance: An ...      4.0   \n",
       "\n",
       "      avg_rat  \n",
       "0    3.666667  \n",
       "1    2.500000  \n",
       "2    4.666667  \n",
       "3    4.500000  \n",
       "4    4.000000  \n",
       "..        ...  \n",
       "995  3.666667  \n",
       "996  3.400000  \n",
       "997  3.200000  \n",
       "998  4.500000  \n",
       "999  3.833333  \n",
       "\n",
       "[1000 rows x 4 columns]"
      ]
     },
     "execution_count": 11,
     "metadata": {},
     "output_type": "execute_result"
    }
   ],
   "source": [
    "pd.io.sql.read_sql(reviews_cnt, con = engine)"
   ]
  },
  {
   "cell_type": "markdown",
   "id": "30b4b23d",
   "metadata": {},
   "source": [
    "Для каждой книги, сведения о которой содержатся в БД, определено количество обзоров и средний рейтинг."
   ]
  },
  {
   "cell_type": "markdown",
   "id": "a3cd8507",
   "metadata": {},
   "source": [
    "## Определение топ-издательств по выпуску книг"
   ]
  },
  {
   "cell_type": "markdown",
   "id": "c0be1276",
   "metadata": {},
   "source": [
    "Необходимо определите издательство, которое выпустило наибольшее число книг толще 50 страниц."
   ]
  },
  {
   "cell_type": "code",
   "execution_count": 12,
   "id": "530b9cbe",
   "metadata": {},
   "outputs": [],
   "source": [
    "publishing = ''' SELECT publisher,\n",
    "                        COUNT (book_id) OVER (PARTITION BY publisher_id)\n",
    "                 FROM (SELECT b.publisher_id, publisher, book_id, num_pages\n",
    "                      FROM books AS b\n",
    "                      LEFT JOIN publishers AS pub ON pub.publisher_id = b.publisher_id) AS pub_table\n",
    "                 WHERE num_pages > 50\n",
    "                 ORDER BY 2 DESC\n",
    "                 LIMIT 1\n",
    "             '''"
   ]
  },
  {
   "cell_type": "code",
   "execution_count": 13,
   "id": "4871f6db",
   "metadata": {},
   "outputs": [
    {
     "data": {
      "text/html": [
       "<div>\n",
       "<style scoped>\n",
       "    .dataframe tbody tr th:only-of-type {\n",
       "        vertical-align: middle;\n",
       "    }\n",
       "\n",
       "    .dataframe tbody tr th {\n",
       "        vertical-align: top;\n",
       "    }\n",
       "\n",
       "    .dataframe thead th {\n",
       "        text-align: right;\n",
       "    }\n",
       "</style>\n",
       "<table border=\"1\" class=\"dataframe\">\n",
       "  <thead>\n",
       "    <tr style=\"text-align: right;\">\n",
       "      <th></th>\n",
       "      <th>publisher</th>\n",
       "      <th>count</th>\n",
       "    </tr>\n",
       "  </thead>\n",
       "  <tbody>\n",
       "    <tr>\n",
       "      <th>0</th>\n",
       "      <td>Penguin Books</td>\n",
       "      <td>42</td>\n",
       "    </tr>\n",
       "  </tbody>\n",
       "</table>\n",
       "</div>"
      ],
      "text/plain": [
       "       publisher  count\n",
       "0  Penguin Books     42"
      ]
     },
     "execution_count": 13,
     "metadata": {},
     "output_type": "execute_result"
    }
   ],
   "source": [
    "pd.io.sql.read_sql(publishing, con = engine) "
   ]
  },
  {
   "cell_type": "markdown",
   "id": "4a6d044a",
   "metadata": {},
   "source": [
    "Издательство Penguin Books выпустило больще всего книг, толщиной более 50 страниц, а именно: 42 уникальных произведения."
   ]
  },
  {
   "cell_type": "markdown",
   "id": "d7d1af87",
   "metadata": {},
   "source": [
    "## Определение самого популярного автора"
   ]
  },
  {
   "cell_type": "markdown",
   "id": "45d22da6",
   "metadata": {},
   "source": [
    "Необходимо определить автора с самой высокой средней оценкой книг (среди книг с 50-ю и более оценками)."
   ]
  },
  {
   "cell_type": "code",
   "execution_count": 14,
   "id": "eea21041",
   "metadata": {},
   "outputs": [],
   "source": [
    "author_top_review = ''' WITH\n",
    "\n",
    "                        rev_50 AS\n",
    "                        (SELECT *\n",
    "                        FROM (SELECT *,\n",
    "                              COUNT(rating) OVER (PARTITION BY book_id) AS review_cnt\n",
    "                              FROM (SELECT b.book_id, a.author_id, a.author, r.rating\n",
    "                                     FROM books AS b\n",
    "                                     LEFT JOIN authors AS a ON b.author_id = a.author_id\n",
    "                                     LEFT JOIN ratings AS r ON r.book_id = b.book_id) AS book_reviews) AS book_rev_cnt\n",
    "                        WHERE review_cnt > 50),\n",
    "                        \n",
    "                        book_rev_avg AS\n",
    "                        (SELECT *,\n",
    "                               AVG(rating) OVER (PARTITION BY book_id)AS avg_review_book\n",
    "                        FROM rev_50)\n",
    "                        \n",
    "                        SELECT DISTINCT (author_id), author,\n",
    "                               AVG(avg_review_book) OVER (PARTITION BY author_id) AS avg_review_author\n",
    "                        FROM book_rev_avg\n",
    "                        ORDER BY 3 DESC\n",
    "                        LIMIT 1\n",
    "                    '''"
   ]
  },
  {
   "cell_type": "code",
   "execution_count": 15,
   "id": "cb3bc46a",
   "metadata": {},
   "outputs": [
    {
     "data": {
      "text/html": [
       "<div>\n",
       "<style scoped>\n",
       "    .dataframe tbody tr th:only-of-type {\n",
       "        vertical-align: middle;\n",
       "    }\n",
       "\n",
       "    .dataframe tbody tr th {\n",
       "        vertical-align: top;\n",
       "    }\n",
       "\n",
       "    .dataframe thead th {\n",
       "        text-align: right;\n",
       "    }\n",
       "</style>\n",
       "<table border=\"1\" class=\"dataframe\">\n",
       "  <thead>\n",
       "    <tr style=\"text-align: right;\">\n",
       "      <th></th>\n",
       "      <th>author_id</th>\n",
       "      <th>author</th>\n",
       "      <th>avg_review_author</th>\n",
       "    </tr>\n",
       "  </thead>\n",
       "  <tbody>\n",
       "    <tr>\n",
       "      <th>0</th>\n",
       "      <td>236</td>\n",
       "      <td>J.K. Rowling/Mary GrandPré</td>\n",
       "      <td>4.287097</td>\n",
       "    </tr>\n",
       "  </tbody>\n",
       "</table>\n",
       "</div>"
      ],
      "text/plain": [
       "   author_id                      author  avg_review_author\n",
       "0        236  J.K. Rowling/Mary GrandPré           4.287097"
      ]
     },
     "execution_count": 15,
     "metadata": {},
     "output_type": "execute_result"
    }
   ],
   "source": [
    "pd.io.sql.read_sql(author_top_review, con = engine) "
   ]
  },
  {
   "cell_type": "markdown",
   "id": "5b57c484",
   "metadata": {},
   "source": [
    "Среди книг с 50-ю и более оценками, автор с самой высокой средней оценкой книг - J.K. Rowling/Mary GrandPré с рейтингом 4.3"
   ]
  },
  {
   "cell_type": "markdown",
   "id": "8ea90bb4",
   "metadata": {},
   "source": [
    "## Определени количества обзоров среди наиболее активных пользователей"
   ]
  },
  {
   "cell_type": "markdown",
   "id": "efa9a3a2",
   "metadata": {},
   "source": [
    "Необходимо определить среднее количество обзоров от пользователей, которые поставили больше 50 оценок."
   ]
  },
  {
   "cell_type": "code",
   "execution_count": 16,
   "id": "95d302d5",
   "metadata": {},
   "outputs": [],
   "source": [
    "avg_cnt_rev = ''' SELECT AVG(count)\n",
    "                  FROM (SELECT DISTINCT username, COUNT(review_id) OVER (PARTITION BY username)\n",
    "                  FROM reviews\n",
    "                  WHERE username IN (SELECT username\n",
    "                                    FROM (SELECT username,\n",
    "                                          COUNT(rating)\n",
    "                                    FROM ratings\n",
    "                                    GROUP BY 1) AS rat_cnt\n",
    "                                    WHERE count > 50)) AS rev_cnt\n",
    "              '''"
   ]
  },
  {
   "cell_type": "code",
   "execution_count": 17,
   "id": "aa9e0956",
   "metadata": {},
   "outputs": [
    {
     "data": {
      "text/html": [
       "<div>\n",
       "<style scoped>\n",
       "    .dataframe tbody tr th:only-of-type {\n",
       "        vertical-align: middle;\n",
       "    }\n",
       "\n",
       "    .dataframe tbody tr th {\n",
       "        vertical-align: top;\n",
       "    }\n",
       "\n",
       "    .dataframe thead th {\n",
       "        text-align: right;\n",
       "    }\n",
       "</style>\n",
       "<table border=\"1\" class=\"dataframe\">\n",
       "  <thead>\n",
       "    <tr style=\"text-align: right;\">\n",
       "      <th></th>\n",
       "      <th>avg</th>\n",
       "    </tr>\n",
       "  </thead>\n",
       "  <tbody>\n",
       "    <tr>\n",
       "      <th>0</th>\n",
       "      <td>24.333333</td>\n",
       "    </tr>\n",
       "  </tbody>\n",
       "</table>\n",
       "</div>"
      ],
      "text/plain": [
       "         avg\n",
       "0  24.333333"
      ]
     },
     "execution_count": 17,
     "metadata": {},
     "output_type": "execute_result"
    }
   ],
   "source": [
    "pd.io.sql.read_sql(avg_cnt_rev, con = engine) "
   ]
  },
  {
   "cell_type": "markdown",
   "id": "f4a4069e",
   "metadata": {},
   "source": [
    "Среднее количество обзоров от пользователей, поставивших более 50 оценок, равно 24,33."
   ]
  }
 ],
 "metadata": {
  "ExecuteTimeLog": [
   {
    "duration": 495,
    "start_time": "2022-12-09T06:18:58.907Z"
   },
   {
    "duration": 8465,
    "start_time": "2022-12-09T06:18:59.404Z"
   },
   {
    "duration": 274,
    "start_time": "2022-12-09T06:19:07.870Z"
   },
   {
    "duration": 75,
    "start_time": "2022-12-09T06:19:08.147Z"
   },
   {
    "duration": 77,
    "start_time": "2022-12-09T06:19:08.224Z"
   },
   {
    "duration": 76,
    "start_time": "2022-12-09T06:19:08.303Z"
   },
   {
    "duration": 77,
    "start_time": "2022-12-09T06:19:08.381Z"
   },
   {
    "duration": 2,
    "start_time": "2022-12-09T06:19:08.460Z"
   },
   {
    "duration": 80,
    "start_time": "2022-12-09T06:19:08.464Z"
   },
   {
    "duration": 3,
    "start_time": "2022-12-09T06:19:08.546Z"
   },
   {
    "duration": 121,
    "start_time": "2022-12-09T06:19:08.550Z"
   },
   {
    "duration": 3,
    "start_time": "2022-12-09T06:19:08.672Z"
   },
   {
    "duration": 89,
    "start_time": "2022-12-09T06:19:08.676Z"
   },
   {
    "duration": 3,
    "start_time": "2022-12-09T06:19:08.766Z"
   },
   {
    "duration": 93,
    "start_time": "2022-12-09T06:19:08.770Z"
   },
   {
    "duration": 3,
    "start_time": "2022-12-09T06:19:08.865Z"
   },
   {
    "duration": 86,
    "start_time": "2022-12-09T06:19:08.869Z"
   },
   {
    "duration": 114,
    "start_time": "2022-12-09T06:20:14.508Z"
   },
   {
    "duration": 109,
    "start_time": "2022-12-09T06:20:23.478Z"
   },
   {
    "duration": 3,
    "start_time": "2022-12-09T06:21:15.048Z"
   },
   {
    "duration": 88,
    "start_time": "2022-12-09T06:21:15.880Z"
   },
   {
    "duration": 4,
    "start_time": "2022-12-09T06:21:19.453Z"
   },
   {
    "duration": 83,
    "start_time": "2022-12-09T06:21:20.123Z"
   },
   {
    "duration": 10,
    "start_time": "2022-12-09T08:40:40.839Z"
   },
   {
    "duration": 44,
    "start_time": "2022-12-09T08:40:41.361Z"
   },
   {
    "duration": 633,
    "start_time": "2022-12-09T08:40:45.617Z"
   },
   {
    "duration": 9298,
    "start_time": "2022-12-09T08:40:46.256Z"
   },
   {
    "duration": 79,
    "start_time": "2022-12-09T08:40:55.556Z"
   },
   {
    "duration": 14,
    "start_time": "2022-12-09T08:40:55.638Z"
   },
   {
    "duration": 15,
    "start_time": "2022-12-09T08:40:55.654Z"
   },
   {
    "duration": 15,
    "start_time": "2022-12-09T08:40:55.671Z"
   },
   {
    "duration": 15,
    "start_time": "2022-12-09T08:40:55.687Z"
   },
   {
    "duration": 11,
    "start_time": "2022-12-09T08:40:55.704Z"
   },
   {
    "duration": 47,
    "start_time": "2022-12-09T08:40:55.716Z"
   },
   {
    "duration": 3,
    "start_time": "2022-12-09T08:40:55.765Z"
   },
   {
    "duration": 5,
    "start_time": "2022-12-09T08:40:55.770Z"
   },
   {
    "duration": 155,
    "start_time": "2022-12-09T08:40:55.776Z"
   },
   {
    "duration": 60,
    "start_time": "2022-12-09T08:41:25.471Z"
   },
   {
    "duration": 2,
    "start_time": "2022-12-09T08:42:29.270Z"
   },
   {
    "duration": 7,
    "start_time": "2022-12-09T08:42:29.741Z"
   },
   {
    "duration": 144,
    "start_time": "2022-12-09T08:42:30.060Z"
   },
   {
    "duration": 3,
    "start_time": "2022-12-09T08:44:00.275Z"
   },
   {
    "duration": 39,
    "start_time": "2022-12-09T08:44:06.652Z"
   },
   {
    "duration": 3,
    "start_time": "2022-12-09T08:44:42.365Z"
   },
   {
    "duration": 106,
    "start_time": "2022-12-09T08:44:51.160Z"
   },
   {
    "duration": 2,
    "start_time": "2022-12-09T08:46:36.692Z"
   },
   {
    "duration": 30,
    "start_time": "2022-12-09T08:46:37.158Z"
   },
   {
    "duration": 4,
    "start_time": "2022-12-09T08:47:32.359Z"
   },
   {
    "duration": 46,
    "start_time": "2022-12-09T08:47:32.654Z"
   },
   {
    "duration": 3,
    "start_time": "2022-12-09T08:47:54.516Z"
   },
   {
    "duration": 28,
    "start_time": "2022-12-09T08:47:54.749Z"
   },
   {
    "duration": 3,
    "start_time": "2022-12-09T08:53:36.367Z"
   },
   {
    "duration": 337,
    "start_time": "2022-12-09T08:53:36.772Z"
   },
   {
    "duration": 3,
    "start_time": "2022-12-09T08:55:00.888Z"
   },
   {
    "duration": 196,
    "start_time": "2022-12-09T08:55:01.195Z"
   },
   {
    "duration": 3,
    "start_time": "2022-12-09T08:56:41.351Z"
   },
   {
    "duration": 122,
    "start_time": "2022-12-09T08:56:41.797Z"
   },
   {
    "duration": 3,
    "start_time": "2022-12-09T08:56:49.809Z"
   },
   {
    "duration": 104,
    "start_time": "2022-12-09T08:56:50.193Z"
   },
   {
    "duration": 3,
    "start_time": "2022-12-09T08:57:29.548Z"
   },
   {
    "duration": 114,
    "start_time": "2022-12-09T08:57:30.885Z"
   },
   {
    "duration": 3,
    "start_time": "2022-12-09T08:57:36.844Z"
   },
   {
    "duration": 20,
    "start_time": "2022-12-09T08:57:37.292Z"
   },
   {
    "duration": 3,
    "start_time": "2022-12-09T08:58:13.477Z"
   },
   {
    "duration": 100,
    "start_time": "2022-12-09T08:58:13.755Z"
   },
   {
    "duration": 3,
    "start_time": "2022-12-09T08:58:18.831Z"
   },
   {
    "duration": 181,
    "start_time": "2022-12-09T08:58:19.113Z"
   },
   {
    "duration": 3,
    "start_time": "2022-12-09T08:58:47.632Z"
   },
   {
    "duration": 51,
    "start_time": "2022-12-09T08:58:47.990Z"
   },
   {
    "duration": 3,
    "start_time": "2022-12-09T09:01:37.274Z"
   },
   {
    "duration": 88,
    "start_time": "2022-12-09T09:01:38.626Z"
   },
   {
    "duration": 3,
    "start_time": "2022-12-09T09:01:50.472Z"
   },
   {
    "duration": 33,
    "start_time": "2022-12-09T09:01:50.904Z"
   },
   {
    "duration": 2,
    "start_time": "2022-12-09T09:05:14.669Z"
   },
   {
    "duration": 98,
    "start_time": "2022-12-09T09:05:15.065Z"
   },
   {
    "duration": 3,
    "start_time": "2022-12-09T09:06:08.934Z"
   },
   {
    "duration": 253,
    "start_time": "2022-12-09T09:06:09.183Z"
   },
   {
    "duration": 3,
    "start_time": "2022-12-09T09:08:09.417Z"
   },
   {
    "duration": 42,
    "start_time": "2022-12-09T09:08:09.715Z"
   },
   {
    "duration": 3,
    "start_time": "2022-12-09T09:08:44.548Z"
   },
   {
    "duration": 99,
    "start_time": "2022-12-09T09:08:44.788Z"
   },
   {
    "duration": 3,
    "start_time": "2022-12-09T09:08:55.470Z"
   },
   {
    "duration": 94,
    "start_time": "2022-12-09T09:08:56.177Z"
   },
   {
    "duration": 3,
    "start_time": "2022-12-09T09:09:08.077Z"
   },
   {
    "duration": 41,
    "start_time": "2022-12-09T09:09:08.480Z"
   },
   {
    "duration": 3,
    "start_time": "2022-12-09T09:09:32.295Z"
   },
   {
    "duration": 44,
    "start_time": "2022-12-09T09:09:32.661Z"
   },
   {
    "duration": 3,
    "start_time": "2022-12-09T09:10:10.840Z"
   },
   {
    "duration": 584,
    "start_time": "2022-12-09T09:10:29.304Z"
   },
   {
    "duration": 8329,
    "start_time": "2022-12-09T09:10:29.890Z"
   },
   {
    "duration": 49,
    "start_time": "2022-12-09T09:10:38.221Z"
   },
   {
    "duration": 12,
    "start_time": "2022-12-09T09:10:38.272Z"
   },
   {
    "duration": 11,
    "start_time": "2022-12-09T09:10:38.286Z"
   },
   {
    "duration": 13,
    "start_time": "2022-12-09T09:10:38.298Z"
   },
   {
    "duration": 12,
    "start_time": "2022-12-09T09:10:38.313Z"
   },
   {
    "duration": 2,
    "start_time": "2022-12-09T09:10:38.327Z"
   },
   {
    "duration": 20,
    "start_time": "2022-12-09T09:10:38.331Z"
   },
   {
    "duration": 3,
    "start_time": "2022-12-09T09:10:38.353Z"
   },
   {
    "duration": 50,
    "start_time": "2022-12-09T09:10:38.358Z"
   },
   {
    "duration": 2,
    "start_time": "2022-12-09T09:10:38.410Z"
   },
   {
    "duration": 17,
    "start_time": "2022-12-09T09:10:38.414Z"
   },
   {
    "duration": 3,
    "start_time": "2022-12-09T09:10:38.433Z"
   },
   {
    "duration": 29,
    "start_time": "2022-12-09T09:10:38.437Z"
   },
   {
    "duration": 3,
    "start_time": "2022-12-09T09:10:38.467Z"
   },
   {
    "duration": 27,
    "start_time": "2022-12-09T09:10:38.472Z"
   },
   {
    "duration": 552,
    "start_time": "2022-12-09T11:14:08.683Z"
   },
   {
    "duration": 11407,
    "start_time": "2022-12-09T11:14:09.236Z"
   },
   {
    "duration": 55,
    "start_time": "2022-12-09T11:14:20.645Z"
   },
   {
    "duration": 12,
    "start_time": "2022-12-09T11:14:20.702Z"
   },
   {
    "duration": 11,
    "start_time": "2022-12-09T11:14:20.716Z"
   },
   {
    "duration": 22,
    "start_time": "2022-12-09T11:14:20.729Z"
   },
   {
    "duration": 12,
    "start_time": "2022-12-09T11:14:20.752Z"
   },
   {
    "duration": 3,
    "start_time": "2022-12-09T11:14:20.766Z"
   },
   {
    "duration": 34,
    "start_time": "2022-12-09T11:14:20.771Z"
   },
   {
    "duration": 10,
    "start_time": "2022-12-09T11:14:20.807Z"
   },
   {
    "duration": 56,
    "start_time": "2022-12-09T11:14:20.819Z"
   },
   {
    "duration": 3,
    "start_time": "2022-12-09T11:14:20.877Z"
   },
   {
    "duration": 29,
    "start_time": "2022-12-09T11:14:20.881Z"
   },
   {
    "duration": 3,
    "start_time": "2022-12-09T11:14:20.912Z"
   },
   {
    "duration": 33,
    "start_time": "2022-12-09T11:14:20.917Z"
   },
   {
    "duration": 3,
    "start_time": "2022-12-09T11:14:20.952Z"
   },
   {
    "duration": 25,
    "start_time": "2022-12-09T11:14:20.957Z"
   }
  ],
  "kernelspec": {
   "display_name": "Python 3 (ipykernel)",
   "language": "python",
   "name": "python3"
  },
  "language_info": {
   "codemirror_mode": {
    "name": "ipython",
    "version": 3
   },
   "file_extension": ".py",
   "mimetype": "text/x-python",
   "name": "python",
   "nbconvert_exporter": "python",
   "pygments_lexer": "ipython3",
   "version": "3.9.7"
  },
  "toc": {
   "base_numbering": 1,
   "nav_menu": {},
   "number_sections": true,
   "sideBar": true,
   "skip_h1_title": true,
   "title_cell": "Table of Contents",
   "title_sidebar": "Contents",
   "toc_cell": false,
   "toc_position": {},
   "toc_section_display": true,
   "toc_window_display": false
  }
 },
 "nbformat": 4,
 "nbformat_minor": 5
}
