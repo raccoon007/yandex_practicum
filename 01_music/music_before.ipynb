{
 "cells": [
  {
   "cell_type": "markdown",
   "metadata": {
    "id": "VUC88oWjTJw2"
   },
   "source": [
    "# Проект по сравнению поведения пользователей Яндекс.Музыки\n",
    "\n",
    "**Цель исследования** — проверить гипотезы о том, как поведение пользователей Яндекс.Музыки различается в зависимости от дня недели, времени суток и региона слушателя.\n",
    "\n",
    "Проверяемые гипотезы:\n",
    "1. Активность пользователей зависит от дня недели. Причём в Москве и Петербурге это проявляется по-разному.\n",
    "2. В понедельник утром в Москве преобладают одни жанры, а в Петербурге — другие. Так же и вечером пятницы преобладают разные жанры — в зависимости от города. \n",
    "3. Москва и Петербург предпочитают разные жанры музыки. В Москве чаще слушают поп-музыку, в Петербурге — русский рэп.\n",
    "\n",
    "**Задачи исследования**\n",
    "1. Проверить исходные данные на ошибки и оценить их влияние на исследование.\n",
    "2. Определить возможность исправить самые критичные ошибки данных.\n",
    "\n",
    "**Источник данных** - файл с данными о поведении пользователей на платформе Яндекс.Музыка. \n",
    "\n",
    "**Навыки и инстуременты** - python, pandas.\n",
    "\n",
    " \n",
    "# Резюме\n",
    "\n",
    "Из трёх заявленных гипотез только первая подтвердилась полностью, а вот остальные лишь частично. \n",
    "Тем не менее, полученные результаты показывают, что во вкусах пользователей Москвы и Петербурга больше общего, чем различий. Если различия в предпочтениях и существуют, то на основной массе пользователей они незаметны.\n",
    "\n",
    "Однако важно помнить, что из-за невозможности корректно обработать в заданных условиях пропущенныые значения в поле `genre` в исходном датасете, результаты проверки второй и третьей гипотезы не могут считаться достоверными.\n",
    "\n",
    "\n",
    "# Краткое содержание работы\n",
    "\n",
    "\n",
    "Исследование проводилось в три этапа:\n",
    " 1. Обзор данных - загрузка библиотеки `pandas` и исходных данных, первичное знакомство с данными посредством `info()` и `head()`\n",
    " 2. Предобработка данных - устранение выявленных недостатков в данных:  нарушений в стиле заголовков, пропущенных значений, дубликатов.\n",
    "\n",
    "Все заголовки были приведены к единому стилю методами `df.columns` и `rename()`, а пропущенные значения заменены на `'unknown'` при помощи `fillna()`. \n",
    "\n",
    "Явные дубликаты были обработаны при помощи метода `drop_duplicates()`. Для поиска смысловых дубликатов использовались методы `sort_values()` и `unique()`, а для их замены - созданная функция, использующая метод`replace()`.\n",
    "\n",
    " 3. Проверка гипотез - получение количественного выражения активности пользователей в приложении и на основании сравнения полученных результатов проверка заданных гипотез."
   ]
  },
  {
   "cell_type": "markdown",
   "metadata": {
    "id": "Ml1hmfXC_Zcs"
   },
   "source": [
    "## Обзор данных"
   ]
  },
  {
   "cell_type": "markdown",
   "metadata": {
    "id": "57eAOGIz_Zcs"
   },
   "source": [
    "Импортирую библиотеку `pandas`:"
   ]
  },
  {
   "cell_type": "code",
   "execution_count": 1,
   "metadata": {
    "id": "AXN7PHPN_Zcs"
   },
   "outputs": [],
   "source": [
    "import pandas as pd"
   ]
  },
  {
   "cell_type": "markdown",
   "metadata": {
    "id": "rDoOMd3uTqnZ"
   },
   "source": [
    "Загружаю файл с данными о пользователях и вывожу на экран первые десять строк таблицы для знакомства с данными:"
   ]
  },
  {
   "cell_type": "code",
   "execution_count": 3,
   "metadata": {
    "id": "oWTVX3gW_Zct"
   },
   "outputs": [
    {
     "data": {
      "text/html": [
       "<div>\n",
       "<style scoped>\n",
       "    .dataframe tbody tr th:only-of-type {\n",
       "        vertical-align: middle;\n",
       "    }\n",
       "\n",
       "    .dataframe tbody tr th {\n",
       "        vertical-align: top;\n",
       "    }\n",
       "\n",
       "    .dataframe thead th {\n",
       "        text-align: right;\n",
       "    }\n",
       "</style>\n",
       "<table border=\"1\" class=\"dataframe\">\n",
       "  <thead>\n",
       "    <tr style=\"text-align: right;\">\n",
       "      <th></th>\n",
       "      <th>userID</th>\n",
       "      <th>Track</th>\n",
       "      <th>artist</th>\n",
       "      <th>genre</th>\n",
       "      <th>City</th>\n",
       "      <th>time</th>\n",
       "      <th>Day</th>\n",
       "    </tr>\n",
       "  </thead>\n",
       "  <tbody>\n",
       "    <tr>\n",
       "      <th>0</th>\n",
       "      <td>FFB692EC</td>\n",
       "      <td>Kamigata To Boots</td>\n",
       "      <td>The Mass Missile</td>\n",
       "      <td>rock</td>\n",
       "      <td>Saint-Petersburg</td>\n",
       "      <td>20:28:33</td>\n",
       "      <td>Wednesday</td>\n",
       "    </tr>\n",
       "    <tr>\n",
       "      <th>1</th>\n",
       "      <td>55204538</td>\n",
       "      <td>Delayed Because of Accident</td>\n",
       "      <td>Andreas Rönnberg</td>\n",
       "      <td>rock</td>\n",
       "      <td>Moscow</td>\n",
       "      <td>14:07:09</td>\n",
       "      <td>Friday</td>\n",
       "    </tr>\n",
       "    <tr>\n",
       "      <th>2</th>\n",
       "      <td>20EC38</td>\n",
       "      <td>Funiculì funiculà</td>\n",
       "      <td>Mario Lanza</td>\n",
       "      <td>pop</td>\n",
       "      <td>Saint-Petersburg</td>\n",
       "      <td>20:58:07</td>\n",
       "      <td>Wednesday</td>\n",
       "    </tr>\n",
       "    <tr>\n",
       "      <th>3</th>\n",
       "      <td>A3DD03C9</td>\n",
       "      <td>Dragons in the Sunset</td>\n",
       "      <td>Fire + Ice</td>\n",
       "      <td>folk</td>\n",
       "      <td>Saint-Petersburg</td>\n",
       "      <td>08:37:09</td>\n",
       "      <td>Monday</td>\n",
       "    </tr>\n",
       "    <tr>\n",
       "      <th>4</th>\n",
       "      <td>E2DC1FAE</td>\n",
       "      <td>Soul People</td>\n",
       "      <td>Space Echo</td>\n",
       "      <td>dance</td>\n",
       "      <td>Moscow</td>\n",
       "      <td>08:34:34</td>\n",
       "      <td>Monday</td>\n",
       "    </tr>\n",
       "    <tr>\n",
       "      <th>5</th>\n",
       "      <td>842029A1</td>\n",
       "      <td>Преданная</td>\n",
       "      <td>IMPERVTOR</td>\n",
       "      <td>rusrap</td>\n",
       "      <td>Saint-Petersburg</td>\n",
       "      <td>13:09:41</td>\n",
       "      <td>Friday</td>\n",
       "    </tr>\n",
       "    <tr>\n",
       "      <th>6</th>\n",
       "      <td>4CB90AA5</td>\n",
       "      <td>True</td>\n",
       "      <td>Roman Messer</td>\n",
       "      <td>dance</td>\n",
       "      <td>Moscow</td>\n",
       "      <td>13:00:07</td>\n",
       "      <td>Wednesday</td>\n",
       "    </tr>\n",
       "    <tr>\n",
       "      <th>7</th>\n",
       "      <td>F03E1C1F</td>\n",
       "      <td>Feeling This Way</td>\n",
       "      <td>Polina Griffith</td>\n",
       "      <td>dance</td>\n",
       "      <td>Moscow</td>\n",
       "      <td>20:47:49</td>\n",
       "      <td>Wednesday</td>\n",
       "    </tr>\n",
       "    <tr>\n",
       "      <th>8</th>\n",
       "      <td>8FA1D3BE</td>\n",
       "      <td>И вновь продолжается бой</td>\n",
       "      <td>NaN</td>\n",
       "      <td>ruspop</td>\n",
       "      <td>Moscow</td>\n",
       "      <td>09:17:40</td>\n",
       "      <td>Friday</td>\n",
       "    </tr>\n",
       "    <tr>\n",
       "      <th>9</th>\n",
       "      <td>E772D5C0</td>\n",
       "      <td>Pessimist</td>\n",
       "      <td>NaN</td>\n",
       "      <td>dance</td>\n",
       "      <td>Saint-Petersburg</td>\n",
       "      <td>21:20:49</td>\n",
       "      <td>Wednesday</td>\n",
       "    </tr>\n",
       "  </tbody>\n",
       "</table>\n",
       "</div>"
      ],
      "text/plain": [
       "     userID                        Track            artist   genre  \\\n",
       "0  FFB692EC            Kamigata To Boots  The Mass Missile    rock   \n",
       "1  55204538  Delayed Because of Accident  Andreas Rönnberg    rock   \n",
       "2    20EC38            Funiculì funiculà       Mario Lanza     pop   \n",
       "3  A3DD03C9        Dragons in the Sunset        Fire + Ice    folk   \n",
       "4  E2DC1FAE                  Soul People        Space Echo   dance   \n",
       "5  842029A1                    Преданная         IMPERVTOR  rusrap   \n",
       "6  4CB90AA5                         True      Roman Messer   dance   \n",
       "7  F03E1C1F             Feeling This Way   Polina Griffith   dance   \n",
       "8  8FA1D3BE     И вновь продолжается бой               NaN  ruspop   \n",
       "9  E772D5C0                    Pessimist               NaN   dance   \n",
       "\n",
       "             City        time        Day  \n",
       "0  Saint-Petersburg  20:28:33  Wednesday  \n",
       "1            Moscow  14:07:09     Friday  \n",
       "2  Saint-Petersburg  20:58:07  Wednesday  \n",
       "3  Saint-Petersburg  08:37:09     Monday  \n",
       "4            Moscow  08:34:34     Monday  \n",
       "5  Saint-Petersburg  13:09:41     Friday  \n",
       "6            Moscow  13:00:07  Wednesday  \n",
       "7            Moscow  20:47:49  Wednesday  \n",
       "8            Moscow  09:17:40     Friday  \n",
       "9  Saint-Petersburg  21:20:49  Wednesday  "
      ]
     },
     "execution_count": 3,
     "metadata": {},
     "output_type": "execute_result"
    }
   ],
   "source": [
    "df.head(10)"
   ]
  },
  {
   "cell_type": "markdown",
   "metadata": {
    "id": "EO73Kwic_Zct"
   },
   "source": [
    "Получаю общую информацию о таблице:"
   ]
  },
  {
   "cell_type": "code",
   "execution_count": 4,
   "metadata": {
    "id": "DSf2kIb-_Zct"
   },
   "outputs": [
    {
     "name": "stdout",
     "output_type": "stream",
     "text": [
      "<class 'pandas.core.frame.DataFrame'>\n",
      "RangeIndex: 65079 entries, 0 to 65078\n",
      "Data columns (total 7 columns):\n",
      " #   Column    Non-Null Count  Dtype \n",
      "---  ------    --------------  ----- \n",
      " 0     userID  65079 non-null  object\n",
      " 1   Track     63848 non-null  object\n",
      " 2   artist    57876 non-null  object\n",
      " 3   genre     63881 non-null  object\n",
      " 4     City    65079 non-null  object\n",
      " 5   time      65079 non-null  object\n",
      " 6   Day       65079 non-null  object\n",
      "dtypes: object(7)\n",
      "memory usage: 3.5+ MB\n"
     ]
    }
   ],
   "source": [
    "df.info()"
   ]
  },
  {
   "cell_type": "markdown",
   "metadata": {
    "id": "TaQ2Iwbr_Zct"
   },
   "source": [
    "Итак, в таблице семь столбцов. Тип данных во всех столбцах — `object`.\n",
    "\n",
    "Согласно документации к данным:\n",
    "* `userID` — идентификатор пользователя;\n",
    "* `Track` — название трека;  \n",
    "* `artist` — имя исполнителя;\n",
    "* `genre` — название жанра;\n",
    "* `City` — город пользователя;\n",
    "* `time` — время начала прослушивания;\n",
    "* `Day` — день недели."
   ]
  },
  {
   "cell_type": "markdown",
   "metadata": {
    "id": "MCB6-dXG_Zct"
   },
   "source": [
    "**Выводы**\n",
    "\n",
    "В каждой строке таблицы — данные о прослушанном треке. Часть колонок описывает саму композицию: название, исполнителя и жанр. Остальные данные рассказывают о пользователе: из какого он города, когда он слушал музыку. \n",
    "\n",
    "Предварительно можно считать, что, данных достаточно для проверки гипотез, но, необходимо учитывать выявленные недостатки в них:\n",
    " - Названия колонок не имеют единого стиля:\n",
    "    1. Строчные буквы сочетаются с прописными.\n",
    "    2. Встречаются пробелы.\n",
    "    3. Для столбца userID не используется змеиный стиль.\n",
    " - Количество значений в столбцах различается, а значит в них есть пропущенные значения. \n",
    " \n",
    "Для выполнения исследования необходимо устранить выявленные проблемы в данных."
   ]
  },
  {
   "cell_type": "markdown",
   "metadata": {
    "id": "SjYF6Ub9_Zct"
   },
   "source": [
    "## Предобработка данных"
   ]
  },
  {
   "cell_type": "markdown",
   "metadata": {},
   "source": [
    "Начну устранение недостатков данных с заголовков - приведу их к единому стилю."
   ]
  },
  {
   "cell_type": "markdown",
   "metadata": {
    "id": "dIaKXr29_Zct"
   },
   "source": [
    "### Стиль заголовков"
   ]
  },
  {
   "cell_type": "markdown",
   "metadata": {},
   "source": [
    "Выведу на экран назвнаия столбцов:"
   ]
  },
  {
   "cell_type": "code",
   "execution_count": 5,
   "metadata": {
    "id": "oKOTdF_Q_Zct"
   },
   "outputs": [
    {
     "data": {
      "text/plain": [
       "Index(['  userID', 'Track', 'artist', 'genre', '  City  ', 'time', 'Day'], dtype='object')"
      ]
     },
     "execution_count": 5,
     "metadata": {},
     "output_type": "execute_result"
    }
   ],
   "source": [
    "df.columns"
   ]
  },
  {
   "cell_type": "markdown",
   "metadata": {},
   "source": [
    "Приведу названия столбцов к единому стилю:"
   ]
  },
  {
   "cell_type": "code",
   "execution_count": 6,
   "metadata": {
    "id": "ISlFqs5y_Zct"
   },
   "outputs": [],
   "source": [
    "df = df.rename(columns={'  userID': 'user_id', 'Track': 'track', '  City  ': 'city', 'Day': 'day'})"
   ]
  },
  {
   "cell_type": "markdown",
   "metadata": {
    "id": "1dqbh00J_Zct"
   },
   "source": [
    "Проверю изменения:"
   ]
  },
  {
   "cell_type": "code",
   "execution_count": 7,
   "metadata": {
    "id": "d4NOAmTW_Zct"
   },
   "outputs": [
    {
     "data": {
      "text/plain": [
       "Index(['user_id', 'track', 'artist', 'genre', 'city', 'time', 'day'], dtype='object')"
      ]
     },
     "execution_count": 7,
     "metadata": {},
     "output_type": "execute_result"
    }
   ],
   "source": [
    "df.columns"
   ]
  },
  {
   "cell_type": "markdown",
   "metadata": {},
   "source": [
    "Заголовки изменены корректно, можно двигаться дальше. Теперь посмотрю какие значения пропущены."
   ]
  },
  {
   "cell_type": "markdown",
   "metadata": {
    "id": "5ISfbcfY_Zct"
   },
   "source": [
    "### Пропуски значений"
   ]
  },
  {
   "cell_type": "markdown",
   "metadata": {},
   "source": [
    "Определяю количество пропущенных значений по столбцам:"
   ]
  },
  {
   "cell_type": "code",
   "execution_count": 8,
   "metadata": {
    "id": "RskX29qr_Zct"
   },
   "outputs": [
    {
     "data": {
      "text/plain": [
       "user_id       0\n",
       "track      1231\n",
       "artist     7203\n",
       "genre      1198\n",
       "city          0\n",
       "time          0\n",
       "day           0\n",
       "dtype: int64"
      ]
     },
     "execution_count": 8,
     "metadata": {},
     "output_type": "execute_result"
    }
   ],
   "source": [
    "df.isna().sum()"
   ]
  },
  {
   "cell_type": "markdown",
   "metadata": {
    "id": "qubhgnlO_Zct"
   },
   "source": [
    "Значения пропущены в трех колонках: `track`, `artist` и `genre`. Так как в рамках исследования содержане первых двух колонок не важны, то пропуски в них можно заменить \"заглушкой\", а вот пропуски в столбце `genre` могут помешать сравнению музыкальных вкусов в Москве и Санкт-Петербурге. \n",
    "\n",
    "В подобных случаях необходимо установить причину пропусков и восстановить данные, если это возможно. Так как в учебном провекте такой возможности нет, то придется также заменить значения, но с оценкой влияния этих данных на расчеты (проводится при проверки второй гипотезы в п.3.2).\n",
    "\n",
    "В качестве \"заглушки\" для пропущенных значений будет использоваться обозначение 'unknown'."
   ]
  },
  {
   "cell_type": "markdown",
   "metadata": {
    "id": "fSv2laPA_Zct"
   },
   "source": [
    "Создам список с названием колонок, в которых будет производится замена, и в цикле заменю пропущенные значения:"
   ]
  },
  {
   "cell_type": "code",
   "execution_count": 9,
   "metadata": {
    "id": "KplB5qWs_Zct"
   },
   "outputs": [],
   "source": [
    "# перебор названий столбцов в цикле и замена пропущенных значений на 'unknown'\n",
    "columns_to_replace = ['track','artist','genre']\n",
    "\n",
    "for col in columns_to_replace:\n",
    "    df[col].fillna('unknown', inplace=True)"
   ]
  },
  {
   "cell_type": "markdown",
   "metadata": {
    "id": "Ilsm-MZo_Zct"
   },
   "source": [
    "Проверяю обработку пропусков:"
   ]
  },
  {
   "cell_type": "code",
   "execution_count": 10,
   "metadata": {
    "id": "Tq4nYRX4_Zct"
   },
   "outputs": [
    {
     "data": {
      "text/plain": [
       "user_id    0\n",
       "track      0\n",
       "artist     0\n",
       "genre      0\n",
       "city       0\n",
       "time       0\n",
       "day        0\n",
       "dtype: int64"
      ]
     },
     "execution_count": 10,
     "metadata": {},
     "output_type": "execute_result"
    }
   ],
   "source": [
    "df.isna().sum()"
   ]
  },
  {
   "cell_type": "markdown",
   "metadata": {},
   "source": [
    "Все пустые значения устранены, осталось только проверить данные на дубликаты."
   ]
  },
  {
   "cell_type": "markdown",
   "metadata": {
    "id": "BWKRtBJ3_Zct"
   },
   "source": [
    "### Дубликаты"
   ]
  },
  {
   "cell_type": "markdown",
   "metadata": {},
   "source": [
    "Проверяю датасет на наличие полных дубликатов:"
   ]
  },
  {
   "cell_type": "code",
   "execution_count": 11,
   "metadata": {
    "id": "36eES_S0_Zct"
   },
   "outputs": [
    {
     "data": {
      "text/plain": [
       "3826"
      ]
     },
     "execution_count": 11,
     "metadata": {},
     "output_type": "execute_result"
    }
   ],
   "source": [
    "df.duplicated().sum()"
   ]
  },
  {
   "cell_type": "markdown",
   "metadata": {
    "id": "Ot25h6XR_Zct"
   },
   "source": [
    "Удаляю полные дубликаты и меняю индексацию строк в датасете:"
   ]
  },
  {
   "cell_type": "code",
   "execution_count": 12,
   "metadata": {
    "id": "exFHq6tt_Zct"
   },
   "outputs": [],
   "source": [
    "df = df.drop_duplicates().reset_index(drop=True)"
   ]
  },
  {
   "cell_type": "markdown",
   "metadata": {
    "id": "Im2YwBEG_Zct"
   },
   "source": [
    "Выполняю проверку после удаления:"
   ]
  },
  {
   "cell_type": "code",
   "execution_count": 13,
   "metadata": {
    "id": "-8PuNWQ0_Zct"
   },
   "outputs": [
    {
     "data": {
      "text/plain": [
       "0"
      ]
     },
     "execution_count": 13,
     "metadata": {},
     "output_type": "execute_result"
    }
   ],
   "source": [
    "df.duplicated().sum()"
   ]
  },
  {
   "cell_type": "markdown",
   "metadata": {
    "id": "QlFBsxAr_Zct"
   },
   "source": [
    "Название одного и того же жанра может быть записано немного по-разному, поэтому необходимо проверить содержание этого столбца на наличие неявных дубликатов. Для этого выведу уникальные значения колонки `genre`."
   ]
  },
  {
   "cell_type": "code",
   "execution_count": 14,
   "metadata": {
    "id": "JIUcqzZN_Zct"
   },
   "outputs": [
    {
     "data": {
      "text/plain": [
       "array(['acid', 'acoustic', 'action', 'adult', 'africa', 'afrikaans',\n",
       "       'alternative', 'alternativepunk', 'ambient', 'americana',\n",
       "       'animated', 'anime', 'arabesk', 'arabic', 'arena',\n",
       "       'argentinetango', 'art', 'audiobook', 'author', 'avantgarde',\n",
       "       'axé', 'baile', 'balkan', 'beats', 'bigroom', 'black', 'bluegrass',\n",
       "       'blues', 'bollywood', 'bossa', 'brazilian', 'breakbeat', 'breaks',\n",
       "       'broadway', 'cantautori', 'cantopop', 'canzone', 'caribbean',\n",
       "       'caucasian', 'celtic', 'chamber', 'chanson', 'children', 'chill',\n",
       "       'chinese', 'choral', 'christian', 'christmas', 'classical',\n",
       "       'classicmetal', 'club', 'colombian', 'comedy', 'conjazz',\n",
       "       'contemporary', 'country', 'cuban', 'dance', 'dancehall',\n",
       "       'dancepop', 'dark', 'death', 'deep', 'deutschrock', 'deutschspr',\n",
       "       'dirty', 'disco', 'dnb', 'documentary', 'downbeat', 'downtempo',\n",
       "       'drum', 'dub', 'dubstep', 'eastern', 'easy', 'electronic',\n",
       "       'electropop', 'emo', 'entehno', 'epicmetal', 'estrada', 'ethnic',\n",
       "       'eurofolk', 'european', 'experimental', 'extrememetal', 'fado',\n",
       "       'fairytail', 'film', 'fitness', 'flamenco', 'folk', 'folklore',\n",
       "       'folkmetal', 'folkrock', 'folktronica', 'forró', 'frankreich',\n",
       "       'französisch', 'french', 'funk', 'future', 'gangsta', 'garage',\n",
       "       'german', 'ghazal', 'gitarre', 'glitch', 'gospel', 'gothic',\n",
       "       'grime', 'grunge', 'gypsy', 'handsup', \"hard'n'heavy\", 'hardcore',\n",
       "       'hardstyle', 'hardtechno', 'hip', 'hip-hop', 'hiphop',\n",
       "       'historisch', 'holiday', 'hop', 'horror', 'house', 'hymn', 'idm',\n",
       "       'independent', 'indian', 'indie', 'indipop', 'industrial',\n",
       "       'inspirational', 'instrumental', 'international', 'irish', 'jam',\n",
       "       'japanese', 'jazz', 'jewish', 'jpop', 'jungle', 'k-pop',\n",
       "       'karadeniz', 'karaoke', 'kayokyoku', 'korean', 'laiko', 'latin',\n",
       "       'latino', 'leftfield', 'local', 'lounge', 'loungeelectronic',\n",
       "       'lovers', 'malaysian', 'mandopop', 'marschmusik', 'meditative',\n",
       "       'mediterranean', 'melodic', 'metal', 'metalcore', 'mexican',\n",
       "       'middle', 'minimal', 'miscellaneous', 'modern', 'mood', 'mpb',\n",
       "       'muslim', 'native', 'neoklassik', 'neue', 'new', 'newage',\n",
       "       'newwave', 'nu', 'nujazz', 'numetal', 'oceania', 'old', 'opera',\n",
       "       'orchestral', 'other', 'piano', 'podcasts', 'pop', 'popdance',\n",
       "       'popelectronic', 'popeurodance', 'poprussian', 'post',\n",
       "       'posthardcore', 'postrock', 'power', 'progmetal', 'progressive',\n",
       "       'psychedelic', 'punjabi', 'punk', 'quebecois', 'ragga', 'ram',\n",
       "       'rancheras', 'rap', 'rave', 'reggae', 'reggaeton', 'regional',\n",
       "       'relax', 'religious', 'retro', 'rhythm', 'rnb', 'rnr', 'rock',\n",
       "       'rockabilly', 'rockalternative', 'rockindie', 'rockother',\n",
       "       'romance', 'roots', 'ruspop', 'rusrap', 'rusrock', 'russian',\n",
       "       'salsa', 'samba', 'scenic', 'schlager', 'self', 'sertanejo',\n",
       "       'shanson', 'shoegazing', 'showtunes', 'singer', 'ska', 'skarock',\n",
       "       'slow', 'smooth', 'soft', 'soul', 'soulful', 'sound', 'soundtrack',\n",
       "       'southern', 'specialty', 'speech', 'spiritual', 'sport',\n",
       "       'stonerrock', 'surf', 'swing', 'synthpop', 'synthrock',\n",
       "       'sängerportrait', 'tango', 'tanzorchester', 'taraftar', 'tatar',\n",
       "       'tech', 'techno', 'teen', 'thrash', 'top', 'traditional',\n",
       "       'tradjazz', 'trance', 'tribal', 'trip', 'triphop', 'tropical',\n",
       "       'türk', 'türkçe', 'ukrrock', 'unknown', 'urban', 'uzbek',\n",
       "       'variété', 'vi', 'videogame', 'vocal', 'western', 'world',\n",
       "       'worldbeat', 'ïîï', 'электроника'], dtype=object)"
      ]
     },
     "execution_count": 14,
     "metadata": {},
     "output_type": "execute_result"
    }
   ],
   "source": [
    "df['genre'].sort_values().unique()"
   ]
  },
  {
   "cell_type": "markdown",
   "metadata": {
    "id": "qej-Qmuo_Zct"
   },
   "source": [
    "В полученном списоке неявные дубликаты относятся к жанру `hiphop`. В датасете используются следующие варианты написания:\n",
    "* *hip*,\n",
    "* *hop*,\n",
    "* *hip-hop*.\n",
    "\n",
    "Для устранения разночтений создам функцию для замены значений с двумя параметрами - с корректным названием жанра и с ошибочными вариантами:"
   ]
  },
  {
   "cell_type": "code",
   "execution_count": 15,
   "metadata": {
    "id": "YN5i2hpmSo09"
   },
   "outputs": [],
   "source": [
    "def replace_wrong_genres(wrong_genres, correct_genre):\n",
    "    for wrond_genres in wrong_genres:\n",
    "        df['genre'] = df['genre'].replace(wrong_genres, correct_genre)\n",
    "\n",
    "replace_wrong_genres(['hip', 'hop', 'hip-hop'], 'hiphop')"
   ]
  },
  {
   "cell_type": "markdown",
   "metadata": {
    "id": "zQKF16_RG15m"
   },
   "source": [
    "Проверю уникальные значения столбца `genre` после замены:"
   ]
  },
  {
   "cell_type": "code",
   "execution_count": 16,
   "metadata": {
    "id": "wvixALnFG15m"
   },
   "outputs": [
    {
     "data": {
      "text/plain": [
       "array(['acid', 'acoustic', 'action', 'adult', 'africa', 'afrikaans',\n",
       "       'alternative', 'alternativepunk', 'ambient', 'americana',\n",
       "       'animated', 'anime', 'arabesk', 'arabic', 'arena',\n",
       "       'argentinetango', 'art', 'audiobook', 'author', 'avantgarde',\n",
       "       'axé', 'baile', 'balkan', 'beats', 'bigroom', 'black', 'bluegrass',\n",
       "       'blues', 'bollywood', 'bossa', 'brazilian', 'breakbeat', 'breaks',\n",
       "       'broadway', 'cantautori', 'cantopop', 'canzone', 'caribbean',\n",
       "       'caucasian', 'celtic', 'chamber', 'chanson', 'children', 'chill',\n",
       "       'chinese', 'choral', 'christian', 'christmas', 'classical',\n",
       "       'classicmetal', 'club', 'colombian', 'comedy', 'conjazz',\n",
       "       'contemporary', 'country', 'cuban', 'dance', 'dancehall',\n",
       "       'dancepop', 'dark', 'death', 'deep', 'deutschrock', 'deutschspr',\n",
       "       'dirty', 'disco', 'dnb', 'documentary', 'downbeat', 'downtempo',\n",
       "       'drum', 'dub', 'dubstep', 'eastern', 'easy', 'electronic',\n",
       "       'electropop', 'emo', 'entehno', 'epicmetal', 'estrada', 'ethnic',\n",
       "       'eurofolk', 'european', 'experimental', 'extrememetal', 'fado',\n",
       "       'fairytail', 'film', 'fitness', 'flamenco', 'folk', 'folklore',\n",
       "       'folkmetal', 'folkrock', 'folktronica', 'forró', 'frankreich',\n",
       "       'französisch', 'french', 'funk', 'future', 'gangsta', 'garage',\n",
       "       'german', 'ghazal', 'gitarre', 'glitch', 'gospel', 'gothic',\n",
       "       'grime', 'grunge', 'gypsy', 'handsup', \"hard'n'heavy\", 'hardcore',\n",
       "       'hardstyle', 'hardtechno', 'hiphop', 'historisch', 'holiday',\n",
       "       'horror', 'house', 'hymn', 'idm', 'independent', 'indian', 'indie',\n",
       "       'indipop', 'industrial', 'inspirational', 'instrumental',\n",
       "       'international', 'irish', 'jam', 'japanese', 'jazz', 'jewish',\n",
       "       'jpop', 'jungle', 'k-pop', 'karadeniz', 'karaoke', 'kayokyoku',\n",
       "       'korean', 'laiko', 'latin', 'latino', 'leftfield', 'local',\n",
       "       'lounge', 'loungeelectronic', 'lovers', 'malaysian', 'mandopop',\n",
       "       'marschmusik', 'meditative', 'mediterranean', 'melodic', 'metal',\n",
       "       'metalcore', 'mexican', 'middle', 'minimal', 'miscellaneous',\n",
       "       'modern', 'mood', 'mpb', 'muslim', 'native', 'neoklassik', 'neue',\n",
       "       'new', 'newage', 'newwave', 'nu', 'nujazz', 'numetal', 'oceania',\n",
       "       'old', 'opera', 'orchestral', 'other', 'piano', 'podcasts', 'pop',\n",
       "       'popdance', 'popelectronic', 'popeurodance', 'poprussian', 'post',\n",
       "       'posthardcore', 'postrock', 'power', 'progmetal', 'progressive',\n",
       "       'psychedelic', 'punjabi', 'punk', 'quebecois', 'ragga', 'ram',\n",
       "       'rancheras', 'rap', 'rave', 'reggae', 'reggaeton', 'regional',\n",
       "       'relax', 'religious', 'retro', 'rhythm', 'rnb', 'rnr', 'rock',\n",
       "       'rockabilly', 'rockalternative', 'rockindie', 'rockother',\n",
       "       'romance', 'roots', 'ruspop', 'rusrap', 'rusrock', 'russian',\n",
       "       'salsa', 'samba', 'scenic', 'schlager', 'self', 'sertanejo',\n",
       "       'shanson', 'shoegazing', 'showtunes', 'singer', 'ska', 'skarock',\n",
       "       'slow', 'smooth', 'soft', 'soul', 'soulful', 'sound', 'soundtrack',\n",
       "       'southern', 'specialty', 'speech', 'spiritual', 'sport',\n",
       "       'stonerrock', 'surf', 'swing', 'synthpop', 'synthrock',\n",
       "       'sängerportrait', 'tango', 'tanzorchester', 'taraftar', 'tatar',\n",
       "       'tech', 'techno', 'teen', 'thrash', 'top', 'traditional',\n",
       "       'tradjazz', 'trance', 'tribal', 'trip', 'triphop', 'tropical',\n",
       "       'türk', 'türkçe', 'ukrrock', 'unknown', 'urban', 'uzbek',\n",
       "       'variété', 'vi', 'videogame', 'vocal', 'western', 'world',\n",
       "       'worldbeat', 'ïîï', 'электроника'], dtype=object)"
      ]
     },
     "execution_count": 16,
     "metadata": {},
     "output_type": "execute_result"
    }
   ],
   "source": [
    "df['genre'].sort_values().unique()"
   ]
  },
  {
   "cell_type": "markdown",
   "metadata": {
    "id": "jz6a9-7HQUDd"
   },
   "source": [
    "### Выводы\n",
    "\n",
    "На этапе обзора данных были обнаружены две проблемы в датасете:\n",
    "\n",
    "- нарушения в стиле заголовков,\n",
    "- пропущенные значения,\n",
    "\n",
    "В данном разделе они были устранены: все заголовки были приведены к единому стилю, а пропущенные значения заменены на `'unknown'`. После чего из датасета были удалены выявленные дубликаты - явные и смысловые.\n",
    "\n",
    "Теперь можно перейти к проверке гипотез. "
   ]
  },
  {
   "cell_type": "markdown",
   "metadata": {
    "id": "WttZHXH0SqKk"
   },
   "source": [
    "## Проверка гипотез"
   ]
  },
  {
   "cell_type": "markdown",
   "metadata": {},
   "source": [
    "В этом разделе предстоит получить количественное выражение активности пользователей в приложении и на основании сравнения полученных результатов проверить заданные гипотезы:\n",
    "1. Активность пользователей зависит от дня недели. Причём в Москве и Петербурге это проявляется по-разному.\n",
    "2. В понедельник утром в Москве преобладают одни жанры, а в Петербурге — другие. Так же и вечером пятницы преобладают разные жанры — в зависимости от города. \n",
    "3. Москва и Петербург предпочитают разные жанры музыки. В Москве чаще слушают поп-музыку, в Петербурге — русский рэп.\n",
    "\n",
    "Для удобства работы рассмотрим кажду гипотезу отдельно."
   ]
  },
  {
   "cell_type": "markdown",
   "metadata": {
    "id": "Im936VVi_Zcu"
   },
   "source": [
    "### Сравнение поведения пользователей двух столиц"
   ]
  },
  {
   "cell_type": "markdown",
   "metadata": {
    "id": "nwt_MuaL_Zcu"
   },
   "source": [
    "Первая гипотеза утверждает, что активность пользователей зависит от дня недели и при этом в Москве и Петербурге это проявляется по-разному.\n",
    "\n",
    "Для проверки этого утверждения необходимо разделить пользователей по городам и дням недели и сравнить показатели. Необходимо учитывать, что в датасете данные представлены только понедельниками, средами и пяницами."
   ]
  },
  {
   "cell_type": "markdown",
   "metadata": {
    "id": "8Dw_YMmT_Zcu"
   },
   "source": [
    "Для начала посчитаю прослушивания в каждой группе пользователей (москвичи и петербуржцы):"
   ]
  },
  {
   "cell_type": "code",
   "execution_count": 17,
   "metadata": {
    "id": "0_Qs96oh_Zcu"
   },
   "outputs": [
    {
     "data": {
      "text/plain": [
       "city\n",
       "Moscow              42741\n",
       "Saint-Petersburg    18512\n",
       "Name: city, dtype: int64"
      ]
     },
     "execution_count": 17,
     "metadata": {},
     "output_type": "execute_result"
    }
   ],
   "source": [
    "df.groupby('city')['city'].count()"
   ]
  },
  {
   "cell_type": "markdown",
   "metadata": {
    "id": "dzli3w8o_Zcu"
   },
   "source": [
    "В Москве прослушиваний больше, чем в Петербурге, но это не значит, что московские пользователи чаще слушают музыку. Просто самих пользователей в Москве больше.\n",
    "\n",
    "Теперь посчитаю прослушивания по дням недели."
   ]
  },
  {
   "cell_type": "code",
   "execution_count": 18,
   "metadata": {
    "id": "uZMKjiJz_Zcu"
   },
   "outputs": [
    {
     "data": {
      "text/plain": [
       "day\n",
       "Friday       21840\n",
       "Monday       21354\n",
       "Wednesday    18059\n",
       "Name: day, dtype: int64"
      ]
     },
     "execution_count": 18,
     "metadata": {},
     "output_type": "execute_result"
    }
   ],
   "source": [
    "df.groupby('day')['day'].count()"
   ]
  },
  {
   "cell_type": "markdown",
   "metadata": {
    "id": "cC2tNrlL_Zcu"
   },
   "source": [
    "В целом, пользователи обоих городов менее активны по средам (18 тысч прослушиваний), а по понедельникам и пятницам количество прослушиваний не слишком отличается: 21,4к и 21,8к соответвественно. Но важно рассмотреть каждый город в отдельности для получения боле точных сведений."
   ]
  },
  {
   "cell_type": "markdown",
   "metadata": {
    "id": "POzs8bGa_Zcu"
   },
   "source": [
    "Создам функцию, которая будет считать количество прослушиваний (по уникальным пользователям) в зависимости от города и для недели:"
   ]
  },
  {
   "cell_type": "code",
   "execution_count": 19,
   "metadata": {
    "id": "Nz3GdQB1_Zcu"
   },
   "outputs": [],
   "source": [
    "def number_tracks (day, city):\n",
    "    track_list = df[(df['day'] == day) & (df['city'] == city)] \n",
    "    track_list_count = track_list['user_id'].count()\n",
    "    return track_list_count"
   ]
  },
  {
   "cell_type": "markdown",
   "metadata": {
    "id": "ytf7xFrFJQ2r"
   },
   "source": [
    "Теперь получу данные для каждого города в каждый из трёх дней недели:"
   ]
  },
  {
   "cell_type": "code",
   "execution_count": 20,
   "metadata": {
    "id": "rJcRATNQ_Zcu"
   },
   "outputs": [
    {
     "data": {
      "text/plain": [
       "15740"
      ]
     },
     "execution_count": 20,
     "metadata": {},
     "output_type": "execute_result"
    }
   ],
   "source": [
    "number_tracks('Monday', 'Moscow')# количество прослушиваний в Москве по понедельникам"
   ]
  },
  {
   "cell_type": "code",
   "execution_count": 21,
   "metadata": {
    "id": "hq_ncZ5T_Zcu"
   },
   "outputs": [
    {
     "data": {
      "text/plain": [
       "5614"
      ]
     },
     "execution_count": 21,
     "metadata": {},
     "output_type": "execute_result"
    }
   ],
   "source": [
    "number_tracks('Monday', 'Saint-Petersburg')# количество прослушиваний в Санкт-Петербурге по понедельникам"
   ]
  },
  {
   "cell_type": "code",
   "execution_count": 22,
   "metadata": {
    "id": "_NTy2VPU_Zcu"
   },
   "outputs": [
    {
     "data": {
      "text/plain": [
       "11056"
      ]
     },
     "execution_count": 22,
     "metadata": {},
     "output_type": "execute_result"
    }
   ],
   "source": [
    "number_tracks('Wednesday', 'Moscow')# количество прослушиваний в Москве по средам"
   ]
  },
  {
   "cell_type": "code",
   "execution_count": 23,
   "metadata": {
    "id": "j2y3TAwo_Zcu"
   },
   "outputs": [
    {
     "data": {
      "text/plain": [
       "7003"
      ]
     },
     "execution_count": 23,
     "metadata": {},
     "output_type": "execute_result"
    }
   ],
   "source": [
    "number_tracks('Wednesday', 'Saint-Petersburg')# количество прослушиваний в Санкт-Петербурге по средам"
   ]
  },
  {
   "cell_type": "code",
   "execution_count": 24,
   "metadata": {
    "id": "vYDw5u_K_Zcu"
   },
   "outputs": [
    {
     "data": {
      "text/plain": [
       "15945"
      ]
     },
     "execution_count": 24,
     "metadata": {},
     "output_type": "execute_result"
    }
   ],
   "source": [
    "number_tracks('Friday', 'Moscow')# количество прослушиваний в Москве по пятницам"
   ]
  },
  {
   "cell_type": "code",
   "execution_count": 25,
   "metadata": {
    "id": "8_yzFtW3_Zcu"
   },
   "outputs": [
    {
     "data": {
      "text/plain": [
       "5895"
      ]
     },
     "execution_count": 25,
     "metadata": {},
     "output_type": "execute_result"
    }
   ],
   "source": [
    "number_tracks('Friday', 'Saint-Petersburg')# количество прослушиваний в Санкт-Петербурге по пятницам"
   ]
  },
  {
   "cell_type": "markdown",
   "metadata": {},
   "source": [
    "Для наглядности соберу полученные результаты в таблицу:"
   ]
  },
  {
   "cell_type": "code",
   "execution_count": 26,
   "metadata": {
    "id": "APAcLpOr_Zcu"
   },
   "outputs": [
    {
     "data": {
      "text/html": [
       "<div>\n",
       "<style scoped>\n",
       "    .dataframe tbody tr th:only-of-type {\n",
       "        vertical-align: middle;\n",
       "    }\n",
       "\n",
       "    .dataframe tbody tr th {\n",
       "        vertical-align: top;\n",
       "    }\n",
       "\n",
       "    .dataframe thead th {\n",
       "        text-align: right;\n",
       "    }\n",
       "</style>\n",
       "<table border=\"1\" class=\"dataframe\">\n",
       "  <thead>\n",
       "    <tr style=\"text-align: right;\">\n",
       "      <th></th>\n",
       "      <th>city</th>\n",
       "      <th>monday</th>\n",
       "      <th>wednesday</th>\n",
       "      <th>friday</th>\n",
       "    </tr>\n",
       "  </thead>\n",
       "  <tbody>\n",
       "    <tr>\n",
       "      <th>0</th>\n",
       "      <td>Москва</td>\n",
       "      <td>15740</td>\n",
       "      <td>11056</td>\n",
       "      <td>15945</td>\n",
       "    </tr>\n",
       "    <tr>\n",
       "      <th>1</th>\n",
       "      <td>Санкт-Петербург</td>\n",
       "      <td>5614</td>\n",
       "      <td>7003</td>\n",
       "      <td>5895</td>\n",
       "    </tr>\n",
       "  </tbody>\n",
       "</table>\n",
       "</div>"
      ],
      "text/plain": [
       "              city  monday  wednesday  friday\n",
       "0           Москва   15740      11056   15945\n",
       "1  Санкт-Петербург    5614       7003    5895"
      ]
     },
     "execution_count": 26,
     "metadata": {},
     "output_type": "execute_result"
    }
   ],
   "source": [
    "columns = ['city', 'monday', 'wednesday', 'friday']\n",
    "data = [['Москва', 15740, 11056, 15945],\n",
    "       ['Санкт-Петербург', 5614, 7003, 5895]]\n",
    "pd.DataFrame(data=data, columns=columns)"
   ]
  },
  {
   "cell_type": "markdown",
   "metadata": {
    "id": "-EgPIHYu_Zcu"
   },
   "source": [
    "**Выводы**\n",
    "\n",
    "Данные показывают, что пользователи в Москве и Питере ведут себя по-разному:\n",
    "\n",
    "- В Москве больше всего прослушиваний приходится на понедельник и пятницу - почти по 16 тысяч прослушиваний в день, а в среду очевиден существенный спад - чуть больше 11 тысяч прослушиваний.\n",
    "- В Петербурге, наоборот, больше слушают музыку по средам (7 тысяч прослушиваний), а активность по понедельникам и пятницам находится в пределах 5,6 - 5,9 тысяч прослушиваний.\n",
    "\n",
    "Вспомним гипотезу: активность пользователей зависит от дня недели и при этом в Москве и Петербурге это проявляется по-разному.\n",
    "\n",
    "Исходя из полученных результатов можно утверждать, что эта гипотеза верна."
   ]
  },
  {
   "cell_type": "markdown",
   "metadata": {
    "id": "atZAxtq4_Zcu"
   },
   "source": [
    "### Музыка в начале и в конце недели"
   ]
  },
  {
   "cell_type": "markdown",
   "metadata": {
    "id": "eXrQqXFH_Zcu"
   },
   "source": [
    "Согласно второй гипотезе, утром в понедельник и вечером пятницы в Москве преобладают одни жанры, а в Петербурге — другие.В рамках исследования утром считается временной промежуток с 07:00 до 11:00, а вечером - с 17:00 до 23:00.\n",
    "\n",
    "Проверку этой гипотезы начну с выделения двух вспомогательных датасетов, разделенных по городам:"
   ]
  },
  {
   "cell_type": "code",
   "execution_count": 27,
   "metadata": {
    "id": "qeaFfM_P_Zcu"
   },
   "outputs": [
    {
     "data": {
      "text/html": [
       "<div>\n",
       "<style scoped>\n",
       "    .dataframe tbody tr th:only-of-type {\n",
       "        vertical-align: middle;\n",
       "    }\n",
       "\n",
       "    .dataframe tbody tr th {\n",
       "        vertical-align: top;\n",
       "    }\n",
       "\n",
       "    .dataframe thead th {\n",
       "        text-align: right;\n",
       "    }\n",
       "</style>\n",
       "<table border=\"1\" class=\"dataframe\">\n",
       "  <thead>\n",
       "    <tr style=\"text-align: right;\">\n",
       "      <th></th>\n",
       "      <th>user_id</th>\n",
       "      <th>track</th>\n",
       "      <th>artist</th>\n",
       "      <th>genre</th>\n",
       "      <th>city</th>\n",
       "      <th>time</th>\n",
       "      <th>day</th>\n",
       "    </tr>\n",
       "  </thead>\n",
       "  <tbody>\n",
       "    <tr>\n",
       "      <th>1</th>\n",
       "      <td>55204538</td>\n",
       "      <td>Delayed Because of Accident</td>\n",
       "      <td>Andreas Rönnberg</td>\n",
       "      <td>rock</td>\n",
       "      <td>Moscow</td>\n",
       "      <td>14:07:09</td>\n",
       "      <td>Friday</td>\n",
       "    </tr>\n",
       "    <tr>\n",
       "      <th>4</th>\n",
       "      <td>E2DC1FAE</td>\n",
       "      <td>Soul People</td>\n",
       "      <td>Space Echo</td>\n",
       "      <td>dance</td>\n",
       "      <td>Moscow</td>\n",
       "      <td>08:34:34</td>\n",
       "      <td>Monday</td>\n",
       "    </tr>\n",
       "    <tr>\n",
       "      <th>6</th>\n",
       "      <td>4CB90AA5</td>\n",
       "      <td>True</td>\n",
       "      <td>Roman Messer</td>\n",
       "      <td>dance</td>\n",
       "      <td>Moscow</td>\n",
       "      <td>13:00:07</td>\n",
       "      <td>Wednesday</td>\n",
       "    </tr>\n",
       "    <tr>\n",
       "      <th>7</th>\n",
       "      <td>F03E1C1F</td>\n",
       "      <td>Feeling This Way</td>\n",
       "      <td>Polina Griffith</td>\n",
       "      <td>dance</td>\n",
       "      <td>Moscow</td>\n",
       "      <td>20:47:49</td>\n",
       "      <td>Wednesday</td>\n",
       "    </tr>\n",
       "    <tr>\n",
       "      <th>8</th>\n",
       "      <td>8FA1D3BE</td>\n",
       "      <td>И вновь продолжается бой</td>\n",
       "      <td>unknown</td>\n",
       "      <td>ruspop</td>\n",
       "      <td>Moscow</td>\n",
       "      <td>09:17:40</td>\n",
       "      <td>Friday</td>\n",
       "    </tr>\n",
       "  </tbody>\n",
       "</table>\n",
       "</div>"
      ],
      "text/plain": [
       "    user_id                        track            artist   genre    city  \\\n",
       "1  55204538  Delayed Because of Accident  Andreas Rönnberg    rock  Moscow   \n",
       "4  E2DC1FAE                  Soul People        Space Echo   dance  Moscow   \n",
       "6  4CB90AA5                         True      Roman Messer   dance  Moscow   \n",
       "7  F03E1C1F             Feeling This Way   Polina Griffith   dance  Moscow   \n",
       "8  8FA1D3BE     И вновь продолжается бой           unknown  ruspop  Moscow   \n",
       "\n",
       "       time        day  \n",
       "1  14:07:09     Friday  \n",
       "4  08:34:34     Monday  \n",
       "6  13:00:07  Wednesday  \n",
       "7  20:47:49  Wednesday  \n",
       "8  09:17:40     Friday  "
      ]
     },
     "execution_count": 27,
     "metadata": {},
     "output_type": "execute_result"
    }
   ],
   "source": [
    "# датасет по Москве\n",
    "\n",
    "moscow_general = df[df['city'] == 'Moscow']\n",
    "moscow_general.head()"
   ]
  },
  {
   "cell_type": "code",
   "execution_count": 28,
   "metadata": {
    "id": "ORaVRKto_Zcu"
   },
   "outputs": [
    {
     "data": {
      "text/html": [
       "<div>\n",
       "<style scoped>\n",
       "    .dataframe tbody tr th:only-of-type {\n",
       "        vertical-align: middle;\n",
       "    }\n",
       "\n",
       "    .dataframe tbody tr th {\n",
       "        vertical-align: top;\n",
       "    }\n",
       "\n",
       "    .dataframe thead th {\n",
       "        text-align: right;\n",
       "    }\n",
       "</style>\n",
       "<table border=\"1\" class=\"dataframe\">\n",
       "  <thead>\n",
       "    <tr style=\"text-align: right;\">\n",
       "      <th></th>\n",
       "      <th>user_id</th>\n",
       "      <th>track</th>\n",
       "      <th>artist</th>\n",
       "      <th>genre</th>\n",
       "      <th>city</th>\n",
       "      <th>time</th>\n",
       "      <th>day</th>\n",
       "    </tr>\n",
       "  </thead>\n",
       "  <tbody>\n",
       "    <tr>\n",
       "      <th>0</th>\n",
       "      <td>FFB692EC</td>\n",
       "      <td>Kamigata To Boots</td>\n",
       "      <td>The Mass Missile</td>\n",
       "      <td>rock</td>\n",
       "      <td>Saint-Petersburg</td>\n",
       "      <td>20:28:33</td>\n",
       "      <td>Wednesday</td>\n",
       "    </tr>\n",
       "    <tr>\n",
       "      <th>2</th>\n",
       "      <td>20EC38</td>\n",
       "      <td>Funiculì funiculà</td>\n",
       "      <td>Mario Lanza</td>\n",
       "      <td>pop</td>\n",
       "      <td>Saint-Petersburg</td>\n",
       "      <td>20:58:07</td>\n",
       "      <td>Wednesday</td>\n",
       "    </tr>\n",
       "    <tr>\n",
       "      <th>3</th>\n",
       "      <td>A3DD03C9</td>\n",
       "      <td>Dragons in the Sunset</td>\n",
       "      <td>Fire + Ice</td>\n",
       "      <td>folk</td>\n",
       "      <td>Saint-Petersburg</td>\n",
       "      <td>08:37:09</td>\n",
       "      <td>Monday</td>\n",
       "    </tr>\n",
       "    <tr>\n",
       "      <th>5</th>\n",
       "      <td>842029A1</td>\n",
       "      <td>Преданная</td>\n",
       "      <td>IMPERVTOR</td>\n",
       "      <td>rusrap</td>\n",
       "      <td>Saint-Petersburg</td>\n",
       "      <td>13:09:41</td>\n",
       "      <td>Friday</td>\n",
       "    </tr>\n",
       "    <tr>\n",
       "      <th>9</th>\n",
       "      <td>E772D5C0</td>\n",
       "      <td>Pessimist</td>\n",
       "      <td>unknown</td>\n",
       "      <td>dance</td>\n",
       "      <td>Saint-Petersburg</td>\n",
       "      <td>21:20:49</td>\n",
       "      <td>Wednesday</td>\n",
       "    </tr>\n",
       "  </tbody>\n",
       "</table>\n",
       "</div>"
      ],
      "text/plain": [
       "    user_id                  track            artist   genre  \\\n",
       "0  FFB692EC      Kamigata To Boots  The Mass Missile    rock   \n",
       "2    20EC38      Funiculì funiculà       Mario Lanza     pop   \n",
       "3  A3DD03C9  Dragons in the Sunset        Fire + Ice    folk   \n",
       "5  842029A1              Преданная         IMPERVTOR  rusrap   \n",
       "9  E772D5C0              Pessimist           unknown   dance   \n",
       "\n",
       "               city      time        day  \n",
       "0  Saint-Petersburg  20:28:33  Wednesday  \n",
       "2  Saint-Petersburg  20:58:07  Wednesday  \n",
       "3  Saint-Petersburg  08:37:09     Monday  \n",
       "5  Saint-Petersburg  13:09:41     Friday  \n",
       "9  Saint-Petersburg  21:20:49  Wednesday  "
      ]
     },
     "execution_count": 28,
     "metadata": {},
     "output_type": "execute_result"
    }
   ],
   "source": [
    "# датасет по Питеру\n",
    "\n",
    "spb_general = df[df['city'] == 'Saint-Petersburg']\n",
    "spb_general.head()"
   ]
  },
  {
   "cell_type": "markdown",
   "metadata": {
    "id": "MEJV-CX2_Zcu"
   },
   "source": [
    "Далее создам функцию, которая будет возвращать информацию о топ-10 жанров тех треков, которые прослушивали в указанный день, в промежутке между двумя отметками времени:"
   ]
  },
  {
   "cell_type": "code",
   "execution_count": 29,
   "metadata": {
    "id": "laJT9BYl_Zcu"
   },
   "outputs": [],
   "source": [
    "def genre_weekday(table, day, time1, time2):\n",
    "    genre_df = table[(table['day'] == day) & (table['time'] > time1) & (table['time'] < time2)]\n",
    "    genre_df_count = genre_df.groupby('genre')['genre'].count()\n",
    "    genre_df_sorted = genre_df_count.sort_values(ascending=False)\n",
    "    return genre_df_sorted[:10]"
   ]
  },
  {
   "cell_type": "markdown",
   "metadata": {
    "id": "la2s2_PF_Zcu"
   },
   "source": [
    "Получу данные для Москвы и Санкт-Петербурга о топ-10 прослушанных жанров по утрам понедельников и по вечерам пятниц:"
   ]
  },
  {
   "cell_type": "code",
   "execution_count": 30,
   "metadata": {
    "id": "yz7itPUQ_Zcu",
    "scrolled": true
   },
   "outputs": [
    {
     "data": {
      "text/plain": [
       "genre\n",
       "pop            781\n",
       "dance          549\n",
       "electronic     480\n",
       "rock           474\n",
       "hiphop         286\n",
       "ruspop         186\n",
       "world          181\n",
       "rusrap         175\n",
       "alternative    164\n",
       "unknown        161\n",
       "Name: genre, dtype: int64"
      ]
     },
     "execution_count": 30,
     "metadata": {},
     "output_type": "execute_result"
    }
   ],
   "source": [
    "# вызов функции для утра понедельника в Москве\n",
    "\n",
    "genre_weekday(moscow_general, 'Monday','07:00', '11:00' )"
   ]
  },
  {
   "cell_type": "code",
   "execution_count": 31,
   "metadata": {
    "id": "kwUcHPdy_Zcu",
    "scrolled": true
   },
   "outputs": [
    {
     "data": {
      "text/plain": [
       "genre\n",
       "pop            218\n",
       "dance          182\n",
       "rock           162\n",
       "electronic     147\n",
       "hiphop          80\n",
       "ruspop          64\n",
       "alternative     58\n",
       "rusrap          55\n",
       "jazz            44\n",
       "classical       40\n",
       "Name: genre, dtype: int64"
      ]
     },
     "execution_count": 31,
     "metadata": {},
     "output_type": "execute_result"
    }
   ],
   "source": [
    "# вызов функции для утра понедельника в Петербурге\n",
    "\n",
    "genre_weekday(spb_general, 'Monday','07:00', '11:00' )"
   ]
  },
  {
   "cell_type": "code",
   "execution_count": 32,
   "metadata": {
    "id": "EzXVRE1o_Zcu"
   },
   "outputs": [
    {
     "data": {
      "text/plain": [
       "genre\n",
       "pop            713\n",
       "rock           517\n",
       "dance          495\n",
       "electronic     482\n",
       "hiphop         273\n",
       "world          208\n",
       "ruspop         170\n",
       "alternative    163\n",
       "classical      163\n",
       "rusrap         142\n",
       "Name: genre, dtype: int64"
      ]
     },
     "execution_count": 32,
     "metadata": {},
     "output_type": "execute_result"
    }
   ],
   "source": [
    "#вызов функции для вечера пятницы в Москве\n",
    "\n",
    "genre_weekday(moscow_general, 'Friday','17:00', '23:00' )"
   ]
  },
  {
   "cell_type": "code",
   "execution_count": 33,
   "metadata": {
    "id": "JZaEKu5v_Zcu"
   },
   "outputs": [
    {
     "data": {
      "text/plain": [
       "genre\n",
       "pop            256\n",
       "electronic     216\n",
       "rock           216\n",
       "dance          210\n",
       "hiphop          97\n",
       "alternative     63\n",
       "jazz            61\n",
       "classical       60\n",
       "rusrap          59\n",
       "world           54\n",
       "Name: genre, dtype: int64"
      ]
     },
     "execution_count": 33,
     "metadata": {},
     "output_type": "execute_result"
    }
   ],
   "source": [
    "#вызов функции для вечера пятницы в Петербурге\n",
    "\n",
    "genre_weekday(spb_general, 'Friday','17:00', '23:00' )"
   ]
  },
  {
   "cell_type": "markdown",
   "metadata": {
    "id": "wrCe4MNX_Zcu"
   },
   "source": [
    "**Выводы**\n",
    "\n",
    "Предпочтения в музыкальных жанрах слушателей обоих городов и утром понедельника, и вечером пятницы практически одинаковые. По понедельникам единственное отличие в жанре “world” (входит в московский рейтинг), и в жанрах джаз и классика (входят в питерский рейтинг). По пятницам же ситуация практически не меняется: некоторые жанры поднимаются немного выше, другие спускаются, но, в целом, топ-10 остаётся тем же самым.\n",
    "\n",
    "Важно отметить, что в Москве пропущенных значений оказалось так много, что значение `'unknown'` заняло десятое место среди самых популярных жанров по утрам понедельников. Это значит, что пропущенные значения занимают существенную долю в данных и оказывают критическое влияние на результат исследования.\n",
    "\n",
    "Обобщая полученные данные, можно утверждать, что вторая гипотеза подтвердилась лишь частично:\n",
    "* Пользователи слушают похожую музыку в начале недели и в конце.\n",
    "* Разница между Москвой и Петербургом не слишком выражена. В Москве чаще слушают “world”, в Петербурге — джаз.\n",
    "\n",
    "Однако пропуски в данных ставят под сомнение этот результат. В Москве их так много, что рейтинг топ-10 мог бы выглядеть иначе, если бы не утерянные  данные о жанрах."
   ]
  },
  {
   "cell_type": "markdown",
   "metadata": {
    "id": "JolODAqr_Zcu"
   },
   "source": [
    "### Жанровые предпочтения в Москве и Петербурге"
   ]
  },
  {
   "cell_type": "markdown",
   "metadata": {},
   "source": [
    "Последняя рассматриваемая гипотеза такова: Петербург — столица рэпа, музыку этого жанра там слушают чаще, чем в Москве.  А Москва — город контрастов, в котором, тем не менее, преобладает поп-музыка.\n",
    "\n",
    "Для решения этой задачи необходимо посчитать прослушивания треков каждого жанра в разрезе городов и для этого будут использоваться датасеты, созданные в предыдущем пункте:"
   ]
  },
  {
   "cell_type": "code",
   "execution_count": 34,
   "metadata": {
    "id": "r19lIPke_Zcu"
   },
   "outputs": [
    {
     "data": {
      "text/plain": [
       "genre\n",
       "pop            5892\n",
       "dance          4435\n",
       "rock           3965\n",
       "electronic     3786\n",
       "hiphop         2096\n",
       "classical      1616\n",
       "world          1432\n",
       "alternative    1379\n",
       "ruspop         1372\n",
       "rusrap         1161\n",
       "Name: genre, dtype: int64"
      ]
     },
     "execution_count": 34,
     "metadata": {},
     "output_type": "execute_result"
    }
   ],
   "source": [
    "# подсчет прослушиваний по жанрам для Москвы\n",
    "\n",
    "moscow_general.groupby('genre')['genre'].count().sort_values(ascending=False).head(10)"
   ]
  },
  {
   "cell_type": "code",
   "execution_count": 35,
   "metadata": {
    "id": "gluLIpE7_Zcv"
   },
   "outputs": [
    {
     "data": {
      "text/plain": [
       "genre\n",
       "pop            2431\n",
       "dance          1932\n",
       "rock           1879\n",
       "electronic     1736\n",
       "hiphop          960\n",
       "alternative     649\n",
       "classical       646\n",
       "rusrap          564\n",
       "ruspop          538\n",
       "world           515\n",
       "Name: genre, dtype: int64"
      ]
     },
     "execution_count": 35,
     "metadata": {},
     "output_type": "execute_result"
    }
   ],
   "source": [
    "# подсчет прослушиваний по жанрам для Питера\n",
    "\n",
    "spb_general.groupby('genre')['genre'].count().sort_values(ascending=False).head(10)"
   ]
  },
  {
   "cell_type": "markdown",
   "metadata": {
    "id": "nVhnJEm__Zcv"
   },
   "source": [
    "**Выводы**\n",
    "\n",
    "Гипотеза подтвердилась лишь частично:\n",
    "1. Оказалось, что рэп одинаково популярен в Москве и Петербурге: 1,2 и 0,6 тысяч прослушиваний соответственно. \n",
    "2. Поп-музыка — действительно самый популярный жанр в Москве (5,9 тысяч прослушиваний). Более того, в топ-10 жанров встречается близкий жанр — русская популярная музыка, он на 9-м месте с результатом 1,4 тысяч прослушиваний."
   ]
  },
  {
   "cell_type": "markdown",
   "metadata": {},
   "source": [
    "### Вывод"
   ]
  },
  {
   "cell_type": "markdown",
   "metadata": {},
   "source": [
    "В этом разделе были получены количественные показатели активности пользователей в приложении для проверки трёх гипотез, первая из которых подтвердилась полностью, а вот остальные лишь частично:\n",
    "1. Активность пользователей зависит от дня недели. Причём в Москве и Петербурге это проявляется по-разному.\n",
    "\n",
    "И это действительно так: в Москве больше всего прослушиваний приходится на понедельник и пятницу, в Петербурге, наоборот, больше слушают музыку по средам.\n",
    "\n",
    "2. В понедельник утром в Москве преобладают одни жанры, а в Петербурге — другие. Так же и вечером пятницы преобладают разные жанры — в зависимости от города.\n",
    "\n",
    "Пользователи обоих городов слушают похожую музыку и в начале недели, и в конце. Разница в предпочитаемых жанрах между Москвой и Петербургом не слишком выражена, хотя в Москве чаще слушают “world”, в Петербурге — джаз.\n",
    "\n",
    "3. Москва и Петербург предпочитают разные жанры музыки. В Москве чаще слушают поп-музыку, в Петербурге — русский рэп.\n",
    "\n",
    "Рэп оказался одинаково популярен в Москве и Петербурге, а поп-музыка - самый популярный жанр обеих столиц. Кроме того, в топ-10 жанров и Москвы, и Питера встречается близкий жанр — русская популярная музыка.\n",
    "\n",
    "\n",
    "Важно отметить, что на данном этапе было обнаружено значительное количество пропущенных значений `'unknown'` в результатах расчетов при проверке второй гипотезы, из-за чего полученный результат не может считаться однозначно достоверным."
   ]
  },
  {
   "cell_type": "markdown",
   "metadata": {
    "id": "ykKQ0N65_Zcv"
   },
   "source": [
    "## Итоги исследования"
   ]
  },
  {
   "cell_type": "markdown",
   "metadata": {
    "id": "tjUwbHb3_Zcv"
   },
   "source": [
    "**Цель исследования** — проверить гипотезы о том, как поведение пользователей Яндекс.Музыки различается в зависимости от дня недели, времени суток и региона слушателя.\n",
    "\n",
    "Проверяемые гипотезы:\n",
    "1. Активность пользователей зависит от дня недели. Причём в Москве и Петербурге это проявляется по-разному.\n",
    "2. В понедельник утром в Москве преобладают одни жанры, а в Петербурге — другие. Так же и вечером пятницы преобладают разные жанры — в зависимости от города. \n",
    "3. Москва и Петербург предпочитают разные жанры музыки. В Москве чаще слушают поп-музыку, в Петербурге — русский рэп.\n",
    "\n",
    "**Задачи исследования**\n",
    "1. Проверить исходные данные на ошибки и оценить их влияние на исследование.\n",
    "2. Определить возможность исправить самые критичные ошибки данных.\n",
    "\n",
    "Исследование состоит из четырех разделов:\n",
    "\n",
    "**В первом разделе** выполнялась загрузка библиотеки `pandas` и исходных данных, было проведено первичное ознакомление с данными методами `info()` и `head()`.\n",
    "\n",
    "**Во втором разделе** устранялись недостатки в данных, выявленные на предыдущем этапе:\n",
    "- нарушения в стиле заголовков,\n",
    "- пропущенные значения,\n",
    "- дубликаты.\n",
    "\n",
    "Все заголовки были приведены к единому стилю методами `df.columns` и `rename()`, а пропущенные значения заменены на `'unknown'` при помощи `fillna()`. \n",
    "\n",
    "Явные дубликаты были обработаны при помощи метода `drop_duplicates()`. Для поиска смысловых дубликатов использовались методы `sort_values()` и `unique()`, а для их замены - созданная функция, использующая метод`replace()`.\n",
    "\n",
    "**В третьем разделе** проводилась проверка гипотез. Рассмотрим полученные результаты:\n",
    "\n",
    "1. Активность пользователей зависит от дня недели. Причём в Москве и Петербурге это проявляется по-разному.\n",
    "\n",
    "В Москве больше всего прослушиваний приходится на понедельник и пятницу, в Петербурге, наоборот, больше слушают музыку по средам.\n",
    "\n",
    "2. В понедельник утром в Москве преобладают одни жанры, а в Петербурге — другие. Так же и вечером пятницы преобладают разные жанры — в зависимости от города.\n",
    "\n",
    "Пользователи обоих городов слушают похожую музыку и в начале недели, и в конце. Разница в предпочитаемых жанрах между Москвой и Петербургом не слишком выражена, хотя в Москве чаще слушают “world”, а в Петербурге — джаз.\n",
    "\n",
    "3. Москва и Петербург предпочитают разные жанры музыки. В Москве чаще слушают поп-музыку, в Петербурге — русский рэп.\n",
    "\n",
    "Рэп оказался одинаково популярен в Москве и Петербурге, а поп-музыка - самый популярный жанр обеих столиц. Кроме того, в топ-10 жанров и Москвы, и Питера встречается близкий жанр — русская популярная музыка.\n",
    "\n",
    "**В четвертом разделе** приводится общий вывод исследования.\n",
    "\n",
    "Из трёх заявленных гипотез только первая подтвердилась полностью, а вот остальные лишь частично. \n",
    "Тем не менее, полученные результаты показывают, что во вкусах пользователей Москвы и Петербурга больше общего, чем различий. Если различия в предпочтениях и существуют, то на основной массе пользователей они незаметны.\n",
    "\n",
    "Однако важно помнить, что из-за невозможности корректно обработать в заданных условиях пропущенныые значения в поле `genre` в исходном датасете, результаты проверки второй и третьей гипотезы не могут считаться достоверными."
   ]
  },
  {
   "cell_type": "code",
   "execution_count": null,
   "metadata": {},
   "outputs": [],
   "source": []
  }
 ],
 "metadata": {
  "ExecuteTimeLog": [
   {
    "duration": 112,
    "start_time": "2022-03-29T15:38:04.777Z"
   },
   {
    "duration": 9,
    "start_time": "2022-03-29T15:38:23.573Z"
   },
   {
    "duration": 9,
    "start_time": "2022-03-29T15:38:58.738Z"
   },
   {
    "duration": 8,
    "start_time": "2022-03-29T15:39:04.731Z"
   },
   {
    "duration": 7,
    "start_time": "2022-03-29T15:39:57.972Z"
   },
   {
    "duration": 8,
    "start_time": "2022-03-29T15:40:09.462Z"
   },
   {
    "duration": 8,
    "start_time": "2022-03-29T15:40:20.485Z"
   },
   {
    "duration": 563,
    "start_time": "2022-03-29T15:40:25.156Z"
   },
   {
    "duration": 192,
    "start_time": "2022-03-29T15:40:39.142Z"
   },
   {
    "duration": 194,
    "start_time": "2022-03-29T15:40:44.134Z"
   },
   {
    "duration": 26,
    "start_time": "2022-03-29T15:40:50.406Z"
   },
   {
    "duration": 40,
    "start_time": "2022-03-29T15:41:10.557Z"
   },
   {
    "duration": 200,
    "start_time": "2022-03-29T15:43:54.698Z"
   },
   {
    "duration": 16,
    "start_time": "2022-03-29T15:45:41.436Z"
   },
   {
    "duration": 9,
    "start_time": "2022-03-29T15:45:43.404Z"
   },
   {
    "duration": 17,
    "start_time": "2022-03-29T15:45:55.497Z"
   },
   {
    "duration": 15,
    "start_time": "2022-03-29T15:47:09.988Z"
   },
   {
    "duration": 16,
    "start_time": "2022-03-29T15:47:13.811Z"
   },
   {
    "duration": 9,
    "start_time": "2022-03-29T15:52:18.635Z"
   },
   {
    "duration": 12,
    "start_time": "2022-03-29T16:03:32.489Z"
   },
   {
    "duration": 11,
    "start_time": "2022-03-29T16:03:34.967Z"
   },
   {
    "duration": 11,
    "start_time": "2022-03-29T16:03:59.563Z"
   },
   {
    "duration": 17,
    "start_time": "2022-03-29T16:05:34.499Z"
   },
   {
    "duration": 9,
    "start_time": "2022-03-29T16:09:33.263Z"
   },
   {
    "duration": 3,
    "start_time": "2022-03-29T16:10:01.185Z"
   },
   {
    "duration": 208,
    "start_time": "2022-03-29T16:10:03.303Z"
   },
   {
    "duration": 195,
    "start_time": "2022-03-29T16:10:08.333Z"
   },
   {
    "duration": 202,
    "start_time": "2022-03-29T16:10:15.102Z"
   },
   {
    "duration": 193,
    "start_time": "2022-03-29T16:10:50.500Z"
   },
   {
    "duration": 206,
    "start_time": "2022-03-29T16:15:05.290Z"
   },
   {
    "duration": 14,
    "start_time": "2022-03-29T16:15:10.561Z"
   },
   {
    "duration": 26,
    "start_time": "2022-03-29T16:16:31.562Z"
   },
   {
    "duration": 41,
    "start_time": "2022-03-29T16:18:20.099Z"
   },
   {
    "duration": 6,
    "start_time": "2022-03-29T16:27:17.205Z"
   },
   {
    "duration": 6,
    "start_time": "2022-03-29T16:30:53.923Z"
   },
   {
    "duration": 11,
    "start_time": "2022-03-29T16:30:59.593Z"
   },
   {
    "duration": 6,
    "start_time": "2022-03-29T16:31:00.045Z"
   },
   {
    "duration": 12,
    "start_time": "2022-03-29T16:31:06.470Z"
   },
   {
    "duration": 5,
    "start_time": "2022-03-29T16:31:08.635Z"
   },
   {
    "duration": 18,
    "start_time": "2022-03-29T16:31:20.517Z"
   },
   {
    "duration": 7,
    "start_time": "2022-03-29T16:31:22.441Z"
   },
   {
    "duration": 6,
    "start_time": "2022-03-29T16:31:28.583Z"
   },
   {
    "duration": 11,
    "start_time": "2022-03-29T16:31:31.857Z"
   },
   {
    "duration": 5,
    "start_time": "2022-03-29T16:31:35.208Z"
   },
   {
    "duration": 5,
    "start_time": "2022-03-29T16:32:15.197Z"
   },
   {
    "duration": 60,
    "start_time": "2022-03-29T16:32:22.378Z"
   },
   {
    "duration": 5,
    "start_time": "2022-03-29T16:32:27.556Z"
   },
   {
    "duration": 3,
    "start_time": "2022-03-29T16:32:35.727Z"
   },
   {
    "duration": 206,
    "start_time": "2022-03-29T16:32:37.635Z"
   },
   {
    "duration": 16,
    "start_time": "2022-03-29T16:32:39.454Z"
   },
   {
    "duration": 41,
    "start_time": "2022-03-29T16:32:45.030Z"
   },
   {
    "duration": 6,
    "start_time": "2022-03-29T16:32:49.739Z"
   },
   {
    "duration": 8,
    "start_time": "2022-03-29T16:33:40.958Z"
   },
   {
    "duration": 6,
    "start_time": "2022-03-29T16:33:42.836Z"
   },
   {
    "duration": 13,
    "start_time": "2022-03-29T16:33:51.135Z"
   },
   {
    "duration": 5,
    "start_time": "2022-03-29T16:33:52.920Z"
   },
   {
    "duration": 36,
    "start_time": "2022-03-29T16:34:37.905Z"
   },
   {
    "duration": 108,
    "start_time": "2022-03-29T16:47:47.476Z"
   },
   {
    "duration": 510,
    "start_time": "2022-03-29T16:48:04.946Z"
   },
   {
    "duration": 199,
    "start_time": "2022-03-29T16:48:06.871Z"
   },
   {
    "duration": 25,
    "start_time": "2022-03-29T16:48:08.460Z"
   },
   {
    "duration": 39,
    "start_time": "2022-03-29T16:48:11.448Z"
   },
   {
    "duration": 6,
    "start_time": "2022-03-29T16:48:17.012Z"
   },
   {
    "duration": 18,
    "start_time": "2022-03-29T16:48:19.921Z"
   },
   {
    "duration": 7,
    "start_time": "2022-03-29T16:48:21.442Z"
   },
   {
    "duration": 34,
    "start_time": "2022-03-29T16:48:24.387Z"
   },
   {
    "duration": 1684,
    "start_time": "2022-03-29T16:48:27.351Z"
   },
   {
    "duration": 1510,
    "start_time": "2022-03-29T16:49:30.422Z"
   },
   {
    "duration": 20,
    "start_time": "2022-03-29T16:51:04.614Z"
   },
   {
    "duration": 20,
    "start_time": "2022-03-29T16:51:08.902Z"
   },
   {
    "duration": 36,
    "start_time": "2022-03-29T16:51:31.097Z"
   },
   {
    "duration": 9,
    "start_time": "2022-03-29T16:52:10.368Z"
   },
   {
    "duration": 32,
    "start_time": "2022-03-29T16:52:12.938Z"
   },
   {
    "duration": 10,
    "start_time": "2022-03-29T16:52:55.311Z"
   },
   {
    "duration": 123,
    "start_time": "2022-03-29T16:53:38.822Z"
   },
   {
    "duration": 107,
    "start_time": "2022-03-29T16:53:44.886Z"
   },
   {
    "duration": 114,
    "start_time": "2022-03-29T16:54:21.010Z"
   },
   {
    "duration": 11,
    "start_time": "2022-03-29T16:54:31.105Z"
   },
   {
    "duration": 79,
    "start_time": "2022-03-29T16:54:37.047Z"
   },
   {
    "duration": 41,
    "start_time": "2022-03-29T16:54:39.390Z"
   },
   {
    "duration": 44,
    "start_time": "2022-03-29T16:54:41.449Z"
   },
   {
    "duration": 34,
    "start_time": "2022-03-29T16:54:43.447Z"
   },
   {
    "duration": 47,
    "start_time": "2022-03-29T16:54:47.056Z"
   },
   {
    "duration": 34,
    "start_time": "2022-03-29T16:54:50.527Z"
   },
   {
    "duration": 41,
    "start_time": "2022-03-29T16:55:02.532Z"
   },
   {
    "duration": 32,
    "start_time": "2022-03-29T16:55:04.592Z"
   },
   {
    "duration": 10,
    "start_time": "2022-03-29T16:55:39.388Z"
   },
   {
    "duration": 372,
    "start_time": "2022-03-30T12:47:47.082Z"
   },
   {
    "duration": 173,
    "start_time": "2022-03-30T12:47:52.802Z"
   },
   {
    "duration": 2,
    "start_time": "2022-03-30T12:48:16.817Z"
   },
   {
    "duration": 186,
    "start_time": "2022-03-30T12:48:16.821Z"
   },
   {
    "duration": 27,
    "start_time": "2022-03-30T12:48:17.009Z"
   },
   {
    "duration": 170,
    "start_time": "2022-03-30T12:48:17.038Z"
   },
   {
    "duration": 0,
    "start_time": "2022-03-30T12:48:17.210Z"
   },
   {
    "duration": 0,
    "start_time": "2022-03-30T12:48:17.212Z"
   },
   {
    "duration": 0,
    "start_time": "2022-03-30T12:48:17.213Z"
   },
   {
    "duration": 0,
    "start_time": "2022-03-30T12:48:17.214Z"
   },
   {
    "duration": 0,
    "start_time": "2022-03-30T12:48:17.215Z"
   },
   {
    "duration": 0,
    "start_time": "2022-03-30T12:48:17.216Z"
   },
   {
    "duration": 0,
    "start_time": "2022-03-30T12:48:17.217Z"
   },
   {
    "duration": 0,
    "start_time": "2022-03-30T12:48:17.219Z"
   },
   {
    "duration": 0,
    "start_time": "2022-03-30T12:48:17.220Z"
   },
   {
    "duration": 0,
    "start_time": "2022-03-30T12:48:17.221Z"
   },
   {
    "duration": 0,
    "start_time": "2022-03-30T12:48:17.222Z"
   },
   {
    "duration": 0,
    "start_time": "2022-03-30T12:48:17.223Z"
   },
   {
    "duration": 0,
    "start_time": "2022-03-30T12:48:17.224Z"
   },
   {
    "duration": 0,
    "start_time": "2022-03-30T12:48:17.225Z"
   },
   {
    "duration": 0,
    "start_time": "2022-03-30T12:48:17.226Z"
   },
   {
    "duration": 0,
    "start_time": "2022-03-30T12:48:17.228Z"
   },
   {
    "duration": 0,
    "start_time": "2022-03-30T12:48:17.229Z"
   },
   {
    "duration": 0,
    "start_time": "2022-03-30T12:48:17.230Z"
   },
   {
    "duration": 0,
    "start_time": "2022-03-30T12:48:17.231Z"
   },
   {
    "duration": 0,
    "start_time": "2022-03-30T12:48:17.232Z"
   },
   {
    "duration": 0,
    "start_time": "2022-03-30T12:48:17.233Z"
   },
   {
    "duration": 0,
    "start_time": "2022-03-30T12:48:17.234Z"
   },
   {
    "duration": 0,
    "start_time": "2022-03-30T12:48:17.236Z"
   },
   {
    "duration": 0,
    "start_time": "2022-03-30T12:48:17.237Z"
   },
   {
    "duration": 0,
    "start_time": "2022-03-30T12:48:17.238Z"
   },
   {
    "duration": 0,
    "start_time": "2022-03-30T12:48:17.239Z"
   },
   {
    "duration": 0,
    "start_time": "2022-03-30T12:48:17.240Z"
   },
   {
    "duration": 0,
    "start_time": "2022-03-30T12:48:17.242Z"
   },
   {
    "duration": 0,
    "start_time": "2022-03-30T12:48:17.244Z"
   },
   {
    "duration": 0,
    "start_time": "2022-03-30T12:48:17.245Z"
   },
   {
    "duration": 0,
    "start_time": "2022-03-30T12:48:17.246Z"
   },
   {
    "duration": 0,
    "start_time": "2022-03-30T12:48:17.247Z"
   },
   {
    "duration": 0,
    "start_time": "2022-03-30T12:48:17.249Z"
   },
   {
    "duration": 0,
    "start_time": "2022-03-30T12:48:17.250Z"
   },
   {
    "duration": 0,
    "start_time": "2022-03-30T12:48:17.251Z"
   },
   {
    "duration": 2,
    "start_time": "2022-03-30T12:48:56.866Z"
   },
   {
    "duration": 178,
    "start_time": "2022-03-30T12:48:56.870Z"
   },
   {
    "duration": 12,
    "start_time": "2022-03-30T12:48:57.049Z"
   },
   {
    "duration": 168,
    "start_time": "2022-03-30T12:48:57.062Z"
   },
   {
    "duration": 0,
    "start_time": "2022-03-30T12:48:57.232Z"
   },
   {
    "duration": 0,
    "start_time": "2022-03-30T12:48:57.234Z"
   },
   {
    "duration": 0,
    "start_time": "2022-03-30T12:48:57.235Z"
   },
   {
    "duration": 0,
    "start_time": "2022-03-30T12:48:57.237Z"
   },
   {
    "duration": 0,
    "start_time": "2022-03-30T12:48:57.238Z"
   },
   {
    "duration": 0,
    "start_time": "2022-03-30T12:48:57.238Z"
   },
   {
    "duration": 0,
    "start_time": "2022-03-30T12:48:57.239Z"
   },
   {
    "duration": 0,
    "start_time": "2022-03-30T12:48:57.241Z"
   },
   {
    "duration": 0,
    "start_time": "2022-03-30T12:48:57.242Z"
   },
   {
    "duration": 0,
    "start_time": "2022-03-30T12:48:57.243Z"
   },
   {
    "duration": 0,
    "start_time": "2022-03-30T12:48:57.244Z"
   },
   {
    "duration": 0,
    "start_time": "2022-03-30T12:48:57.244Z"
   },
   {
    "duration": 0,
    "start_time": "2022-03-30T12:48:57.246Z"
   },
   {
    "duration": 0,
    "start_time": "2022-03-30T12:48:57.247Z"
   },
   {
    "duration": 0,
    "start_time": "2022-03-30T12:48:57.248Z"
   },
   {
    "duration": 0,
    "start_time": "2022-03-30T12:48:57.249Z"
   },
   {
    "duration": 0,
    "start_time": "2022-03-30T12:48:57.250Z"
   },
   {
    "duration": 0,
    "start_time": "2022-03-30T12:48:57.251Z"
   },
   {
    "duration": 0,
    "start_time": "2022-03-30T12:48:57.252Z"
   },
   {
    "duration": 0,
    "start_time": "2022-03-30T12:48:57.253Z"
   },
   {
    "duration": 0,
    "start_time": "2022-03-30T12:48:57.254Z"
   },
   {
    "duration": 0,
    "start_time": "2022-03-30T12:48:57.255Z"
   },
   {
    "duration": 0,
    "start_time": "2022-03-30T12:48:57.256Z"
   },
   {
    "duration": 0,
    "start_time": "2022-03-30T12:48:57.257Z"
   },
   {
    "duration": 0,
    "start_time": "2022-03-30T12:48:57.258Z"
   },
   {
    "duration": 0,
    "start_time": "2022-03-30T12:48:57.259Z"
   },
   {
    "duration": 0,
    "start_time": "2022-03-30T12:48:57.261Z"
   },
   {
    "duration": 0,
    "start_time": "2022-03-30T12:48:57.261Z"
   },
   {
    "duration": 0,
    "start_time": "2022-03-30T12:48:57.263Z"
   },
   {
    "duration": 0,
    "start_time": "2022-03-30T12:48:57.264Z"
   },
   {
    "duration": 0,
    "start_time": "2022-03-30T12:48:57.265Z"
   },
   {
    "duration": 0,
    "start_time": "2022-03-30T12:48:57.265Z"
   },
   {
    "duration": 0,
    "start_time": "2022-03-30T12:48:57.267Z"
   },
   {
    "duration": 0,
    "start_time": "2022-03-30T12:48:57.268Z"
   },
   {
    "duration": 0,
    "start_time": "2022-03-30T12:48:57.269Z"
   },
   {
    "duration": 174,
    "start_time": "2022-03-30T12:49:17.974Z"
   },
   {
    "duration": 30,
    "start_time": "2022-03-30T12:49:20.940Z"
   },
   {
    "duration": 4,
    "start_time": "2022-03-30T12:49:31.527Z"
   },
   {
    "duration": 10,
    "start_time": "2022-03-30T12:49:47.279Z"
   },
   {
    "duration": 4,
    "start_time": "2022-03-30T12:49:50.485Z"
   },
   {
    "duration": 3,
    "start_time": "2022-03-30T12:52:53.681Z"
   },
   {
    "duration": 189,
    "start_time": "2022-03-30T12:52:53.686Z"
   },
   {
    "duration": 11,
    "start_time": "2022-03-30T12:52:53.876Z"
   },
   {
    "duration": 176,
    "start_time": "2022-03-30T12:52:53.889Z"
   },
   {
    "duration": 0,
    "start_time": "2022-03-30T12:52:54.066Z"
   },
   {
    "duration": 0,
    "start_time": "2022-03-30T12:52:54.067Z"
   },
   {
    "duration": 0,
    "start_time": "2022-03-30T12:52:54.068Z"
   },
   {
    "duration": 0,
    "start_time": "2022-03-30T12:52:54.070Z"
   },
   {
    "duration": 4,
    "start_time": "2022-03-30T12:53:08.258Z"
   },
   {
    "duration": 177,
    "start_time": "2022-03-30T12:53:08.263Z"
   },
   {
    "duration": 10,
    "start_time": "2022-03-30T12:53:08.442Z"
   },
   {
    "duration": 174,
    "start_time": "2022-03-30T12:53:08.453Z"
   },
   {
    "duration": 0,
    "start_time": "2022-03-30T12:53:08.628Z"
   },
   {
    "duration": 0,
    "start_time": "2022-03-30T12:53:08.630Z"
   },
   {
    "duration": 0,
    "start_time": "2022-03-30T12:53:08.631Z"
   },
   {
    "duration": 0,
    "start_time": "2022-03-30T12:53:08.632Z"
   },
   {
    "duration": 0,
    "start_time": "2022-03-30T12:53:08.633Z"
   },
   {
    "duration": 6,
    "start_time": "2022-03-30T12:53:15.012Z"
   },
   {
    "duration": 26,
    "start_time": "2022-03-30T12:53:17.352Z"
   },
   {
    "duration": 0,
    "start_time": "2022-03-30T12:53:25.021Z"
   },
   {
    "duration": 2655,
    "start_time": "2022-03-30T12:53:32.190Z"
   },
   {
    "duration": 2768,
    "start_time": "2022-03-30T13:05:35.691Z"
   },
   {
    "duration": 31,
    "start_time": "2022-03-30T13:05:38.525Z"
   },
   {
    "duration": 2669,
    "start_time": "2022-03-30T13:05:49.733Z"
   },
   {
    "duration": 26,
    "start_time": "2022-03-30T13:05:52.753Z"
   },
   {
    "duration": 2774,
    "start_time": "2022-03-30T13:07:34.058Z"
   },
   {
    "duration": 2746,
    "start_time": "2022-03-30T13:18:56.121Z"
   },
   {
    "duration": 8,
    "start_time": "2022-03-30T13:19:28.255Z"
   },
   {
    "duration": 3758,
    "start_time": "2022-03-30T13:20:37.740Z"
   },
   {
    "duration": 254,
    "start_time": "2022-03-30T13:22:59.933Z"
   },
   {
    "duration": 173,
    "start_time": "2022-03-30T13:23:26.432Z"
   },
   {
    "duration": 5,
    "start_time": "2022-03-30T13:24:54.624Z"
   },
   {
    "duration": 6,
    "start_time": "2022-03-30T13:24:57.825Z"
   },
   {
    "duration": 5,
    "start_time": "2022-03-30T13:25:03.405Z"
   },
   {
    "duration": 29,
    "start_time": "2022-03-30T13:25:13.359Z"
   },
   {
    "duration": 178,
    "start_time": "2022-03-30T13:25:17.059Z"
   },
   {
    "duration": 197,
    "start_time": "2022-03-30T13:26:57.372Z"
   },
   {
    "duration": 16,
    "start_time": "2022-03-30T13:27:12.869Z"
   },
   {
    "duration": 19,
    "start_time": "2022-03-30T13:27:20.118Z"
   },
   {
    "duration": 27,
    "start_time": "2022-03-30T13:27:23.354Z"
   },
   {
    "duration": 2,
    "start_time": "2022-03-30T13:27:36.907Z"
   },
   {
    "duration": 203,
    "start_time": "2022-03-30T13:27:36.912Z"
   },
   {
    "duration": 11,
    "start_time": "2022-03-30T13:27:37.117Z"
   },
   {
    "duration": 176,
    "start_time": "2022-03-30T13:27:37.130Z"
   },
   {
    "duration": 0,
    "start_time": "2022-03-30T13:27:37.309Z"
   },
   {
    "duration": 0,
    "start_time": "2022-03-30T13:27:37.310Z"
   },
   {
    "duration": 0,
    "start_time": "2022-03-30T13:27:37.311Z"
   },
   {
    "duration": 0,
    "start_time": "2022-03-30T13:27:37.312Z"
   },
   {
    "duration": 0,
    "start_time": "2022-03-30T13:27:37.313Z"
   },
   {
    "duration": 2875,
    "start_time": "2022-03-30T13:27:42.833Z"
   },
   {
    "duration": 8,
    "start_time": "2022-03-30T13:27:59.758Z"
   },
   {
    "duration": 4,
    "start_time": "2022-03-30T13:28:03.108Z"
   },
   {
    "duration": 27,
    "start_time": "2022-03-30T13:28:06.222Z"
   },
   {
    "duration": 18,
    "start_time": "2022-03-30T13:28:09.052Z"
   },
   {
    "duration": 32,
    "start_time": "2022-03-30T13:28:14.141Z"
   },
   {
    "duration": 16,
    "start_time": "2022-03-30T13:28:16.688Z"
   },
   {
    "duration": 26,
    "start_time": "2022-03-30T13:28:19.837Z"
   },
   {
    "duration": 17,
    "start_time": "2022-03-30T13:28:39.781Z"
   },
   {
    "duration": 27,
    "start_time": "2022-03-30T13:28:42.181Z"
   },
   {
    "duration": 3,
    "start_time": "2022-03-30T13:33:58.569Z"
   },
   {
    "duration": 175,
    "start_time": "2022-03-30T13:33:58.574Z"
   },
   {
    "duration": 12,
    "start_time": "2022-03-30T13:33:58.752Z"
   },
   {
    "duration": 213,
    "start_time": "2022-03-30T13:33:58.766Z"
   },
   {
    "duration": 0,
    "start_time": "2022-03-30T13:33:58.982Z"
   },
   {
    "duration": 0,
    "start_time": "2022-03-30T13:33:58.983Z"
   },
   {
    "duration": 0,
    "start_time": "2022-03-30T13:33:58.985Z"
   },
   {
    "duration": 0,
    "start_time": "2022-03-30T13:33:58.986Z"
   },
   {
    "duration": 0,
    "start_time": "2022-03-30T13:33:58.987Z"
   },
   {
    "duration": 0,
    "start_time": "2022-03-30T13:33:58.988Z"
   },
   {
    "duration": 0,
    "start_time": "2022-03-30T13:33:58.990Z"
   },
   {
    "duration": 0,
    "start_time": "2022-03-30T13:33:58.991Z"
   },
   {
    "duration": 0,
    "start_time": "2022-03-30T13:33:58.992Z"
   },
   {
    "duration": 0,
    "start_time": "2022-03-30T13:33:58.993Z"
   },
   {
    "duration": 0,
    "start_time": "2022-03-30T13:33:58.994Z"
   },
   {
    "duration": 0,
    "start_time": "2022-03-30T13:33:58.994Z"
   },
   {
    "duration": 0,
    "start_time": "2022-03-30T13:33:58.995Z"
   },
   {
    "duration": 0,
    "start_time": "2022-03-30T13:33:58.996Z"
   },
   {
    "duration": 0,
    "start_time": "2022-03-30T13:33:58.997Z"
   },
   {
    "duration": 0,
    "start_time": "2022-03-30T13:33:58.998Z"
   },
   {
    "duration": 0,
    "start_time": "2022-03-30T13:33:59.000Z"
   },
   {
    "duration": 0,
    "start_time": "2022-03-30T13:33:59.001Z"
   },
   {
    "duration": 0,
    "start_time": "2022-03-30T13:33:59.002Z"
   },
   {
    "duration": 0,
    "start_time": "2022-03-30T13:33:59.003Z"
   },
   {
    "duration": 0,
    "start_time": "2022-03-30T13:33:59.004Z"
   },
   {
    "duration": 0,
    "start_time": "2022-03-30T13:33:59.005Z"
   },
   {
    "duration": 0,
    "start_time": "2022-03-30T13:33:59.006Z"
   },
   {
    "duration": 0,
    "start_time": "2022-03-30T13:33:59.007Z"
   },
   {
    "duration": 0,
    "start_time": "2022-03-30T13:33:59.008Z"
   },
   {
    "duration": 0,
    "start_time": "2022-03-30T13:33:59.009Z"
   },
   {
    "duration": 0,
    "start_time": "2022-03-30T13:33:59.010Z"
   },
   {
    "duration": 0,
    "start_time": "2022-03-30T13:33:59.011Z"
   },
   {
    "duration": 0,
    "start_time": "2022-03-30T13:33:59.012Z"
   },
   {
    "duration": 0,
    "start_time": "2022-03-30T13:33:59.013Z"
   },
   {
    "duration": 0,
    "start_time": "2022-03-30T13:33:59.014Z"
   },
   {
    "duration": 0,
    "start_time": "2022-03-30T13:33:59.015Z"
   },
   {
    "duration": 0,
    "start_time": "2022-03-30T13:33:59.016Z"
   },
   {
    "duration": 1,
    "start_time": "2022-03-30T13:33:59.016Z"
   },
   {
    "duration": 0,
    "start_time": "2022-03-30T13:33:59.017Z"
   },
   {
    "duration": 2,
    "start_time": "2022-03-30T13:34:04.159Z"
   },
   {
    "duration": 179,
    "start_time": "2022-03-30T13:34:04.163Z"
   },
   {
    "duration": 11,
    "start_time": "2022-03-30T13:34:04.344Z"
   },
   {
    "duration": 183,
    "start_time": "2022-03-30T13:34:04.357Z"
   },
   {
    "duration": 0,
    "start_time": "2022-03-30T13:34:04.543Z"
   },
   {
    "duration": 0,
    "start_time": "2022-03-30T13:34:04.544Z"
   },
   {
    "duration": 0,
    "start_time": "2022-03-30T13:34:04.545Z"
   },
   {
    "duration": 0,
    "start_time": "2022-03-30T13:34:04.546Z"
   },
   {
    "duration": 0,
    "start_time": "2022-03-30T13:34:04.547Z"
   },
   {
    "duration": 1,
    "start_time": "2022-03-30T13:34:04.548Z"
   },
   {
    "duration": 0,
    "start_time": "2022-03-30T13:34:04.550Z"
   },
   {
    "duration": 0,
    "start_time": "2022-03-30T13:34:04.551Z"
   },
   {
    "duration": 0,
    "start_time": "2022-03-30T13:34:04.552Z"
   },
   {
    "duration": 0,
    "start_time": "2022-03-30T13:34:04.553Z"
   },
   {
    "duration": 0,
    "start_time": "2022-03-30T13:34:04.554Z"
   },
   {
    "duration": 0,
    "start_time": "2022-03-30T13:34:04.555Z"
   },
   {
    "duration": 0,
    "start_time": "2022-03-30T13:34:04.556Z"
   },
   {
    "duration": 0,
    "start_time": "2022-03-30T13:34:04.557Z"
   },
   {
    "duration": 0,
    "start_time": "2022-03-30T13:34:04.558Z"
   },
   {
    "duration": 0,
    "start_time": "2022-03-30T13:34:04.559Z"
   },
   {
    "duration": 0,
    "start_time": "2022-03-30T13:34:04.560Z"
   },
   {
    "duration": 0,
    "start_time": "2022-03-30T13:34:04.561Z"
   },
   {
    "duration": 0,
    "start_time": "2022-03-30T13:34:04.562Z"
   },
   {
    "duration": 0,
    "start_time": "2022-03-30T13:34:04.563Z"
   },
   {
    "duration": 0,
    "start_time": "2022-03-30T13:34:04.564Z"
   },
   {
    "duration": 0,
    "start_time": "2022-03-30T13:34:04.565Z"
   },
   {
    "duration": 0,
    "start_time": "2022-03-30T13:34:04.566Z"
   },
   {
    "duration": 0,
    "start_time": "2022-03-30T13:34:04.567Z"
   },
   {
    "duration": 0,
    "start_time": "2022-03-30T13:34:04.568Z"
   },
   {
    "duration": 0,
    "start_time": "2022-03-30T13:34:04.569Z"
   },
   {
    "duration": 0,
    "start_time": "2022-03-30T13:34:04.570Z"
   },
   {
    "duration": 0,
    "start_time": "2022-03-30T13:34:04.571Z"
   },
   {
    "duration": 0,
    "start_time": "2022-03-30T13:34:04.572Z"
   },
   {
    "duration": 0,
    "start_time": "2022-03-30T13:34:04.573Z"
   },
   {
    "duration": 0,
    "start_time": "2022-03-30T13:34:04.574Z"
   },
   {
    "duration": 0,
    "start_time": "2022-03-30T13:34:04.575Z"
   },
   {
    "duration": 0,
    "start_time": "2022-03-30T13:34:04.576Z"
   },
   {
    "duration": 0,
    "start_time": "2022-03-30T13:34:04.577Z"
   },
   {
    "duration": 0,
    "start_time": "2022-03-30T13:34:04.578Z"
   },
   {
    "duration": 3,
    "start_time": "2022-03-30T13:34:19.097Z"
   },
   {
    "duration": 169,
    "start_time": "2022-03-30T13:34:19.101Z"
   },
   {
    "duration": 11,
    "start_time": "2022-03-30T13:34:19.272Z"
   },
   {
    "duration": 163,
    "start_time": "2022-03-30T13:34:19.285Z"
   },
   {
    "duration": 0,
    "start_time": "2022-03-30T13:34:19.450Z"
   },
   {
    "duration": 0,
    "start_time": "2022-03-30T13:34:19.451Z"
   },
   {
    "duration": 0,
    "start_time": "2022-03-30T13:34:19.452Z"
   },
   {
    "duration": 0,
    "start_time": "2022-03-30T13:34:19.453Z"
   },
   {
    "duration": 0,
    "start_time": "2022-03-30T13:34:19.454Z"
   },
   {
    "duration": 2,
    "start_time": "2022-03-30T13:34:34.266Z"
   },
   {
    "duration": 165,
    "start_time": "2022-03-30T13:34:35.885Z"
   },
   {
    "duration": 12,
    "start_time": "2022-03-30T13:34:37.832Z"
   },
   {
    "duration": 32,
    "start_time": "2022-03-30T13:34:41.644Z"
   },
   {
    "duration": 4,
    "start_time": "2022-03-30T13:34:47.218Z"
   },
   {
    "duration": 8,
    "start_time": "2022-03-30T13:34:49.702Z"
   },
   {
    "duration": 4,
    "start_time": "2022-03-30T13:34:51.767Z"
   },
   {
    "duration": 27,
    "start_time": "2022-03-30T13:34:54.185Z"
   },
   {
    "duration": 19,
    "start_time": "2022-03-30T13:34:56.646Z"
   },
   {
    "duration": 29,
    "start_time": "2022-03-30T13:35:00.186Z"
   },
   {
    "duration": 17,
    "start_time": "2022-03-30T13:36:03.319Z"
   },
   {
    "duration": 28,
    "start_time": "2022-03-30T13:36:03.338Z"
   },
   {
    "duration": 4,
    "start_time": "2022-03-30T13:36:03.368Z"
   },
   {
    "duration": 5,
    "start_time": "2022-03-30T13:36:03.374Z"
   },
   {
    "duration": 5,
    "start_time": "2022-03-30T13:36:03.381Z"
   },
   {
    "duration": 7,
    "start_time": "2022-03-30T13:36:03.388Z"
   },
   {
    "duration": 10,
    "start_time": "2022-03-30T13:36:03.396Z"
   },
   {
    "duration": 24,
    "start_time": "2022-03-30T13:36:03.408Z"
   },
   {
    "duration": 8,
    "start_time": "2022-03-30T13:36:03.434Z"
   },
   {
    "duration": 6,
    "start_time": "2022-03-30T13:36:03.445Z"
   },
   {
    "duration": 11,
    "start_time": "2022-03-30T13:36:03.452Z"
   },
   {
    "duration": 7,
    "start_time": "2022-03-30T13:36:03.465Z"
   },
   {
    "duration": 6,
    "start_time": "2022-03-30T13:36:03.474Z"
   },
   {
    "duration": 6,
    "start_time": "2022-03-30T13:36:03.482Z"
   },
   {
    "duration": 14,
    "start_time": "2022-03-30T13:36:03.490Z"
   },
   {
    "duration": 8,
    "start_time": "2022-03-30T13:36:03.505Z"
   },
   {
    "duration": 29,
    "start_time": "2022-03-30T13:36:03.514Z"
   },
   {
    "duration": 21,
    "start_time": "2022-03-30T13:36:03.544Z"
   },
   {
    "duration": 7,
    "start_time": "2022-03-30T13:36:03.567Z"
   },
   {
    "duration": 6,
    "start_time": "2022-03-30T13:36:03.576Z"
   },
   {
    "duration": 6,
    "start_time": "2022-03-30T13:36:03.583Z"
   },
   {
    "duration": 8,
    "start_time": "2022-03-30T13:36:03.591Z"
   },
   {
    "duration": 11,
    "start_time": "2022-03-30T13:36:03.601Z"
   },
   {
    "duration": 10,
    "start_time": "2022-03-30T13:36:03.613Z"
   },
   {
    "duration": 18,
    "start_time": "2022-03-30T13:36:03.624Z"
   },
   {
    "duration": 23,
    "start_time": "2022-03-30T13:36:03.644Z"
   },
   {
    "duration": 11,
    "start_time": "2022-03-30T13:36:03.669Z"
   },
   {
    "duration": 8,
    "start_time": "2022-03-30T13:36:03.683Z"
   },
   {
    "duration": 11,
    "start_time": "2022-03-30T13:36:03.693Z"
   },
   {
    "duration": 9,
    "start_time": "2022-03-30T13:36:03.705Z"
   },
   {
    "duration": 16,
    "start_time": "2022-03-30T13:38:52.522Z"
   },
   {
    "duration": 29,
    "start_time": "2022-03-30T13:38:55.270Z"
   },
   {
    "duration": 44,
    "start_time": "2022-03-30T13:38:57.097Z"
   },
   {
    "duration": 67,
    "start_time": "2022-03-30T13:55:30.726Z"
   },
   {
    "duration": 432,
    "start_time": "2022-03-30T13:55:48.921Z"
   },
   {
    "duration": 173,
    "start_time": "2022-03-30T13:55:49.356Z"
   },
   {
    "duration": 24,
    "start_time": "2022-03-30T13:55:49.531Z"
   },
   {
    "duration": 134,
    "start_time": "2022-03-30T13:55:49.557Z"
   },
   {
    "duration": 0,
    "start_time": "2022-03-30T13:55:49.693Z"
   },
   {
    "duration": 0,
    "start_time": "2022-03-30T13:55:49.695Z"
   },
   {
    "duration": 0,
    "start_time": "2022-03-30T13:55:49.697Z"
   },
   {
    "duration": 0,
    "start_time": "2022-03-30T13:55:49.698Z"
   },
   {
    "duration": 0,
    "start_time": "2022-03-30T13:55:49.700Z"
   },
   {
    "duration": 0,
    "start_time": "2022-03-30T13:55:49.702Z"
   },
   {
    "duration": 0,
    "start_time": "2022-03-30T13:55:49.703Z"
   },
   {
    "duration": 3,
    "start_time": "2022-03-30T13:55:55.157Z"
   },
   {
    "duration": 232,
    "start_time": "2022-03-30T13:56:00.092Z"
   },
   {
    "duration": 15,
    "start_time": "2022-03-30T13:56:01.930Z"
   },
   {
    "duration": 39,
    "start_time": "2022-03-30T13:56:06.978Z"
   },
   {
    "duration": 6,
    "start_time": "2022-03-30T13:56:11.251Z"
   },
   {
    "duration": 14,
    "start_time": "2022-03-30T13:56:13.971Z"
   },
   {
    "duration": 5,
    "start_time": "2022-03-30T13:56:16.626Z"
   },
   {
    "duration": 36,
    "start_time": "2022-03-30T13:56:19.692Z"
   },
   {
    "duration": 19,
    "start_time": "2022-03-30T13:56:23.020Z"
   },
   {
    "duration": 33,
    "start_time": "2022-03-30T13:56:25.909Z"
   },
   {
    "duration": 95,
    "start_time": "2022-03-30T13:56:29.144Z"
   },
   {
    "duration": 91,
    "start_time": "2022-03-30T13:56:35.838Z"
   },
   {
    "duration": 104,
    "start_time": "2022-03-30T13:57:39.262Z"
   },
   {
    "duration": 80,
    "start_time": "2022-03-30T13:57:48.744Z"
   },
   {
    "duration": 47,
    "start_time": "2022-03-30T14:00:14.250Z"
   },
   {
    "duration": 4,
    "start_time": "2022-03-30T14:08:13.381Z"
   },
   {
    "duration": 37,
    "start_time": "2022-03-30T14:10:00.697Z"
   },
   {
    "duration": 9,
    "start_time": "2022-03-30T14:10:34.716Z"
   },
   {
    "duration": 10,
    "start_time": "2022-03-30T14:10:38.563Z"
   },
   {
    "duration": 51,
    "start_time": "2022-03-30T14:10:59.607Z"
   },
   {
    "duration": 5,
    "start_time": "2022-03-30T14:11:17.788Z"
   },
   {
    "duration": 10,
    "start_time": "2022-03-30T14:11:19.528Z"
   },
   {
    "duration": 13,
    "start_time": "2022-03-30T14:13:09.356Z"
   },
   {
    "duration": 52,
    "start_time": "2022-03-30T14:13:12.439Z"
   },
   {
    "duration": 10,
    "start_time": "2022-03-30T15:03:17.188Z"
   },
   {
    "duration": 56,
    "start_time": "2022-03-30T15:03:20.675Z"
   },
   {
    "duration": 77,
    "start_time": "2022-03-30T15:07:15.710Z"
   },
   {
    "duration": 3,
    "start_time": "2022-03-30T15:07:25.139Z"
   },
   {
    "duration": 188,
    "start_time": "2022-03-30T15:07:25.144Z"
   },
   {
    "duration": 16,
    "start_time": "2022-03-30T15:07:25.334Z"
   },
   {
    "duration": 149,
    "start_time": "2022-03-30T15:07:25.353Z"
   },
   {
    "duration": 1,
    "start_time": "2022-03-30T15:07:25.504Z"
   },
   {
    "duration": 0,
    "start_time": "2022-03-30T15:07:25.506Z"
   },
   {
    "duration": 0,
    "start_time": "2022-03-30T15:07:25.508Z"
   },
   {
    "duration": 0,
    "start_time": "2022-03-30T15:07:25.509Z"
   },
   {
    "duration": 0,
    "start_time": "2022-03-30T15:07:25.511Z"
   },
   {
    "duration": 0,
    "start_time": "2022-03-30T15:07:25.512Z"
   },
   {
    "duration": 0,
    "start_time": "2022-03-30T15:07:25.514Z"
   },
   {
    "duration": 0,
    "start_time": "2022-03-30T15:07:25.515Z"
   },
   {
    "duration": 0,
    "start_time": "2022-03-30T15:07:25.517Z"
   },
   {
    "duration": 0,
    "start_time": "2022-03-30T15:07:25.519Z"
   },
   {
    "duration": 4,
    "start_time": "2022-03-30T15:07:31.871Z"
   },
   {
    "duration": 194,
    "start_time": "2022-03-30T15:07:33.702Z"
   },
   {
    "duration": 16,
    "start_time": "2022-03-30T15:07:35.275Z"
   },
   {
    "duration": 188,
    "start_time": "2022-03-30T15:07:38.863Z"
   },
   {
    "duration": 42,
    "start_time": "2022-03-30T15:07:39.841Z"
   },
   {
    "duration": 5,
    "start_time": "2022-03-30T15:07:43.326Z"
   },
   {
    "duration": 10,
    "start_time": "2022-03-30T15:07:46.048Z"
   },
   {
    "duration": 6,
    "start_time": "2022-03-30T15:07:47.894Z"
   },
   {
    "duration": 34,
    "start_time": "2022-03-30T15:07:50.583Z"
   },
   {
    "duration": 30,
    "start_time": "2022-03-30T15:07:53.543Z"
   },
   {
    "duration": 34,
    "start_time": "2022-03-30T15:07:55.236Z"
   },
   {
    "duration": 90,
    "start_time": "2022-03-30T15:07:57.990Z"
   },
   {
    "duration": 104,
    "start_time": "2022-03-30T15:08:00.378Z"
   },
   {
    "duration": 81,
    "start_time": "2022-03-30T15:08:02.098Z"
   },
   {
    "duration": 51,
    "start_time": "2022-03-30T15:08:05.010Z"
   },
   {
    "duration": 4,
    "start_time": "2022-03-30T15:08:10.050Z"
   },
   {
    "duration": 11,
    "start_time": "2022-03-30T15:08:11.782Z"
   },
   {
    "duration": 57,
    "start_time": "2022-03-30T15:08:15.046Z"
   },
   {
    "duration": 33,
    "start_time": "2022-03-30T15:08:40.381Z"
   },
   {
    "duration": 52,
    "start_time": "2022-03-30T15:08:47.069Z"
   },
   {
    "duration": 56,
    "start_time": "2022-03-30T15:15:26.081Z"
   },
   {
    "duration": 16,
    "start_time": "2022-03-30T15:15:54.855Z"
   },
   {
    "duration": 15,
    "start_time": "2022-03-30T15:17:22.256Z"
   },
   {
    "duration": 13,
    "start_time": "2022-03-30T15:18:20.583Z"
   },
   {
    "duration": 15,
    "start_time": "2022-03-30T15:18:35.921Z"
   },
   {
    "duration": 12,
    "start_time": "2022-03-30T15:40:18.916Z"
   },
   {
    "duration": 6,
    "start_time": "2022-03-30T15:40:32.024Z"
   },
   {
    "duration": 588,
    "start_time": "2022-03-30T15:40:36.798Z"
   },
   {
    "duration": 17,
    "start_time": "2022-03-30T15:40:42.828Z"
   },
   {
    "duration": 15,
    "start_time": "2022-03-30T15:40:44.724Z"
   },
   {
    "duration": 5,
    "start_time": "2022-03-30T15:40:47.518Z"
   },
   {
    "duration": 605,
    "start_time": "2022-03-30T15:40:49.473Z"
   },
   {
    "duration": 5,
    "start_time": "2022-03-30T15:45:18.776Z"
   },
   {
    "duration": 4,
    "start_time": "2022-03-30T15:45:22.738Z"
   },
   {
    "duration": 16,
    "start_time": "2022-03-30T15:45:25.471Z"
   },
   {
    "duration": 24,
    "start_time": "2022-03-30T15:45:39.127Z"
   },
   {
    "duration": 19,
    "start_time": "2022-03-30T15:46:01.707Z"
   },
   {
    "duration": 21,
    "start_time": "2022-03-30T15:46:28.983Z"
   },
   {
    "duration": 18,
    "start_time": "2022-03-30T15:46:37.189Z"
   },
   {
    "duration": 19,
    "start_time": "2022-03-30T15:46:42.229Z"
   },
   {
    "duration": 23,
    "start_time": "2022-03-30T15:47:05.582Z"
   },
   {
    "duration": 18,
    "start_time": "2022-03-30T15:47:30.681Z"
   },
   {
    "duration": 11,
    "start_time": "2022-03-30T15:49:32.802Z"
   },
   {
    "duration": 11,
    "start_time": "2022-03-30T15:50:35.095Z"
   },
   {
    "duration": 11,
    "start_time": "2022-03-30T15:50:38.827Z"
   },
   {
    "duration": 14,
    "start_time": "2022-03-30T15:52:12.789Z"
   },
   {
    "duration": 13,
    "start_time": "2022-03-30T15:54:20.494Z"
   },
   {
    "duration": 13,
    "start_time": "2022-03-30T15:54:36.838Z"
   },
   {
    "duration": 14,
    "start_time": "2022-03-30T15:57:18.508Z"
   },
   {
    "duration": 13,
    "start_time": "2022-03-30T15:57:20.404Z"
   },
   {
    "duration": 6,
    "start_time": "2022-03-30T16:06:42.107Z"
   },
   {
    "duration": 34,
    "start_time": "2022-03-30T16:08:04.512Z"
   },
   {
    "duration": 6,
    "start_time": "2022-03-30T16:08:37.360Z"
   },
   {
    "duration": 2327,
    "start_time": "2022-03-30T16:08:39.240Z"
   },
   {
    "duration": 2447,
    "start_time": "2022-03-30T16:10:11.624Z"
   },
   {
    "duration": 143,
    "start_time": "2022-03-30T16:13:16.182Z"
   },
   {
    "duration": 6,
    "start_time": "2022-03-30T16:13:22.166Z"
   },
   {
    "duration": 30,
    "start_time": "2022-03-30T16:13:25.088Z"
   },
   {
    "duration": 7,
    "start_time": "2022-03-30T16:17:00.651Z"
   },
   {
    "duration": 30,
    "start_time": "2022-03-30T16:17:02.420Z"
   },
   {
    "duration": 7,
    "start_time": "2022-03-30T16:26:04.860Z"
   },
   {
    "duration": 31,
    "start_time": "2022-03-30T16:26:07.614Z"
   },
   {
    "duration": 31,
    "start_time": "2022-03-30T16:26:09.876Z"
   },
   {
    "duration": 6,
    "start_time": "2022-03-30T16:26:13.427Z"
   },
   {
    "duration": 29,
    "start_time": "2022-03-30T16:26:16.617Z"
   },
   {
    "duration": 5,
    "start_time": "2022-03-30T16:28:29.908Z"
   },
   {
    "duration": 30,
    "start_time": "2022-03-30T16:28:35.898Z"
   },
   {
    "duration": 6,
    "start_time": "2022-03-30T16:38:29.566Z"
   },
   {
    "duration": 6,
    "start_time": "2022-03-30T16:38:31.694Z"
   },
   {
    "duration": 44,
    "start_time": "2022-03-30T16:38:33.910Z"
   },
   {
    "duration": 6,
    "start_time": "2022-03-30T16:40:28.625Z"
   },
   {
    "duration": 33,
    "start_time": "2022-03-30T16:40:31.668Z"
   },
   {
    "duration": 7,
    "start_time": "2022-03-30T16:44:51.208Z"
   },
   {
    "duration": 2321,
    "start_time": "2022-03-30T16:44:53.562Z"
   },
   {
    "duration": 8,
    "start_time": "2022-03-30T16:50:56.712Z"
   },
   {
    "duration": 2278,
    "start_time": "2022-03-30T16:50:58.705Z"
   },
   {
    "duration": 31,
    "start_time": "2022-03-30T16:58:29.188Z"
   },
   {
    "duration": 522,
    "start_time": "2022-03-30T17:03:52.758Z"
   },
   {
    "duration": 204,
    "start_time": "2022-03-30T17:03:56.544Z"
   },
   {
    "duration": 25,
    "start_time": "2022-03-30T17:03:59.014Z"
   },
   {
    "duration": 45,
    "start_time": "2022-03-30T17:04:03.156Z"
   },
   {
    "duration": 6,
    "start_time": "2022-03-30T17:04:07.456Z"
   },
   {
    "duration": 19,
    "start_time": "2022-03-30T17:04:09.972Z"
   },
   {
    "duration": 5,
    "start_time": "2022-03-30T17:04:12.668Z"
   },
   {
    "duration": 33,
    "start_time": "2022-03-30T17:04:14.552Z"
   },
   {
    "duration": 20,
    "start_time": "2022-03-30T17:04:17.061Z"
   },
   {
    "duration": 34,
    "start_time": "2022-03-30T17:04:19.414Z"
   },
   {
    "duration": 103,
    "start_time": "2022-03-30T17:04:22.635Z"
   },
   {
    "duration": 117,
    "start_time": "2022-03-30T17:04:24.454Z"
   },
   {
    "duration": 89,
    "start_time": "2022-03-30T17:04:26.303Z"
   },
   {
    "duration": 54,
    "start_time": "2022-03-30T17:04:29.392Z"
   },
   {
    "duration": 5,
    "start_time": "2022-03-30T17:04:34.066Z"
   },
   {
    "duration": 47,
    "start_time": "2022-03-30T17:04:35.851Z"
   },
   {
    "duration": 57,
    "start_time": "2022-03-30T17:04:38.191Z"
   },
   {
    "duration": 18,
    "start_time": "2022-03-30T17:04:42.229Z"
   },
   {
    "duration": 16,
    "start_time": "2022-03-30T17:04:46.047Z"
   },
   {
    "duration": 92,
    "start_time": "2022-03-30T17:05:54.966Z"
   },
   {
    "duration": 5,
    "start_time": "2022-03-30T17:06:01.086Z"
   },
   {
    "duration": 23,
    "start_time": "2022-03-30T17:06:03.501Z"
   },
   {
    "duration": 21,
    "start_time": "2022-03-30T17:06:06.662Z"
   },
   {
    "duration": 20,
    "start_time": "2022-03-30T17:06:07.989Z"
   },
   {
    "duration": 20,
    "start_time": "2022-03-30T17:06:08.451Z"
   },
   {
    "duration": 24,
    "start_time": "2022-03-30T17:06:09.034Z"
   },
   {
    "duration": 20,
    "start_time": "2022-03-30T17:06:09.745Z"
   },
   {
    "duration": 14,
    "start_time": "2022-03-30T17:06:12.765Z"
   },
   {
    "duration": 45,
    "start_time": "2022-03-30T17:06:16.088Z"
   },
   {
    "duration": 13,
    "start_time": "2022-03-30T17:06:18.607Z"
   },
   {
    "duration": 7,
    "start_time": "2022-03-30T17:07:16.879Z"
   },
   {
    "duration": 36,
    "start_time": "2022-03-30T17:07:20.855Z"
   },
   {
    "duration": 17,
    "start_time": "2022-03-30T17:09:41.172Z"
   },
   {
    "duration": 13,
    "start_time": "2022-03-30T17:09:47.057Z"
   },
   {
    "duration": 6,
    "start_time": "2022-03-30T17:09:49.063Z"
   },
   {
    "duration": 27,
    "start_time": "2022-03-30T17:09:51.745Z"
   },
   {
    "duration": 29,
    "start_time": "2022-03-30T17:11:11.287Z"
   },
   {
    "duration": 30,
    "start_time": "2022-03-30T17:12:28.310Z"
   },
   {
    "duration": 41,
    "start_time": "2022-03-30T17:12:34.998Z"
   },
   {
    "duration": 30,
    "start_time": "2022-03-30T17:12:42.968Z"
   },
   {
    "duration": 35,
    "start_time": "2022-03-30T17:13:05.667Z"
   },
   {
    "duration": 35,
    "start_time": "2022-03-30T17:13:08.907Z"
   },
   {
    "duration": 38,
    "start_time": "2022-03-30T17:13:11.905Z"
   },
   {
    "duration": 42,
    "start_time": "2022-03-30T17:13:14.083Z"
   },
   {
    "duration": 32,
    "start_time": "2022-03-30T17:13:59.644Z"
   },
   {
    "duration": 34,
    "start_time": "2022-03-30T17:14:21.966Z"
   },
   {
    "duration": 32,
    "start_time": "2022-03-30T17:15:06.635Z"
   },
   {
    "duration": 30,
    "start_time": "2022-03-30T17:15:08.874Z"
   },
   {
    "duration": 8,
    "start_time": "2022-03-30T17:20:34.096Z"
   },
   {
    "duration": 40,
    "start_time": "2022-03-30T17:20:36.613Z"
   },
   {
    "duration": 46,
    "start_time": "2022-03-30T17:20:39.270Z"
   },
   {
    "duration": 46,
    "start_time": "2022-03-30T17:20:40.964Z"
   },
   {
    "duration": 41,
    "start_time": "2022-03-30T17:20:43.139Z"
   },
   {
    "duration": 28,
    "start_time": "2022-03-30T17:24:22.688Z"
   },
   {
    "duration": 35,
    "start_time": "2022-03-30T17:24:56.781Z"
   },
   {
    "duration": 27,
    "start_time": "2022-03-30T17:24:58.730Z"
   },
   {
    "duration": 28,
    "start_time": "2022-03-30T17:25:21.072Z"
   },
   {
    "duration": 104,
    "start_time": "2022-03-30T17:30:31.419Z"
   },
   {
    "duration": 86,
    "start_time": "2022-03-30T17:34:41.557Z"
   },
   {
    "duration": 7,
    "start_time": "2022-03-30T17:34:48.236Z"
   },
   {
    "duration": 5,
    "start_time": "2022-03-30T17:34:59.376Z"
   },
   {
    "duration": 6,
    "start_time": "2022-03-30T17:35:02.454Z"
   },
   {
    "duration": 29,
    "start_time": "2022-03-30T17:35:52.708Z"
   },
   {
    "duration": 358,
    "start_time": "2022-03-31T07:56:56.464Z"
   },
   {
    "duration": 140,
    "start_time": "2022-03-31T07:56:59.074Z"
   },
   {
    "duration": 18,
    "start_time": "2022-03-31T07:57:01.874Z"
   },
   {
    "duration": 3,
    "start_time": "2022-03-31T07:57:53.374Z"
   },
   {
    "duration": 67,
    "start_time": "2022-03-31T07:57:53.379Z"
   },
   {
    "duration": 2,
    "start_time": "2022-03-31T07:58:00.626Z"
   },
   {
    "duration": 165,
    "start_time": "2022-03-31T07:58:00.631Z"
   },
   {
    "duration": 19,
    "start_time": "2022-03-31T07:58:00.798Z"
   },
   {
    "duration": 79,
    "start_time": "2022-03-31T07:58:00.820Z"
   },
   {
    "duration": 0,
    "start_time": "2022-03-31T07:58:00.901Z"
   },
   {
    "duration": 0,
    "start_time": "2022-03-31T07:58:00.903Z"
   },
   {
    "duration": 0,
    "start_time": "2022-03-31T07:58:00.904Z"
   },
   {
    "duration": 0,
    "start_time": "2022-03-31T07:58:00.906Z"
   },
   {
    "duration": 0,
    "start_time": "2022-03-31T07:58:00.907Z"
   },
   {
    "duration": 0,
    "start_time": "2022-03-31T07:58:00.908Z"
   },
   {
    "duration": 0,
    "start_time": "2022-03-31T07:58:00.909Z"
   },
   {
    "duration": 0,
    "start_time": "2022-03-31T07:58:00.910Z"
   },
   {
    "duration": 0,
    "start_time": "2022-03-31T07:58:00.911Z"
   },
   {
    "duration": 0,
    "start_time": "2022-03-31T07:58:00.912Z"
   },
   {
    "duration": 0,
    "start_time": "2022-03-31T07:58:00.913Z"
   },
   {
    "duration": 0,
    "start_time": "2022-03-31T07:58:00.914Z"
   },
   {
    "duration": 0,
    "start_time": "2022-03-31T07:58:00.915Z"
   },
   {
    "duration": 0,
    "start_time": "2022-03-31T07:58:00.916Z"
   },
   {
    "duration": 0,
    "start_time": "2022-03-31T07:58:00.917Z"
   },
   {
    "duration": 0,
    "start_time": "2022-03-31T07:58:00.918Z"
   },
   {
    "duration": 0,
    "start_time": "2022-03-31T07:58:00.919Z"
   },
   {
    "duration": 0,
    "start_time": "2022-03-31T07:58:00.920Z"
   },
   {
    "duration": 0,
    "start_time": "2022-03-31T07:58:00.921Z"
   },
   {
    "duration": 0,
    "start_time": "2022-03-31T07:58:00.923Z"
   },
   {
    "duration": 0,
    "start_time": "2022-03-31T07:58:00.925Z"
   },
   {
    "duration": 0,
    "start_time": "2022-03-31T07:58:00.926Z"
   },
   {
    "duration": 0,
    "start_time": "2022-03-31T07:58:00.927Z"
   },
   {
    "duration": 0,
    "start_time": "2022-03-31T07:58:00.928Z"
   },
   {
    "duration": 0,
    "start_time": "2022-03-31T07:58:00.929Z"
   },
   {
    "duration": 0,
    "start_time": "2022-03-31T07:58:00.930Z"
   },
   {
    "duration": 0,
    "start_time": "2022-03-31T07:58:00.931Z"
   },
   {
    "duration": 0,
    "start_time": "2022-03-31T07:58:00.932Z"
   },
   {
    "duration": 0,
    "start_time": "2022-03-31T07:58:00.933Z"
   },
   {
    "duration": 0,
    "start_time": "2022-03-31T07:58:00.934Z"
   },
   {
    "duration": 0,
    "start_time": "2022-03-31T07:58:00.936Z"
   },
   {
    "duration": 0,
    "start_time": "2022-03-31T07:58:00.937Z"
   },
   {
    "duration": 0,
    "start_time": "2022-03-31T07:58:00.938Z"
   },
   {
    "duration": 0,
    "start_time": "2022-03-31T07:58:00.939Z"
   },
   {
    "duration": 0,
    "start_time": "2022-03-31T07:58:00.940Z"
   },
   {
    "duration": 3,
    "start_time": "2022-03-31T07:58:58.547Z"
   },
   {
    "duration": 151,
    "start_time": "2022-03-31T07:58:58.552Z"
   },
   {
    "duration": 11,
    "start_time": "2022-03-31T07:58:58.705Z"
   },
   {
    "duration": 4,
    "start_time": "2022-03-31T07:58:58.717Z"
   },
   {
    "duration": 30,
    "start_time": "2022-03-31T07:58:58.723Z"
   },
   {
    "duration": 3,
    "start_time": "2022-03-31T07:58:58.755Z"
   },
   {
    "duration": 15,
    "start_time": "2022-03-31T07:58:58.760Z"
   },
   {
    "duration": 5,
    "start_time": "2022-03-31T07:58:58.776Z"
   },
   {
    "duration": 48,
    "start_time": "2022-03-31T07:58:58.782Z"
   },
   {
    "duration": 14,
    "start_time": "2022-03-31T07:58:58.832Z"
   },
   {
    "duration": 32,
    "start_time": "2022-03-31T07:58:58.849Z"
   },
   {
    "duration": 76,
    "start_time": "2022-03-31T07:58:58.883Z"
   },
   {
    "duration": 79,
    "start_time": "2022-03-31T07:58:58.960Z"
   },
   {
    "duration": 68,
    "start_time": "2022-03-31T07:58:59.041Z"
   },
   {
    "duration": 39,
    "start_time": "2022-03-31T07:58:59.111Z"
   },
   {
    "duration": 3,
    "start_time": "2022-03-31T07:58:59.152Z"
   },
   {
    "duration": 30,
    "start_time": "2022-03-31T07:58:59.156Z"
   },
   {
    "duration": 52,
    "start_time": "2022-03-31T07:58:59.188Z"
   },
   {
    "duration": 12,
    "start_time": "2022-03-31T07:58:59.242Z"
   },
   {
    "duration": 12,
    "start_time": "2022-03-31T07:58:59.255Z"
   },
   {
    "duration": 4,
    "start_time": "2022-03-31T07:58:59.268Z"
   },
   {
    "duration": 43,
    "start_time": "2022-03-31T07:58:59.273Z"
   },
   {
    "duration": 14,
    "start_time": "2022-03-31T07:58:59.317Z"
   },
   {
    "duration": 15,
    "start_time": "2022-03-31T07:58:59.333Z"
   },
   {
    "duration": 13,
    "start_time": "2022-03-31T07:58:59.350Z"
   },
   {
    "duration": 44,
    "start_time": "2022-03-31T07:58:59.365Z"
   },
   {
    "duration": 14,
    "start_time": "2022-03-31T07:58:59.411Z"
   },
   {
    "duration": 8,
    "start_time": "2022-03-31T07:58:59.426Z"
   },
   {
    "duration": 22,
    "start_time": "2022-03-31T07:58:59.437Z"
   },
   {
    "duration": 17,
    "start_time": "2022-03-31T07:58:59.461Z"
   },
   {
    "duration": 31,
    "start_time": "2022-03-31T07:58:59.479Z"
   },
   {
    "duration": 29,
    "start_time": "2022-03-31T07:58:59.511Z"
   },
   {
    "duration": 0,
    "start_time": "2022-03-31T07:58:59.541Z"
   },
   {
    "duration": 0,
    "start_time": "2022-03-31T07:58:59.542Z"
   },
   {
    "duration": 0,
    "start_time": "2022-03-31T07:58:59.543Z"
   },
   {
    "duration": 0,
    "start_time": "2022-03-31T07:58:59.544Z"
   },
   {
    "duration": 0,
    "start_time": "2022-03-31T07:58:59.545Z"
   },
   {
    "duration": 0,
    "start_time": "2022-03-31T07:58:59.546Z"
   },
   {
    "duration": 0,
    "start_time": "2022-03-31T07:58:59.547Z"
   },
   {
    "duration": 20,
    "start_time": "2022-03-31T08:00:31.237Z"
   },
   {
    "duration": 19,
    "start_time": "2022-03-31T08:00:33.172Z"
   },
   {
    "duration": 21,
    "start_time": "2022-03-31T08:00:35.929Z"
   },
   {
    "duration": 18,
    "start_time": "2022-03-31T08:00:38.042Z"
   },
   {
    "duration": 4,
    "start_time": "2022-03-31T08:02:39.985Z"
   },
   {
    "duration": 21,
    "start_time": "2022-03-31T08:02:42.064Z"
   },
   {
    "duration": 20,
    "start_time": "2022-03-31T08:02:43.661Z"
   },
   {
    "duration": 19,
    "start_time": "2022-03-31T08:02:45.109Z"
   },
   {
    "duration": 19,
    "start_time": "2022-03-31T08:02:46.491Z"
   },
   {
    "duration": 19,
    "start_time": "2022-03-31T08:04:36.646Z"
   },
   {
    "duration": 20,
    "start_time": "2022-03-31T08:04:40.548Z"
   },
   {
    "duration": 4,
    "start_time": "2022-03-31T08:06:01.902Z"
   },
   {
    "duration": 53,
    "start_time": "2022-03-31T08:06:06.117Z"
   },
   {
    "duration": 4,
    "start_time": "2022-03-31T08:07:00.961Z"
   },
   {
    "duration": 18,
    "start_time": "2022-03-31T08:07:03.605Z"
   },
   {
    "duration": 12,
    "start_time": "2022-03-31T08:07:05.427Z"
   },
   {
    "duration": 16,
    "start_time": "2022-03-31T08:07:07.004Z"
   },
   {
    "duration": 11,
    "start_time": "2022-03-31T08:07:09.260Z"
   },
   {
    "duration": 3,
    "start_time": "2022-03-31T08:13:30.697Z"
   },
   {
    "duration": 175,
    "start_time": "2022-03-31T08:13:30.701Z"
   },
   {
    "duration": 11,
    "start_time": "2022-03-31T08:13:30.878Z"
   },
   {
    "duration": 7,
    "start_time": "2022-03-31T08:13:30.890Z"
   },
   {
    "duration": 31,
    "start_time": "2022-03-31T08:13:30.908Z"
   },
   {
    "duration": 7,
    "start_time": "2022-03-31T08:13:30.940Z"
   },
   {
    "duration": 19,
    "start_time": "2022-03-31T08:13:30.948Z"
   },
   {
    "duration": 4,
    "start_time": "2022-03-31T08:13:30.969Z"
   },
   {
    "duration": 45,
    "start_time": "2022-03-31T08:13:30.974Z"
   },
   {
    "duration": 18,
    "start_time": "2022-03-31T08:13:31.020Z"
   },
   {
    "duration": 38,
    "start_time": "2022-03-31T08:13:31.041Z"
   },
   {
    "duration": 77,
    "start_time": "2022-03-31T08:13:31.081Z"
   },
   {
    "duration": 69,
    "start_time": "2022-03-31T08:13:31.159Z"
   },
   {
    "duration": 56,
    "start_time": "2022-03-31T08:13:31.230Z"
   },
   {
    "duration": 53,
    "start_time": "2022-03-31T08:13:31.288Z"
   },
   {
    "duration": 3,
    "start_time": "2022-03-31T08:13:31.342Z"
   },
   {
    "duration": 39,
    "start_time": "2022-03-31T08:13:31.346Z"
   },
   {
    "duration": 44,
    "start_time": "2022-03-31T08:13:31.387Z"
   },
   {
    "duration": 12,
    "start_time": "2022-03-31T08:13:31.433Z"
   },
   {
    "duration": 12,
    "start_time": "2022-03-31T08:13:31.446Z"
   },
   {
    "duration": 3,
    "start_time": "2022-03-31T08:13:31.460Z"
   },
   {
    "duration": 45,
    "start_time": "2022-03-31T08:13:31.465Z"
   },
   {
    "duration": 16,
    "start_time": "2022-03-31T08:13:31.511Z"
   },
   {
    "duration": 35,
    "start_time": "2022-03-31T08:13:31.528Z"
   },
   {
    "duration": 16,
    "start_time": "2022-03-31T08:13:31.565Z"
   },
   {
    "duration": 26,
    "start_time": "2022-03-31T08:13:31.583Z"
   },
   {
    "duration": 13,
    "start_time": "2022-03-31T08:13:31.611Z"
   },
   {
    "duration": 9,
    "start_time": "2022-03-31T08:13:31.626Z"
   },
   {
    "duration": 14,
    "start_time": "2022-03-31T08:13:31.638Z"
   },
   {
    "duration": 22,
    "start_time": "2022-03-31T08:13:31.654Z"
   },
   {
    "duration": 11,
    "start_time": "2022-03-31T08:13:31.678Z"
   },
   {
    "duration": 28,
    "start_time": "2022-03-31T08:13:31.691Z"
   },
   {
    "duration": 14,
    "start_time": "2022-03-31T08:13:31.721Z"
   },
   {
    "duration": 28,
    "start_time": "2022-03-31T08:13:31.737Z"
   },
   {
    "duration": 12,
    "start_time": "2022-03-31T08:13:31.767Z"
   },
   {
    "duration": 3,
    "start_time": "2022-03-31T08:13:31.781Z"
   },
   {
    "duration": 24,
    "start_time": "2022-03-31T08:13:31.786Z"
   },
   {
    "duration": 5,
    "start_time": "2022-03-31T08:13:31.812Z"
   },
   {
    "duration": 4,
    "start_time": "2022-03-31T08:13:31.819Z"
   },
   {
    "duration": 8,
    "start_time": "2022-03-31T08:21:56.222Z"
   },
   {
    "duration": 8,
    "start_time": "2022-03-31T08:22:23.891Z"
   },
   {
    "duration": 7,
    "start_time": "2022-03-31T08:23:29.339Z"
   },
   {
    "duration": 6,
    "start_time": "2022-03-31T08:23:43.502Z"
   },
   {
    "duration": 7,
    "start_time": "2022-03-31T08:24:43.739Z"
   },
   {
    "duration": 8,
    "start_time": "2022-03-31T08:25:39.476Z"
   },
   {
    "duration": 8,
    "start_time": "2022-03-31T08:25:48.481Z"
   },
   {
    "duration": 8,
    "start_time": "2022-03-31T08:25:55.427Z"
   },
   {
    "duration": 3,
    "start_time": "2022-03-31T08:26:16.439Z"
   },
   {
    "duration": 162,
    "start_time": "2022-03-31T08:26:16.444Z"
   },
   {
    "duration": 11,
    "start_time": "2022-03-31T08:26:16.607Z"
   },
   {
    "duration": 12,
    "start_time": "2022-03-31T08:26:16.619Z"
   },
   {
    "duration": 44,
    "start_time": "2022-03-31T08:26:16.634Z"
   },
   {
    "duration": 4,
    "start_time": "2022-03-31T08:26:16.680Z"
   },
   {
    "duration": 19,
    "start_time": "2022-03-31T08:26:16.686Z"
   },
   {
    "duration": 10,
    "start_time": "2022-03-31T08:26:16.706Z"
   },
   {
    "duration": 30,
    "start_time": "2022-03-31T08:26:16.718Z"
   },
   {
    "duration": 23,
    "start_time": "2022-03-31T08:26:16.750Z"
   },
   {
    "duration": 34,
    "start_time": "2022-03-31T08:26:16.775Z"
   },
   {
    "duration": 81,
    "start_time": "2022-03-31T08:26:16.811Z"
   },
   {
    "duration": 86,
    "start_time": "2022-03-31T08:26:16.895Z"
   },
   {
    "duration": 73,
    "start_time": "2022-03-31T08:26:16.982Z"
   },
   {
    "duration": 53,
    "start_time": "2022-03-31T08:26:17.056Z"
   },
   {
    "duration": 3,
    "start_time": "2022-03-31T08:26:17.111Z"
   },
   {
    "duration": 29,
    "start_time": "2022-03-31T08:26:17.115Z"
   },
   {
    "duration": 42,
    "start_time": "2022-03-31T08:26:17.145Z"
   },
   {
    "duration": 30,
    "start_time": "2022-03-31T08:26:17.188Z"
   },
   {
    "duration": 13,
    "start_time": "2022-03-31T08:26:17.219Z"
   },
   {
    "duration": 4,
    "start_time": "2022-03-31T08:26:17.233Z"
   },
   {
    "duration": 24,
    "start_time": "2022-03-31T08:26:17.238Z"
   },
   {
    "duration": 15,
    "start_time": "2022-03-31T08:26:17.264Z"
   },
   {
    "duration": 17,
    "start_time": "2022-03-31T08:26:17.309Z"
   },
   {
    "duration": 15,
    "start_time": "2022-03-31T08:26:17.328Z"
   },
   {
    "duration": 17,
    "start_time": "2022-03-31T08:26:17.344Z"
   },
   {
    "duration": 47,
    "start_time": "2022-03-31T08:26:17.363Z"
   },
   {
    "duration": 9,
    "start_time": "2022-03-31T08:26:17.412Z"
   },
   {
    "duration": 17,
    "start_time": "2022-03-31T08:26:17.423Z"
   },
   {
    "duration": 14,
    "start_time": "2022-03-31T08:26:17.442Z"
   },
   {
    "duration": 5,
    "start_time": "2022-03-31T08:26:17.458Z"
   },
   {
    "duration": 50,
    "start_time": "2022-03-31T08:26:17.465Z"
   },
   {
    "duration": 12,
    "start_time": "2022-03-31T08:26:17.517Z"
   },
   {
    "duration": 20,
    "start_time": "2022-03-31T08:26:17.531Z"
   },
   {
    "duration": 12,
    "start_time": "2022-03-31T08:26:17.553Z"
   },
   {
    "duration": 7,
    "start_time": "2022-03-31T08:26:21.457Z"
   },
   {
    "duration": 12,
    "start_time": "2022-03-31T08:27:04.792Z"
   },
   {
    "duration": 36,
    "start_time": "2022-03-31T08:27:17.683Z"
   },
   {
    "duration": 10,
    "start_time": "2022-03-31T08:27:21.527Z"
   },
   {
    "duration": 13,
    "start_time": "2022-03-31T08:29:06.329Z"
   },
   {
    "duration": 13,
    "start_time": "2022-03-31T08:30:23.890Z"
   },
   {
    "duration": 4,
    "start_time": "2022-03-31T08:30:26.179Z"
   },
   {
    "duration": 14,
    "start_time": "2022-03-31T08:32:03.108Z"
   },
   {
    "duration": 10,
    "start_time": "2022-03-31T08:32:29.908Z"
   },
   {
    "duration": 10,
    "start_time": "2022-03-31T08:32:37.704Z"
   },
   {
    "duration": 10,
    "start_time": "2022-03-31T08:33:25.267Z"
   },
   {
    "duration": 7,
    "start_time": "2022-03-31T08:34:53.162Z"
   },
   {
    "duration": 2,
    "start_time": "2022-03-31T08:35:34.634Z"
   },
   {
    "duration": 142,
    "start_time": "2022-03-31T08:35:34.638Z"
   },
   {
    "duration": 11,
    "start_time": "2022-03-31T08:35:34.781Z"
   },
   {
    "duration": 4,
    "start_time": "2022-03-31T08:35:34.794Z"
   },
   {
    "duration": 30,
    "start_time": "2022-03-31T08:35:34.800Z"
   },
   {
    "duration": 3,
    "start_time": "2022-03-31T08:35:34.832Z"
   },
   {
    "duration": 8,
    "start_time": "2022-03-31T08:35:34.837Z"
   },
   {
    "duration": 3,
    "start_time": "2022-03-31T08:35:34.847Z"
   },
   {
    "duration": 24,
    "start_time": "2022-03-31T08:35:34.851Z"
   },
   {
    "duration": 45,
    "start_time": "2022-03-31T08:35:34.879Z"
   },
   {
    "duration": 32,
    "start_time": "2022-03-31T08:35:34.926Z"
   },
   {
    "duration": 67,
    "start_time": "2022-03-31T08:35:34.960Z"
   },
   {
    "duration": 62,
    "start_time": "2022-03-31T08:35:35.028Z"
   },
   {
    "duration": 60,
    "start_time": "2022-03-31T08:35:35.092Z"
   },
   {
    "duration": 37,
    "start_time": "2022-03-31T08:35:35.153Z"
   },
   {
    "duration": 16,
    "start_time": "2022-03-31T08:35:35.192Z"
   },
   {
    "duration": 23,
    "start_time": "2022-03-31T08:35:35.210Z"
   },
   {
    "duration": 37,
    "start_time": "2022-03-31T08:35:35.235Z"
   },
   {
    "duration": 11,
    "start_time": "2022-03-31T08:35:35.274Z"
   },
   {
    "duration": 12,
    "start_time": "2022-03-31T08:35:35.309Z"
   },
   {
    "duration": 4,
    "start_time": "2022-03-31T08:35:35.322Z"
   },
   {
    "duration": 23,
    "start_time": "2022-03-31T08:35:35.327Z"
   },
   {
    "duration": 12,
    "start_time": "2022-03-31T08:35:35.352Z"
   },
   {
    "duration": 14,
    "start_time": "2022-03-31T08:35:35.366Z"
   },
   {
    "duration": 38,
    "start_time": "2022-03-31T08:35:35.381Z"
   },
   {
    "duration": 16,
    "start_time": "2022-03-31T08:35:35.420Z"
   },
   {
    "duration": 14,
    "start_time": "2022-03-31T08:35:35.437Z"
   },
   {
    "duration": 8,
    "start_time": "2022-03-31T08:35:35.454Z"
   },
   {
    "duration": 16,
    "start_time": "2022-03-31T08:35:35.463Z"
   },
   {
    "duration": 32,
    "start_time": "2022-03-31T08:35:35.480Z"
   },
   {
    "duration": 5,
    "start_time": "2022-03-31T08:35:35.513Z"
   },
   {
    "duration": 18,
    "start_time": "2022-03-31T08:35:35.520Z"
   },
   {
    "duration": 10,
    "start_time": "2022-03-31T08:35:35.540Z"
   },
   {
    "duration": 15,
    "start_time": "2022-03-31T08:35:35.551Z"
   },
   {
    "duration": 10,
    "start_time": "2022-03-31T08:35:35.567Z"
   },
   {
    "duration": 34,
    "start_time": "2022-03-31T08:35:35.578Z"
   },
   {
    "duration": 4,
    "start_time": "2022-03-31T08:35:35.614Z"
   },
   {
    "duration": 6,
    "start_time": "2022-03-31T08:35:38.630Z"
   },
   {
    "duration": 5,
    "start_time": "2022-03-31T08:36:05.506Z"
   },
   {
    "duration": 750,
    "start_time": "2022-04-11T07:20:15.412Z"
   },
   {
    "duration": 401,
    "start_time": "2022-04-11T07:36:33.398Z"
   },
   {
    "duration": 163,
    "start_time": "2022-04-11T07:36:33.801Z"
   },
   {
    "duration": 19,
    "start_time": "2022-04-11T07:36:33.965Z"
   },
   {
    "duration": 3,
    "start_time": "2022-04-11T07:36:33.987Z"
   },
   {
    "duration": 64,
    "start_time": "2022-04-11T07:36:33.992Z"
   },
   {
    "duration": 5,
    "start_time": "2022-04-11T07:36:34.058Z"
   },
   {
    "duration": 20,
    "start_time": "2022-04-11T07:36:34.081Z"
   },
   {
    "duration": 10,
    "start_time": "2022-04-11T07:36:34.103Z"
   },
   {
    "duration": 28,
    "start_time": "2022-04-11T07:36:34.114Z"
   },
   {
    "duration": 19,
    "start_time": "2022-04-11T07:36:39.094Z"
   },
   {
    "duration": 26,
    "start_time": "2022-04-11T07:36:44.108Z"
   },
   {
    "duration": 538,
    "start_time": "2022-04-14T15:54:45.882Z"
   },
   {
    "duration": 233,
    "start_time": "2022-04-14T15:54:46.424Z"
   },
   {
    "duration": 31,
    "start_time": "2022-04-14T15:54:46.660Z"
   },
   {
    "duration": 7,
    "start_time": "2022-04-14T15:54:46.695Z"
   },
   {
    "duration": 86,
    "start_time": "2022-04-14T15:54:46.707Z"
   },
   {
    "duration": 11,
    "start_time": "2022-04-14T15:54:46.796Z"
   },
   {
    "duration": 34,
    "start_time": "2022-04-14T15:54:46.809Z"
   },
   {
    "duration": 7,
    "start_time": "2022-04-14T15:54:46.851Z"
   },
   {
    "duration": 55,
    "start_time": "2022-04-14T15:54:46.862Z"
   },
   {
    "duration": 42,
    "start_time": "2022-04-14T15:54:46.919Z"
   },
   {
    "duration": 60,
    "start_time": "2022-04-14T15:54:46.963Z"
   },
   {
    "duration": 125,
    "start_time": "2022-04-14T15:54:47.026Z"
   },
   {
    "duration": 134,
    "start_time": "2022-04-14T15:54:47.153Z"
   },
   {
    "duration": 108,
    "start_time": "2022-04-14T15:54:47.293Z"
   },
   {
    "duration": 69,
    "start_time": "2022-04-14T15:54:47.403Z"
   },
   {
    "duration": 5,
    "start_time": "2022-04-14T15:54:47.474Z"
   },
   {
    "duration": 37,
    "start_time": "2022-04-14T15:54:47.481Z"
   },
   {
    "duration": 88,
    "start_time": "2022-04-14T15:54:47.520Z"
   },
   {
    "duration": 17,
    "start_time": "2022-04-14T15:54:47.610Z"
   },
   {
    "duration": 20,
    "start_time": "2022-04-14T15:54:47.653Z"
   },
   {
    "duration": 5,
    "start_time": "2022-04-14T15:54:47.676Z"
   },
   {
    "duration": 31,
    "start_time": "2022-04-14T15:54:47.683Z"
   },
   {
    "duration": 50,
    "start_time": "2022-04-14T15:54:47.716Z"
   },
   {
    "duration": 23,
    "start_time": "2022-04-14T15:54:47.768Z"
   },
   {
    "duration": 30,
    "start_time": "2022-04-14T15:54:47.793Z"
   },
   {
    "duration": 58,
    "start_time": "2022-04-14T15:54:47.826Z"
   },
   {
    "duration": 19,
    "start_time": "2022-04-14T15:54:47.886Z"
   },
   {
    "duration": 13,
    "start_time": "2022-04-14T15:54:47.907Z"
   },
   {
    "duration": 45,
    "start_time": "2022-04-14T15:54:47.922Z"
   },
   {
    "duration": 13,
    "start_time": "2022-04-14T15:54:47.970Z"
   },
   {
    "duration": 6,
    "start_time": "2022-04-14T15:54:47.986Z"
   },
   {
    "duration": 31,
    "start_time": "2022-04-14T15:54:47.994Z"
   },
   {
    "duration": 22,
    "start_time": "2022-04-14T15:54:48.054Z"
   },
   {
    "duration": 25,
    "start_time": "2022-04-14T15:54:48.078Z"
   },
   {
    "duration": 17,
    "start_time": "2022-04-14T15:54:48.105Z"
   },
   {
    "duration": 19,
    "start_time": "2022-04-14T15:54:48.152Z"
   },
   {
    "duration": 8,
    "start_time": "2022-04-14T15:54:48.174Z"
   },
   {
    "duration": 19,
    "start_time": "2022-04-14T15:54:48.187Z"
   },
   {
    "duration": 42,
    "start_time": "2022-04-14T15:54:48.210Z"
   },
   {
    "duration": 18,
    "start_time": "2022-04-14T15:55:11.039Z"
   },
   {
    "duration": 4,
    "start_time": "2022-04-14T15:55:17.195Z"
   },
   {
    "duration": 320,
    "start_time": "2022-04-14T15:55:17.202Z"
   },
   {
    "duration": 29,
    "start_time": "2022-04-14T15:55:17.525Z"
   },
   {
    "duration": 7,
    "start_time": "2022-04-14T15:55:17.557Z"
   },
   {
    "duration": 59,
    "start_time": "2022-04-14T15:55:17.566Z"
   },
   {
    "duration": 27,
    "start_time": "2022-04-14T15:55:17.628Z"
   },
   {
    "duration": 14,
    "start_time": "2022-04-14T15:55:17.658Z"
   },
   {
    "duration": 15,
    "start_time": "2022-04-14T15:55:17.674Z"
   },
   {
    "duration": 64,
    "start_time": "2022-04-14T15:55:17.693Z"
   },
   {
    "duration": 37,
    "start_time": "2022-04-14T15:55:17.761Z"
   },
   {
    "duration": 69,
    "start_time": "2022-04-14T15:55:17.800Z"
   },
   {
    "duration": 160,
    "start_time": "2022-04-14T15:55:17.872Z"
   },
   {
    "duration": 168,
    "start_time": "2022-04-14T15:55:18.035Z"
   },
   {
    "duration": 147,
    "start_time": "2022-04-14T15:55:18.206Z"
   },
   {
    "duration": 108,
    "start_time": "2022-04-14T15:55:18.359Z"
   },
   {
    "duration": 4,
    "start_time": "2022-04-14T15:55:18.470Z"
   },
   {
    "duration": 39,
    "start_time": "2022-04-14T15:55:18.477Z"
   },
   {
    "duration": 87,
    "start_time": "2022-04-14T15:55:18.518Z"
   },
   {
    "duration": 15,
    "start_time": "2022-04-14T15:55:18.608Z"
   },
   {
    "duration": 36,
    "start_time": "2022-04-14T15:55:18.625Z"
   },
   {
    "duration": 7,
    "start_time": "2022-04-14T15:55:18.664Z"
   },
   {
    "duration": 37,
    "start_time": "2022-04-14T15:55:18.674Z"
   },
   {
    "duration": 47,
    "start_time": "2022-04-14T15:55:18.713Z"
   },
   {
    "duration": 31,
    "start_time": "2022-04-14T15:55:18.770Z"
   },
   {
    "duration": 51,
    "start_time": "2022-04-14T15:55:18.803Z"
   },
   {
    "duration": 28,
    "start_time": "2022-04-14T15:55:18.857Z"
   },
   {
    "duration": 20,
    "start_time": "2022-04-14T15:55:18.887Z"
   },
   {
    "duration": 45,
    "start_time": "2022-04-14T15:55:18.909Z"
   },
   {
    "duration": 27,
    "start_time": "2022-04-14T15:55:18.959Z"
   },
   {
    "duration": 14,
    "start_time": "2022-04-14T15:55:18.989Z"
   },
   {
    "duration": 10,
    "start_time": "2022-04-14T15:55:19.006Z"
   },
   {
    "duration": 69,
    "start_time": "2022-04-14T15:55:19.018Z"
   },
   {
    "duration": 23,
    "start_time": "2022-04-14T15:55:19.090Z"
   },
   {
    "duration": 38,
    "start_time": "2022-04-14T15:55:19.115Z"
   },
   {
    "duration": 21,
    "start_time": "2022-04-14T15:55:19.156Z"
   },
   {
    "duration": 22,
    "start_time": "2022-04-14T15:55:19.180Z"
   },
   {
    "duration": 11,
    "start_time": "2022-04-14T15:55:19.204Z"
   },
   {
    "duration": 36,
    "start_time": "2022-04-14T15:55:19.218Z"
   },
   {
    "duration": 16,
    "start_time": "2022-04-14T15:55:19.256Z"
   },
   {
    "duration": 6,
    "start_time": "2022-04-14T16:11:56.525Z"
   },
   {
    "duration": 35,
    "start_time": "2022-04-14T16:12:06.170Z"
   },
   {
    "duration": 4,
    "start_time": "2022-04-14T16:14:54.644Z"
   },
   {
    "duration": 228,
    "start_time": "2022-04-14T16:14:54.651Z"
   },
   {
    "duration": 17,
    "start_time": "2022-04-14T16:14:54.882Z"
   },
   {
    "duration": 17,
    "start_time": "2022-04-14T16:14:54.901Z"
   },
   {
    "duration": 66,
    "start_time": "2022-04-14T16:14:54.921Z"
   },
   {
    "duration": 16,
    "start_time": "2022-04-14T16:14:54.989Z"
   },
   {
    "duration": 28,
    "start_time": "2022-04-14T16:14:55.007Z"
   },
   {
    "duration": 34,
    "start_time": "2022-04-14T16:14:55.037Z"
   },
   {
    "duration": 42,
    "start_time": "2022-04-14T16:14:55.073Z"
   },
   {
    "duration": 28,
    "start_time": "2022-04-14T16:14:55.117Z"
   },
   {
    "duration": 78,
    "start_time": "2022-04-14T16:14:55.148Z"
   },
   {
    "duration": 122,
    "start_time": "2022-04-14T16:14:55.228Z"
   },
   {
    "duration": 119,
    "start_time": "2022-04-14T16:14:55.357Z"
   },
   {
    "duration": 107,
    "start_time": "2022-04-14T16:14:55.478Z"
   },
   {
    "duration": 53,
    "start_time": "2022-04-14T16:14:55.588Z"
   },
   {
    "duration": 9,
    "start_time": "2022-04-14T16:14:55.655Z"
   },
   {
    "duration": 47,
    "start_time": "2022-04-14T16:14:55.667Z"
   },
   {
    "duration": 70,
    "start_time": "2022-04-14T16:14:55.716Z"
   },
   {
    "duration": 19,
    "start_time": "2022-04-14T16:14:55.789Z"
   },
   {
    "duration": 15,
    "start_time": "2022-04-14T16:14:55.810Z"
   },
   {
    "duration": 5,
    "start_time": "2022-04-14T16:14:55.827Z"
   },
   {
    "duration": 27,
    "start_time": "2022-04-14T16:14:55.853Z"
   },
   {
    "duration": 19,
    "start_time": "2022-04-14T16:14:55.882Z"
   },
   {
    "duration": 60,
    "start_time": "2022-04-14T16:14:55.904Z"
   },
   {
    "duration": 19,
    "start_time": "2022-04-14T16:14:55.967Z"
   },
   {
    "duration": 21,
    "start_time": "2022-04-14T16:14:55.989Z"
   },
   {
    "duration": 49,
    "start_time": "2022-04-14T16:14:56.012Z"
   },
   {
    "duration": 13,
    "start_time": "2022-04-14T16:14:56.064Z"
   },
   {
    "duration": 34,
    "start_time": "2022-04-14T16:14:56.079Z"
   },
   {
    "duration": 15,
    "start_time": "2022-04-14T16:14:56.115Z"
   },
   {
    "duration": 27,
    "start_time": "2022-04-14T16:14:56.132Z"
   },
   {
    "duration": 31,
    "start_time": "2022-04-14T16:14:56.162Z"
   },
   {
    "duration": 15,
    "start_time": "2022-04-14T16:14:56.196Z"
   },
   {
    "duration": 57,
    "start_time": "2022-04-14T16:14:56.215Z"
   },
   {
    "duration": 17,
    "start_time": "2022-04-14T16:14:56.274Z"
   },
   {
    "duration": 18,
    "start_time": "2022-04-14T16:14:56.293Z"
   },
   {
    "duration": 8,
    "start_time": "2022-04-14T16:14:56.316Z"
   },
   {
    "duration": 38,
    "start_time": "2022-04-14T16:14:56.326Z"
   },
   {
    "duration": 7,
    "start_time": "2022-04-14T16:14:56.367Z"
   },
   {
    "duration": 4,
    "start_time": "2022-04-14T16:19:44.321Z"
   },
   {
    "duration": 476,
    "start_time": "2022-04-14T16:19:44.327Z"
   },
   {
    "duration": 18,
    "start_time": "2022-04-14T16:19:44.805Z"
   },
   {
    "duration": 7,
    "start_time": "2022-04-14T16:19:44.826Z"
   },
   {
    "duration": 60,
    "start_time": "2022-04-14T16:19:44.836Z"
   },
   {
    "duration": 6,
    "start_time": "2022-04-14T16:19:44.899Z"
   },
   {
    "duration": 15,
    "start_time": "2022-04-14T16:19:44.907Z"
   },
   {
    "duration": 32,
    "start_time": "2022-04-14T16:19:44.925Z"
   },
   {
    "duration": 36,
    "start_time": "2022-04-14T16:19:44.960Z"
   },
   {
    "duration": 30,
    "start_time": "2022-04-14T16:19:45.000Z"
   },
   {
    "duration": 39,
    "start_time": "2022-04-14T16:19:45.056Z"
   },
   {
    "duration": 122,
    "start_time": "2022-04-14T16:19:45.097Z"
   },
   {
    "duration": 126,
    "start_time": "2022-04-14T16:19:45.221Z"
   },
   {
    "duration": 116,
    "start_time": "2022-04-14T16:19:45.349Z"
   },
   {
    "duration": 58,
    "start_time": "2022-04-14T16:19:45.468Z"
   },
   {
    "duration": 4,
    "start_time": "2022-04-14T16:19:45.528Z"
   },
   {
    "duration": 50,
    "start_time": "2022-04-14T16:19:45.551Z"
   },
   {
    "duration": 65,
    "start_time": "2022-04-14T16:19:45.603Z"
   },
   {
    "duration": 18,
    "start_time": "2022-04-14T16:19:45.670Z"
   },
   {
    "duration": 16,
    "start_time": "2022-04-14T16:19:45.690Z"
   },
   {
    "duration": 6,
    "start_time": "2022-04-14T16:19:45.708Z"
   },
   {
    "duration": 25,
    "start_time": "2022-04-14T16:19:45.756Z"
   },
   {
    "duration": 19,
    "start_time": "2022-04-14T16:19:45.783Z"
   },
   {
    "duration": 30,
    "start_time": "2022-04-14T16:19:45.804Z"
   },
   {
    "duration": 41,
    "start_time": "2022-04-14T16:19:45.836Z"
   },
   {
    "duration": 23,
    "start_time": "2022-04-14T16:19:45.879Z"
   },
   {
    "duration": 56,
    "start_time": "2022-04-14T16:19:45.905Z"
   },
   {
    "duration": 12,
    "start_time": "2022-04-14T16:19:45.968Z"
   },
   {
    "duration": 18,
    "start_time": "2022-04-14T16:19:45.982Z"
   },
   {
    "duration": 17,
    "start_time": "2022-04-14T16:19:46.002Z"
   },
   {
    "duration": 37,
    "start_time": "2022-04-14T16:19:46.022Z"
   },
   {
    "duration": 40,
    "start_time": "2022-04-14T16:19:46.062Z"
   },
   {
    "duration": 22,
    "start_time": "2022-04-14T16:19:46.104Z"
   },
   {
    "duration": 48,
    "start_time": "2022-04-14T16:19:46.129Z"
   },
   {
    "duration": 22,
    "start_time": "2022-04-14T16:19:46.179Z"
   },
   {
    "duration": 18,
    "start_time": "2022-04-14T16:19:46.204Z"
   },
   {
    "duration": 34,
    "start_time": "2022-04-14T16:19:46.225Z"
   },
   {
    "duration": 25,
    "start_time": "2022-04-14T16:19:46.261Z"
   },
   {
    "duration": 7,
    "start_time": "2022-04-14T16:19:46.288Z"
   },
   {
    "duration": 3,
    "start_time": "2022-04-14T16:21:03.974Z"
   },
   {
    "duration": 227,
    "start_time": "2022-04-14T16:21:03.980Z"
   },
   {
    "duration": 19,
    "start_time": "2022-04-14T16:21:04.209Z"
   },
   {
    "duration": 27,
    "start_time": "2022-04-14T16:21:04.232Z"
   },
   {
    "duration": 69,
    "start_time": "2022-04-14T16:21:04.262Z"
   },
   {
    "duration": 26,
    "start_time": "2022-04-14T16:21:04.334Z"
   },
   {
    "duration": 36,
    "start_time": "2022-04-14T16:21:04.364Z"
   },
   {
    "duration": 15,
    "start_time": "2022-04-14T16:21:04.403Z"
   },
   {
    "duration": 43,
    "start_time": "2022-04-14T16:21:04.422Z"
   },
   {
    "duration": 36,
    "start_time": "2022-04-14T16:21:04.468Z"
   },
   {
    "duration": 62,
    "start_time": "2022-04-14T16:21:04.506Z"
   },
   {
    "duration": 119,
    "start_time": "2022-04-14T16:21:04.571Z"
   },
   {
    "duration": 154,
    "start_time": "2022-04-14T16:21:04.693Z"
   },
   {
    "duration": 144,
    "start_time": "2022-04-14T16:21:04.849Z"
   },
   {
    "duration": 94,
    "start_time": "2022-04-14T16:21:04.996Z"
   },
   {
    "duration": 6,
    "start_time": "2022-04-14T16:21:05.093Z"
   },
   {
    "duration": 65,
    "start_time": "2022-04-14T16:21:05.101Z"
   },
   {
    "duration": 105,
    "start_time": "2022-04-14T16:21:05.168Z"
   },
   {
    "duration": 25,
    "start_time": "2022-04-14T16:21:05.276Z"
   },
   {
    "duration": 18,
    "start_time": "2022-04-14T16:21:05.303Z"
   },
   {
    "duration": 35,
    "start_time": "2022-04-14T16:21:05.324Z"
   },
   {
    "duration": 57,
    "start_time": "2022-04-14T16:21:05.361Z"
   },
   {
    "duration": 34,
    "start_time": "2022-04-14T16:21:05.421Z"
   },
   {
    "duration": 26,
    "start_time": "2022-04-14T16:21:05.461Z"
   },
   {
    "duration": 46,
    "start_time": "2022-04-14T16:21:05.490Z"
   },
   {
    "duration": 52,
    "start_time": "2022-04-14T16:21:05.539Z"
   },
   {
    "duration": 23,
    "start_time": "2022-04-14T16:21:05.595Z"
   },
   {
    "duration": 39,
    "start_time": "2022-04-14T16:21:05.622Z"
   },
   {
    "duration": 28,
    "start_time": "2022-04-14T16:21:05.664Z"
   },
   {
    "duration": 14,
    "start_time": "2022-04-14T16:21:05.695Z"
   },
   {
    "duration": 12,
    "start_time": "2022-04-14T16:21:05.712Z"
   },
   {
    "duration": 83,
    "start_time": "2022-04-14T16:21:05.727Z"
   },
   {
    "duration": 21,
    "start_time": "2022-04-14T16:21:05.812Z"
   },
   {
    "duration": 47,
    "start_time": "2022-04-14T16:21:05.835Z"
   },
   {
    "duration": 33,
    "start_time": "2022-04-14T16:21:05.885Z"
   },
   {
    "duration": 44,
    "start_time": "2022-04-14T16:21:05.921Z"
   },
   {
    "duration": 42,
    "start_time": "2022-04-14T16:21:05.969Z"
   },
   {
    "duration": 79,
    "start_time": "2022-04-14T16:21:06.013Z"
   },
   {
    "duration": 41,
    "start_time": "2022-04-14T16:21:06.095Z"
   },
   {
    "duration": 126,
    "start_time": "2022-04-14T18:49:35.159Z"
   },
   {
    "duration": 432,
    "start_time": "2023-04-03T16:51:53.254Z"
   },
   {
    "duration": 275,
    "start_time": "2023-04-03T16:52:43.875Z"
   },
   {
    "duration": 19,
    "start_time": "2023-04-03T16:53:12.462Z"
   },
   {
    "duration": 32,
    "start_time": "2023-04-03T16:54:02.856Z"
   },
   {
    "duration": 4,
    "start_time": "2023-04-03T16:58:30.882Z"
   },
   {
    "duration": 4,
    "start_time": "2023-04-03T16:59:15.467Z"
   },
   {
    "duration": 11,
    "start_time": "2023-04-03T17:00:29.393Z"
   },
   {
    "duration": 6,
    "start_time": "2023-04-03T17:00:45.683Z"
   },
   {
    "duration": 7,
    "start_time": "2023-04-03T17:00:50.049Z"
   },
   {
    "duration": 4,
    "start_time": "2023-04-03T17:00:54.259Z"
   },
   {
    "duration": 26,
    "start_time": "2023-04-03T17:02:04.311Z"
   },
   {
    "duration": 16,
    "start_time": "2023-04-03T17:03:12.418Z"
   },
   {
    "duration": 16,
    "start_time": "2023-04-03T17:07:29.962Z"
   },
   {
    "duration": 24,
    "start_time": "2023-04-03T17:07:34.998Z"
   },
   {
    "duration": 69,
    "start_time": "2023-04-03T17:08:14.150Z"
   },
   {
    "duration": 84,
    "start_time": "2023-04-03T17:09:34.149Z"
   },
   {
    "duration": 72,
    "start_time": "2023-04-03T17:10:09.162Z"
   },
   {
    "duration": 38,
    "start_time": "2023-04-03T17:12:42.178Z"
   },
   {
    "duration": 6,
    "start_time": "2023-04-03T17:18:44.352Z"
   },
   {
    "duration": 39,
    "start_time": "2023-04-03T17:20:58.330Z"
   },
   {
    "duration": 74,
    "start_time": "2023-04-03T17:21:12.274Z"
   },
   {
    "duration": 42,
    "start_time": "2023-04-03T17:27:24.690Z"
   },
   {
    "duration": 12,
    "start_time": "2023-04-03T17:29:53.256Z"
   },
   {
    "duration": 12,
    "start_time": "2023-04-03T17:30:17.353Z"
   },
   {
    "duration": 15,
    "start_time": "2023-04-03T17:34:18.140Z"
   },
   {
    "duration": 26,
    "start_time": "2023-04-03T17:36:01.931Z"
   },
   {
    "duration": 71,
    "start_time": "2023-04-03T17:41:46.246Z"
   },
   {
    "duration": 6,
    "start_time": "2023-04-03T17:42:26.338Z"
   },
   {
    "duration": 6,
    "start_time": "2023-04-03T17:42:32.728Z"
   },
   {
    "duration": 6,
    "start_time": "2023-04-03T17:42:48.869Z"
   },
   {
    "duration": 14,
    "start_time": "2023-04-03T17:44:51.246Z"
   },
   {
    "duration": 18,
    "start_time": "2023-04-03T17:46:48.032Z"
   },
   {
    "duration": 108,
    "start_time": "2023-04-03T17:47:24.793Z"
   },
   {
    "duration": 14,
    "start_time": "2023-04-03T17:47:51.549Z"
   },
   {
    "duration": 5,
    "start_time": "2023-04-03T17:56:52.127Z"
   },
   {
    "duration": 20,
    "start_time": "2023-04-03T17:56:54.338Z"
   },
   {
    "duration": 16,
    "start_time": "2023-04-03T17:59:20.560Z"
   },
   {
    "duration": 15,
    "start_time": "2023-04-03T17:59:20.962Z"
   },
   {
    "duration": 6,
    "start_time": "2023-04-03T17:59:22.103Z"
   },
   {
    "duration": 30,
    "start_time": "2023-04-03T17:59:23.503Z"
   },
   {
    "duration": 3,
    "start_time": "2023-04-03T17:59:35.522Z"
   },
   {
    "duration": 209,
    "start_time": "2023-04-03T17:59:35.527Z"
   },
   {
    "duration": 21,
    "start_time": "2023-04-03T17:59:35.738Z"
   },
   {
    "duration": 41,
    "start_time": "2023-04-03T17:59:35.761Z"
   },
   {
    "duration": 7,
    "start_time": "2023-04-03T17:59:35.804Z"
   },
   {
    "duration": 10,
    "start_time": "2023-04-03T17:59:35.812Z"
   },
   {
    "duration": 28,
    "start_time": "2023-04-03T17:59:35.824Z"
   },
   {
    "duration": 28,
    "start_time": "2023-04-03T17:59:35.857Z"
   },
   {
    "duration": 23,
    "start_time": "2023-04-03T17:59:35.887Z"
   },
   {
    "duration": 49,
    "start_time": "2023-04-03T17:59:35.912Z"
   },
   {
    "duration": 80,
    "start_time": "2023-04-03T17:59:35.963Z"
   },
   {
    "duration": 80,
    "start_time": "2023-04-03T17:59:36.056Z"
   },
   {
    "duration": 70,
    "start_time": "2023-04-03T17:59:36.138Z"
   },
   {
    "duration": 52,
    "start_time": "2023-04-03T17:59:36.210Z"
   },
   {
    "duration": 3,
    "start_time": "2023-04-03T17:59:36.265Z"
   },
   {
    "duration": 28,
    "start_time": "2023-04-03T17:59:36.270Z"
   },
   {
    "duration": 61,
    "start_time": "2023-04-03T17:59:36.299Z"
   },
   {
    "duration": 14,
    "start_time": "2023-04-03T17:59:36.361Z"
   },
   {
    "duration": 16,
    "start_time": "2023-04-03T17:59:36.377Z"
   },
   {
    "duration": 4,
    "start_time": "2023-04-03T17:59:36.395Z"
   },
   {
    "duration": 16,
    "start_time": "2023-04-03T17:59:36.401Z"
   },
   {
    "duration": 24,
    "start_time": "2023-04-03T17:59:36.446Z"
   },
   {
    "duration": 16,
    "start_time": "2023-04-03T17:59:36.471Z"
   },
   {
    "duration": 16,
    "start_time": "2023-04-03T17:59:36.489Z"
   },
   {
    "duration": 23,
    "start_time": "2023-04-03T17:59:36.506Z"
   },
   {
    "duration": 19,
    "start_time": "2023-04-03T17:59:36.549Z"
   },
   {
    "duration": 24,
    "start_time": "2023-04-03T17:59:36.570Z"
   },
   {
    "duration": 15,
    "start_time": "2023-04-03T17:59:36.595Z"
   },
   {
    "duration": 14,
    "start_time": "2023-04-03T17:59:36.613Z"
   },
   {
    "duration": 27,
    "start_time": "2023-04-03T17:59:36.629Z"
   },
   {
    "duration": 4,
    "start_time": "2023-04-03T17:59:36.659Z"
   },
   {
    "duration": 30,
    "start_time": "2023-04-03T17:59:46.007Z"
   },
   {
    "duration": 6,
    "start_time": "2023-04-03T18:00:25.155Z"
   },
   {
    "duration": 18,
    "start_time": "2023-04-03T18:00:26.919Z"
   },
   {
    "duration": 384,
    "start_time": "2023-04-07T15:38:12.775Z"
   },
   {
    "duration": 227,
    "start_time": "2023-04-07T15:38:13.161Z"
   },
   {
    "duration": 18,
    "start_time": "2023-04-07T15:38:13.390Z"
   },
   {
    "duration": 35,
    "start_time": "2023-04-07T15:38:13.409Z"
   },
   {
    "duration": 4,
    "start_time": "2023-04-07T15:38:13.447Z"
   },
   {
    "duration": 14,
    "start_time": "2023-04-07T15:38:13.453Z"
   },
   {
    "duration": 5,
    "start_time": "2023-04-07T15:38:13.469Z"
   },
   {
    "duration": 78,
    "start_time": "2023-04-07T15:38:13.476Z"
   },
   {
    "duration": 21,
    "start_time": "2023-04-07T15:38:13.556Z"
   },
   {
    "duration": 23,
    "start_time": "2023-04-07T15:38:13.579Z"
   },
   {
    "duration": 71,
    "start_time": "2023-04-07T15:38:13.624Z"
   },
   {
    "duration": 115,
    "start_time": "2023-04-07T15:38:13.697Z"
   },
   {
    "duration": 87,
    "start_time": "2023-04-07T15:38:13.813Z"
   },
   {
    "duration": 69,
    "start_time": "2023-04-07T15:38:13.905Z"
   },
   {
    "duration": 3,
    "start_time": "2023-04-07T15:38:13.978Z"
   },
   {
    "duration": 45,
    "start_time": "2023-04-07T15:38:13.983Z"
   },
   {
    "duration": 39,
    "start_time": "2023-04-07T15:38:14.030Z"
   },
   {
    "duration": 12,
    "start_time": "2023-04-07T15:38:14.071Z"
   },
   {
    "duration": 11,
    "start_time": "2023-04-07T15:38:14.085Z"
   },
   {
    "duration": 4,
    "start_time": "2023-04-07T15:38:14.123Z"
   },
   {
    "duration": 42,
    "start_time": "2023-04-07T15:38:14.129Z"
   },
   {
    "duration": 20,
    "start_time": "2023-04-07T15:38:14.173Z"
   },
   {
    "duration": 14,
    "start_time": "2023-04-07T15:38:14.194Z"
   },
   {
    "duration": 22,
    "start_time": "2023-04-07T15:38:14.210Z"
   },
   {
    "duration": 13,
    "start_time": "2023-04-07T15:38:14.234Z"
   },
   {
    "duration": 27,
    "start_time": "2023-04-07T15:38:14.249Z"
   },
   {
    "duration": 16,
    "start_time": "2023-04-07T15:38:14.278Z"
   },
   {
    "duration": 31,
    "start_time": "2023-04-07T15:38:14.295Z"
   },
   {
    "duration": 12,
    "start_time": "2023-04-07T15:38:14.328Z"
   },
   {
    "duration": 41,
    "start_time": "2023-04-07T15:38:14.342Z"
   },
   {
    "duration": 5,
    "start_time": "2023-04-07T15:38:14.385Z"
   },
   {
    "duration": 28,
    "start_time": "2023-04-07T15:38:14.392Z"
   },
   {
    "duration": 12,
    "start_time": "2023-04-07T15:38:14.422Z"
   },
   {
    "duration": 22,
    "start_time": "2023-04-07T15:38:14.436Z"
   },
   {
    "duration": 11,
    "start_time": "2023-04-07T15:38:14.460Z"
   },
   {
    "duration": 11,
    "start_time": "2023-04-07T15:38:14.472Z"
   },
   {
    "duration": 5,
    "start_time": "2023-04-07T15:38:14.485Z"
   },
   {
    "duration": 34,
    "start_time": "2023-04-07T15:38:14.491Z"
   },
   {
    "duration": 9,
    "start_time": "2023-04-07T15:38:14.527Z"
   },
   {
    "duration": 4,
    "start_time": "2023-04-07T15:41:06.005Z"
   },
   {
    "duration": 1222,
    "start_time": "2023-04-07T15:41:08.575Z"
   },
   {
    "duration": 5,
    "start_time": "2023-04-07T15:42:44.421Z"
   },
   {
    "duration": 1485,
    "start_time": "2023-04-07T15:42:45.786Z"
   },
   {
    "duration": 4,
    "start_time": "2023-04-07T15:42:58.451Z"
   },
   {
    "duration": 5,
    "start_time": "2023-04-07T15:46:57.059Z"
   },
   {
    "duration": 1126,
    "start_time": "2023-04-07T15:46:58.416Z"
   },
   {
    "duration": 4,
    "start_time": "2023-04-07T15:47:10.060Z"
   },
   {
    "duration": 1137,
    "start_time": "2023-04-07T15:47:13.520Z"
   },
   {
    "duration": 3,
    "start_time": "2023-04-07T15:47:18.044Z"
   },
   {
    "duration": 166,
    "start_time": "2023-04-07T15:47:18.049Z"
   },
   {
    "duration": 14,
    "start_time": "2023-04-07T15:47:18.217Z"
   },
   {
    "duration": 30,
    "start_time": "2023-04-07T15:47:18.233Z"
   },
   {
    "duration": 4,
    "start_time": "2023-04-07T15:47:18.265Z"
   },
   {
    "duration": 12,
    "start_time": "2023-04-07T15:47:18.271Z"
   },
   {
    "duration": 11,
    "start_time": "2023-04-07T15:47:18.284Z"
   },
   {
    "duration": 45,
    "start_time": "2023-04-07T15:47:18.297Z"
   },
   {
    "duration": 17,
    "start_time": "2023-04-07T15:47:18.344Z"
   },
   {
    "duration": 24,
    "start_time": "2023-04-07T15:47:18.363Z"
   },
   {
    "duration": 89,
    "start_time": "2023-04-07T15:47:18.389Z"
   },
   {
    "duration": 85,
    "start_time": "2023-04-07T15:47:18.480Z"
   },
   {
    "duration": 71,
    "start_time": "2023-04-07T15:47:18.567Z"
   },
   {
    "duration": 36,
    "start_time": "2023-04-07T15:47:18.640Z"
   },
   {
    "duration": 3,
    "start_time": "2023-04-07T15:47:18.678Z"
   },
   {
    "duration": 40,
    "start_time": "2023-04-07T15:47:18.683Z"
   },
   {
    "duration": 44,
    "start_time": "2023-04-07T15:47:18.726Z"
   },
   {
    "duration": 12,
    "start_time": "2023-04-07T15:47:18.771Z"
   },
   {
    "duration": 10,
    "start_time": "2023-04-07T15:47:18.785Z"
   },
   {
    "duration": 29,
    "start_time": "2023-04-07T15:47:18.797Z"
   },
   {
    "duration": 20,
    "start_time": "2023-04-07T15:47:18.828Z"
   },
   {
    "duration": 23,
    "start_time": "2023-04-07T15:47:18.850Z"
   },
   {
    "duration": 16,
    "start_time": "2023-04-07T15:47:18.874Z"
   },
   {
    "duration": 35,
    "start_time": "2023-04-07T15:47:18.894Z"
   },
   {
    "duration": 15,
    "start_time": "2023-04-07T15:47:18.931Z"
   },
   {
    "duration": 25,
    "start_time": "2023-04-07T15:47:18.947Z"
   },
   {
    "duration": 17,
    "start_time": "2023-04-07T15:47:18.974Z"
   },
   {
    "duration": 31,
    "start_time": "2023-04-07T15:47:18.993Z"
   },
   {
    "duration": 12,
    "start_time": "2023-04-07T15:47:19.026Z"
   },
   {
    "duration": 18,
    "start_time": "2023-04-07T15:47:19.040Z"
   },
   {
    "duration": 9,
    "start_time": "2023-04-07T15:47:19.060Z"
   },
   {
    "duration": 28,
    "start_time": "2023-04-07T15:47:19.071Z"
   },
   {
    "duration": 18,
    "start_time": "2023-04-07T15:47:21.472Z"
   },
   {
    "duration": 12,
    "start_time": "2023-04-07T15:47:24.148Z"
   },
   {
    "duration": 2,
    "start_time": "2023-04-07T15:47:28.819Z"
   },
   {
    "duration": 171,
    "start_time": "2023-04-07T15:47:28.823Z"
   },
   {
    "duration": 11,
    "start_time": "2023-04-07T15:47:28.996Z"
   },
   {
    "duration": 37,
    "start_time": "2023-04-07T15:47:29.008Z"
   },
   {
    "duration": 4,
    "start_time": "2023-04-07T15:47:29.047Z"
   },
   {
    "duration": 7,
    "start_time": "2023-04-07T15:47:29.053Z"
   },
   {
    "duration": 4,
    "start_time": "2023-04-07T15:47:29.062Z"
   },
   {
    "duration": 27,
    "start_time": "2023-04-07T15:47:29.067Z"
   },
   {
    "duration": 38,
    "start_time": "2023-04-07T15:47:29.096Z"
   },
   {
    "duration": 25,
    "start_time": "2023-04-07T15:47:29.136Z"
   },
   {
    "duration": 89,
    "start_time": "2023-04-07T15:47:29.162Z"
   },
   {
    "duration": 88,
    "start_time": "2023-04-07T15:47:29.252Z"
   },
   {
    "duration": 57,
    "start_time": "2023-04-07T15:47:29.342Z"
   },
   {
    "duration": 52,
    "start_time": "2023-04-07T15:47:29.402Z"
   },
   {
    "duration": 4,
    "start_time": "2023-04-07T15:47:29.456Z"
   },
   {
    "duration": 38,
    "start_time": "2023-04-07T15:47:29.462Z"
   },
   {
    "duration": 44,
    "start_time": "2023-04-07T15:47:29.502Z"
   },
   {
    "duration": 13,
    "start_time": "2023-04-07T15:47:29.548Z"
   },
   {
    "duration": 12,
    "start_time": "2023-04-07T15:47:29.563Z"
   },
   {
    "duration": 4,
    "start_time": "2023-04-07T15:47:29.577Z"
   },
   {
    "duration": 17,
    "start_time": "2023-04-07T15:47:29.583Z"
   },
   {
    "duration": 39,
    "start_time": "2023-04-07T15:47:29.601Z"
   },
   {
    "duration": 15,
    "start_time": "2023-04-07T15:47:29.642Z"
   },
   {
    "duration": 16,
    "start_time": "2023-04-07T15:47:29.659Z"
   },
   {
    "duration": 48,
    "start_time": "2023-04-07T15:47:29.677Z"
   },
   {
    "duration": 17,
    "start_time": "2023-04-07T15:47:29.727Z"
   },
   {
    "duration": 24,
    "start_time": "2023-04-07T15:47:29.746Z"
   },
   {
    "duration": 9,
    "start_time": "2023-04-07T15:47:29.772Z"
   },
   {
    "duration": 12,
    "start_time": "2023-04-07T15:47:29.783Z"
   },
   {
    "duration": 28,
    "start_time": "2023-04-07T15:47:29.797Z"
   },
   {
    "duration": 6,
    "start_time": "2023-04-07T15:47:29.827Z"
   },
   {
    "duration": 22,
    "start_time": "2023-04-07T15:47:29.835Z"
   },
   {
    "duration": 11,
    "start_time": "2023-04-07T15:47:29.859Z"
   },
   {
    "duration": 15,
    "start_time": "2023-04-07T15:47:29.872Z"
   },
   {
    "duration": 40,
    "start_time": "2023-04-07T15:47:29.889Z"
   },
   {
    "duration": 12,
    "start_time": "2023-04-07T15:47:29.930Z"
   },
   {
    "duration": 9,
    "start_time": "2023-04-07T15:47:29.944Z"
   },
   {
    "duration": 23,
    "start_time": "2023-04-07T15:47:29.955Z"
   },
   {
    "duration": 13,
    "start_time": "2023-04-07T15:47:29.980Z"
   },
   {
    "duration": 4,
    "start_time": "2023-04-07T16:18:30.520Z"
   },
   {
    "duration": 21,
    "start_time": "2023-04-07T16:18:36.855Z"
   },
   {
    "duration": 17,
    "start_time": "2023-04-07T16:31:07.275Z"
   },
   {
    "duration": 12,
    "start_time": "2023-04-07T16:33:42.156Z"
   },
   {
    "duration": 4,
    "start_time": "2023-04-07T16:38:35.900Z"
   },
   {
    "duration": 22,
    "start_time": "2023-04-07T16:48:00.578Z"
   },
   {
    "duration": 16,
    "start_time": "2023-04-07T16:48:12.978Z"
   },
   {
    "duration": 16,
    "start_time": "2023-04-07T16:53:35.170Z"
   },
   {
    "duration": 14,
    "start_time": "2023-04-07T16:53:47.535Z"
   },
   {
    "duration": 17,
    "start_time": "2023-04-07T16:54:02.900Z"
   },
   {
    "duration": 18,
    "start_time": "2023-04-07T16:54:16.212Z"
   },
   {
    "duration": 451,
    "start_time": "2023-04-09T19:43:21.705Z"
   },
   {
    "duration": 555,
    "start_time": "2023-04-09T19:43:22.158Z"
   },
   {
    "duration": 18,
    "start_time": "2023-04-09T19:43:22.715Z"
   },
   {
    "duration": 32,
    "start_time": "2023-04-09T19:43:22.735Z"
   },
   {
    "duration": 5,
    "start_time": "2023-04-09T19:43:22.770Z"
   },
   {
    "duration": 27,
    "start_time": "2023-04-09T19:43:22.776Z"
   },
   {
    "duration": 21,
    "start_time": "2023-04-09T19:43:22.805Z"
   },
   {
    "duration": 34,
    "start_time": "2023-04-09T19:43:22.828Z"
   },
   {
    "duration": 29,
    "start_time": "2023-04-09T19:43:22.864Z"
   },
   {
    "duration": 46,
    "start_time": "2023-04-09T19:43:22.896Z"
   },
   {
    "duration": 79,
    "start_time": "2023-04-09T19:43:22.944Z"
   },
   {
    "duration": 91,
    "start_time": "2023-04-09T19:43:23.025Z"
   },
   {
    "duration": 72,
    "start_time": "2023-04-09T19:43:23.118Z"
   },
   {
    "duration": 56,
    "start_time": "2023-04-09T19:43:23.196Z"
   },
   {
    "duration": 38,
    "start_time": "2023-04-09T19:43:23.254Z"
   },
   {
    "duration": 52,
    "start_time": "2023-04-09T19:43:23.296Z"
   },
   {
    "duration": 12,
    "start_time": "2023-04-09T19:43:23.350Z"
   },
   {
    "duration": 45,
    "start_time": "2023-04-09T19:43:23.363Z"
   },
   {
    "duration": 6,
    "start_time": "2023-04-09T19:43:23.410Z"
   },
   {
    "duration": 20,
    "start_time": "2023-04-09T19:43:23.417Z"
   },
   {
    "duration": 13,
    "start_time": "2023-04-09T19:43:23.439Z"
   },
   {
    "duration": 15,
    "start_time": "2023-04-09T19:43:23.453Z"
   },
   {
    "duration": 43,
    "start_time": "2023-04-09T19:43:23.469Z"
   },
   {
    "duration": 23,
    "start_time": "2023-04-09T19:43:23.516Z"
   },
   {
    "duration": 14,
    "start_time": "2023-04-09T19:43:23.541Z"
   },
   {
    "duration": 33,
    "start_time": "2023-04-09T19:43:23.558Z"
   },
   {
    "duration": 55,
    "start_time": "2023-04-09T19:43:23.592Z"
   },
   {
    "duration": 16,
    "start_time": "2023-04-09T19:43:23.649Z"
   },
   {
    "duration": 4,
    "start_time": "2023-04-09T19:43:23.667Z"
   },
   {
    "duration": 28,
    "start_time": "2023-04-09T19:43:23.673Z"
   },
   {
    "duration": 31,
    "start_time": "2023-04-09T19:43:23.703Z"
   },
   {
    "duration": 16,
    "start_time": "2023-04-09T19:43:23.736Z"
   },
   {
    "duration": 11,
    "start_time": "2023-04-09T19:43:23.753Z"
   },
   {
    "duration": 10,
    "start_time": "2023-04-09T19:43:23.766Z"
   },
   {
    "duration": 10,
    "start_time": "2023-04-09T19:43:23.778Z"
   },
   {
    "duration": 29,
    "start_time": "2023-04-09T19:43:23.789Z"
   },
   {
    "duration": 5,
    "start_time": "2023-04-09T19:43:23.820Z"
   },
   {
    "duration": 22,
    "start_time": "2023-04-09T19:46:02.298Z"
   },
   {
    "duration": 30,
    "start_time": "2023-04-09T19:46:04.981Z"
   },
   {
    "duration": 3,
    "start_time": "2023-04-09T19:46:24.176Z"
   },
   {
    "duration": 200,
    "start_time": "2023-04-09T19:46:24.188Z"
   },
   {
    "duration": 12,
    "start_time": "2023-04-09T19:46:24.391Z"
   },
   {
    "duration": 46,
    "start_time": "2023-04-09T19:46:24.405Z"
   },
   {
    "duration": 18,
    "start_time": "2023-04-09T19:46:24.453Z"
   },
   {
    "duration": 21,
    "start_time": "2023-04-09T19:46:24.474Z"
   },
   {
    "duration": 19,
    "start_time": "2023-04-09T19:46:24.500Z"
   },
   {
    "duration": 39,
    "start_time": "2023-04-09T19:46:24.521Z"
   },
   {
    "duration": 24,
    "start_time": "2023-04-09T19:46:27.132Z"
   },
   {
    "duration": 37,
    "start_time": "2023-04-09T19:46:28.110Z"
   },
   {
    "duration": 421,
    "start_time": "2023-04-09T19:46:34.754Z"
   },
   {
    "duration": 203,
    "start_time": "2023-04-09T19:46:35.177Z"
   },
   {
    "duration": 24,
    "start_time": "2023-04-09T19:46:35.382Z"
   },
   {
    "duration": 44,
    "start_time": "2023-04-09T19:46:35.408Z"
   },
   {
    "duration": 22,
    "start_time": "2023-04-09T19:46:35.454Z"
   },
   {
    "duration": 41,
    "start_time": "2023-04-09T19:46:35.477Z"
   },
   {
    "duration": 16,
    "start_time": "2023-04-09T19:46:35.520Z"
   },
   {
    "duration": 45,
    "start_time": "2023-04-09T19:46:35.538Z"
   },
   {
    "duration": 52,
    "start_time": "2023-04-09T19:46:35.585Z"
   },
   {
    "duration": 23,
    "start_time": "2023-04-09T19:46:35.639Z"
   },
   {
    "duration": 62,
    "start_time": "2023-04-09T19:46:35.664Z"
   },
   {
    "duration": 72,
    "start_time": "2023-04-09T19:46:35.728Z"
   },
   {
    "duration": 49,
    "start_time": "2023-04-09T19:46:35.804Z"
   },
   {
    "duration": 44,
    "start_time": "2023-04-09T19:46:35.858Z"
   },
   {
    "duration": 28,
    "start_time": "2023-04-09T19:46:35.903Z"
   },
   {
    "duration": 19,
    "start_time": "2023-04-09T19:46:35.933Z"
   },
   {
    "duration": 14,
    "start_time": "2023-04-09T19:46:35.954Z"
   },
   {
    "duration": 18,
    "start_time": "2023-04-09T19:46:35.987Z"
   },
   {
    "duration": 11,
    "start_time": "2023-04-09T19:46:36.007Z"
   },
   {
    "duration": 23,
    "start_time": "2023-04-09T19:46:36.020Z"
   },
   {
    "duration": 19,
    "start_time": "2023-04-09T19:46:36.044Z"
   },
   {
    "duration": 30,
    "start_time": "2023-04-09T19:46:36.065Z"
   },
   {
    "duration": 20,
    "start_time": "2023-04-09T19:46:36.102Z"
   },
   {
    "duration": 17,
    "start_time": "2023-04-09T19:46:36.123Z"
   },
   {
    "duration": 15,
    "start_time": "2023-04-09T19:46:36.142Z"
   },
   {
    "duration": 11,
    "start_time": "2023-04-09T19:46:36.159Z"
   },
   {
    "duration": 47,
    "start_time": "2023-04-09T19:46:36.187Z"
   },
   {
    "duration": 34,
    "start_time": "2023-04-09T19:46:36.236Z"
   },
   {
    "duration": 4,
    "start_time": "2023-04-09T19:46:36.272Z"
   },
   {
    "duration": 30,
    "start_time": "2023-04-09T19:46:36.278Z"
   },
   {
    "duration": 18,
    "start_time": "2023-04-09T19:46:36.310Z"
   },
   {
    "duration": 18,
    "start_time": "2023-04-09T19:46:36.330Z"
   },
   {
    "duration": 13,
    "start_time": "2023-04-09T19:46:36.349Z"
   },
   {
    "duration": 8,
    "start_time": "2023-04-09T19:46:36.364Z"
   },
   {
    "duration": 21,
    "start_time": "2023-04-09T19:46:36.374Z"
   },
   {
    "duration": 11,
    "start_time": "2023-04-09T19:46:36.397Z"
   },
   {
    "duration": 8,
    "start_time": "2023-04-09T19:46:36.410Z"
   },
   {
    "duration": 3,
    "start_time": "2023-04-09T19:48:40.631Z"
   },
   {
    "duration": 245,
    "start_time": "2023-04-09T19:48:40.636Z"
   },
   {
    "duration": 17,
    "start_time": "2023-04-09T19:48:40.884Z"
   },
   {
    "duration": 60,
    "start_time": "2023-04-09T19:48:40.904Z"
   },
   {
    "duration": 6,
    "start_time": "2023-04-09T19:48:40.967Z"
   },
   {
    "duration": 25,
    "start_time": "2023-04-09T19:48:40.975Z"
   },
   {
    "duration": 19,
    "start_time": "2023-04-09T19:48:41.002Z"
   },
   {
    "duration": 46,
    "start_time": "2023-04-09T19:48:41.023Z"
   },
   {
    "duration": 19,
    "start_time": "2023-04-09T19:48:43.410Z"
   },
   {
    "duration": 26,
    "start_time": "2023-04-09T19:48:45.446Z"
   },
   {
    "duration": 413,
    "start_time": "2023-04-09T19:49:54.140Z"
   },
   {
    "duration": 204,
    "start_time": "2023-04-09T19:49:54.555Z"
   },
   {
    "duration": 17,
    "start_time": "2023-04-09T19:49:54.761Z"
   },
   {
    "duration": 55,
    "start_time": "2023-04-09T19:49:54.790Z"
   },
   {
    "duration": 7,
    "start_time": "2023-04-09T19:49:54.846Z"
   },
   {
    "duration": 13,
    "start_time": "2023-04-09T19:49:54.855Z"
   },
   {
    "duration": 11,
    "start_time": "2023-04-09T19:49:54.870Z"
   },
   {
    "duration": 59,
    "start_time": "2023-04-09T19:49:54.882Z"
   },
   {
    "duration": 35,
    "start_time": "2023-04-09T19:49:54.942Z"
   },
   {
    "duration": 46,
    "start_time": "2023-04-09T19:49:54.980Z"
   },
   {
    "duration": 99,
    "start_time": "2023-04-09T19:49:55.028Z"
   },
   {
    "duration": 101,
    "start_time": "2023-04-09T19:49:55.129Z"
   },
   {
    "duration": 85,
    "start_time": "2023-04-09T19:49:55.232Z"
   },
   {
    "duration": 41,
    "start_time": "2023-04-09T19:49:55.319Z"
   },
   {
    "duration": 33,
    "start_time": "2023-04-09T19:49:55.361Z"
   },
   {
    "duration": 52,
    "start_time": "2023-04-09T19:49:55.396Z"
   },
   {
    "duration": 18,
    "start_time": "2023-04-09T19:49:55.450Z"
   },
   {
    "duration": 23,
    "start_time": "2023-04-09T19:49:55.470Z"
   },
   {
    "duration": 5,
    "start_time": "2023-04-09T19:49:55.495Z"
   },
   {
    "duration": 33,
    "start_time": "2023-04-09T19:49:55.502Z"
   },
   {
    "duration": 16,
    "start_time": "2023-04-09T19:49:55.537Z"
   },
   {
    "duration": 17,
    "start_time": "2023-04-09T19:49:55.555Z"
   },
   {
    "duration": 32,
    "start_time": "2023-04-09T19:49:55.574Z"
   },
   {
    "duration": 30,
    "start_time": "2023-04-09T19:49:55.607Z"
   },
   {
    "duration": 16,
    "start_time": "2023-04-09T19:49:55.638Z"
   },
   {
    "duration": 14,
    "start_time": "2023-04-09T19:49:55.656Z"
   },
   {
    "duration": 43,
    "start_time": "2023-04-09T19:49:55.672Z"
   },
   {
    "duration": 16,
    "start_time": "2023-04-09T19:49:55.721Z"
   },
   {
    "duration": 4,
    "start_time": "2023-04-09T19:49:55.739Z"
   },
   {
    "duration": 26,
    "start_time": "2023-04-09T19:49:55.744Z"
   },
   {
    "duration": 27,
    "start_time": "2023-04-09T19:49:55.772Z"
   },
   {
    "duration": 35,
    "start_time": "2023-04-09T19:49:55.800Z"
   },
   {
    "duration": 18,
    "start_time": "2023-04-09T19:49:55.836Z"
   },
   {
    "duration": 10,
    "start_time": "2023-04-09T19:49:55.856Z"
   },
   {
    "duration": 6,
    "start_time": "2023-04-09T19:49:55.867Z"
   },
   {
    "duration": 18,
    "start_time": "2023-04-09T19:49:55.875Z"
   },
   {
    "duration": 25,
    "start_time": "2023-04-09T19:49:55.895Z"
   },
   {
    "duration": 5,
    "start_time": "2023-04-09T19:56:15.411Z"
   },
   {
    "duration": 918,
    "start_time": "2023-04-09T19:56:22.228Z"
   },
   {
    "duration": 4,
    "start_time": "2023-04-09T19:56:43.842Z"
   },
   {
    "duration": 777,
    "start_time": "2023-04-09T19:56:44.904Z"
   },
   {
    "duration": 782,
    "start_time": "2023-04-09T19:56:59.381Z"
   },
   {
    "duration": 741,
    "start_time": "2023-04-09T19:57:06.225Z"
   },
   {
    "duration": 694,
    "start_time": "2023-04-09T19:57:19.056Z"
   },
   {
    "duration": 3,
    "start_time": "2023-04-09T19:57:47.110Z"
   },
   {
    "duration": 203,
    "start_time": "2023-04-09T19:57:47.115Z"
   },
   {
    "duration": 10,
    "start_time": "2023-04-09T19:57:47.321Z"
   },
   {
    "duration": 33,
    "start_time": "2023-04-09T19:57:47.333Z"
   },
   {
    "duration": 4,
    "start_time": "2023-04-09T19:57:47.368Z"
   },
   {
    "duration": 21,
    "start_time": "2023-04-09T19:57:47.388Z"
   },
   {
    "duration": 4,
    "start_time": "2023-04-09T19:57:47.411Z"
   },
   {
    "duration": 32,
    "start_time": "2023-04-09T19:57:47.416Z"
   },
   {
    "duration": 19,
    "start_time": "2023-04-09T19:57:47.450Z"
   },
   {
    "duration": 36,
    "start_time": "2023-04-09T19:57:47.487Z"
   },
   {
    "duration": 88,
    "start_time": "2023-04-09T19:57:47.526Z"
   },
   {
    "duration": 86,
    "start_time": "2023-04-09T19:57:47.615Z"
   },
   {
    "duration": 69,
    "start_time": "2023-04-09T19:57:47.703Z"
   },
   {
    "duration": 53,
    "start_time": "2023-04-09T19:57:47.774Z"
   },
   {
    "duration": 25,
    "start_time": "2023-04-09T19:57:47.829Z"
   },
   {
    "duration": 78,
    "start_time": "2023-04-09T19:57:47.856Z"
   },
   {
    "duration": 16,
    "start_time": "2023-04-09T19:57:47.936Z"
   },
   {
    "duration": 13,
    "start_time": "2023-04-09T19:57:47.954Z"
   },
   {
    "duration": 25,
    "start_time": "2023-04-09T19:57:47.969Z"
   },
   {
    "duration": 34,
    "start_time": "2023-04-09T19:57:47.995Z"
   },
   {
    "duration": 17,
    "start_time": "2023-04-09T19:57:48.031Z"
   },
   {
    "duration": 16,
    "start_time": "2023-04-09T19:57:48.050Z"
   },
   {
    "duration": 32,
    "start_time": "2023-04-09T19:57:48.068Z"
   },
   {
    "duration": 18,
    "start_time": "2023-04-09T19:57:48.102Z"
   },
   {
    "duration": 15,
    "start_time": "2023-04-09T19:57:48.122Z"
   },
   {
    "duration": 10,
    "start_time": "2023-04-09T19:57:48.138Z"
   },
   {
    "duration": 42,
    "start_time": "2023-04-09T19:57:48.149Z"
   },
   {
    "duration": 21,
    "start_time": "2023-04-09T19:57:48.193Z"
   },
   {
    "duration": 4,
    "start_time": "2023-04-09T19:57:49.718Z"
   },
   {
    "duration": 18,
    "start_time": "2023-04-09T19:57:51.664Z"
   },
   {
    "duration": 13,
    "start_time": "2023-04-09T19:58:26.109Z"
   },
   {
    "duration": 21,
    "start_time": "2023-04-09T19:58:26.679Z"
   },
   {
    "duration": 21,
    "start_time": "2023-04-09T19:58:30.611Z"
   },
   {
    "duration": 3,
    "start_time": "2023-04-09T19:59:12.639Z"
   },
   {
    "duration": 212,
    "start_time": "2023-04-09T19:59:12.644Z"
   },
   {
    "duration": 12,
    "start_time": "2023-04-09T19:59:12.857Z"
   },
   {
    "duration": 59,
    "start_time": "2023-04-09T19:59:12.871Z"
   },
   {
    "duration": 5,
    "start_time": "2023-04-09T19:59:12.932Z"
   },
   {
    "duration": 10,
    "start_time": "2023-04-09T19:59:12.939Z"
   },
   {
    "duration": 4,
    "start_time": "2023-04-09T19:59:12.950Z"
   },
   {
    "duration": 55,
    "start_time": "2023-04-09T19:59:12.955Z"
   },
   {
    "duration": 17,
    "start_time": "2023-04-09T19:59:13.012Z"
   },
   {
    "duration": 39,
    "start_time": "2023-04-09T19:59:13.031Z"
   },
   {
    "duration": 82,
    "start_time": "2023-04-09T19:59:13.072Z"
   },
   {
    "duration": 90,
    "start_time": "2023-04-09T19:59:13.156Z"
   },
   {
    "duration": 77,
    "start_time": "2023-04-09T19:59:13.250Z"
   },
   {
    "duration": 43,
    "start_time": "2023-04-09T19:59:13.329Z"
   },
   {
    "duration": 41,
    "start_time": "2023-04-09T19:59:13.373Z"
   },
   {
    "duration": 42,
    "start_time": "2023-04-09T19:59:13.416Z"
   },
   {
    "duration": 45,
    "start_time": "2023-04-09T19:59:13.461Z"
   },
   {
    "duration": 13,
    "start_time": "2023-04-09T19:59:13.508Z"
   },
   {
    "duration": 4,
    "start_time": "2023-04-09T19:59:13.522Z"
   },
   {
    "duration": 21,
    "start_time": "2023-04-09T19:59:13.527Z"
   },
   {
    "duration": 15,
    "start_time": "2023-04-09T19:59:13.549Z"
   },
   {
    "duration": 22,
    "start_time": "2023-04-09T19:59:13.587Z"
   },
   {
    "duration": 18,
    "start_time": "2023-04-09T19:59:13.612Z"
   },
   {
    "duration": 25,
    "start_time": "2023-04-09T19:59:13.632Z"
   },
   {
    "duration": 37,
    "start_time": "2023-04-09T19:59:13.660Z"
   },
   {
    "duration": 48,
    "start_time": "2023-04-09T19:59:13.699Z"
   },
   {
    "duration": 32,
    "start_time": "2023-04-09T19:59:13.749Z"
   },
   {
    "duration": 24,
    "start_time": "2023-04-09T19:59:13.783Z"
   },
   {
    "duration": 4,
    "start_time": "2023-04-09T19:59:13.809Z"
   },
   {
    "duration": 31,
    "start_time": "2023-04-09T19:59:13.815Z"
   },
   {
    "duration": 19,
    "start_time": "2023-04-09T19:59:13.848Z"
   },
   {
    "duration": 17,
    "start_time": "2023-04-09T19:59:13.869Z"
   },
   {
    "duration": 23,
    "start_time": "2023-04-09T19:59:13.892Z"
   },
   {
    "duration": 12,
    "start_time": "2023-04-09T19:59:13.917Z"
   },
   {
    "duration": 7,
    "start_time": "2023-04-09T19:59:13.930Z"
   },
   {
    "duration": 11,
    "start_time": "2023-04-09T19:59:13.938Z"
   },
   {
    "duration": 5,
    "start_time": "2023-04-09T19:59:13.953Z"
   },
   {
    "duration": 457,
    "start_time": "2023-04-10T15:53:45.912Z"
   },
   {
    "duration": 562,
    "start_time": "2023-04-10T15:53:46.371Z"
   },
   {
    "duration": 19,
    "start_time": "2023-04-10T15:53:46.935Z"
   },
   {
    "duration": 34,
    "start_time": "2023-04-10T15:53:46.956Z"
   },
   {
    "duration": 5,
    "start_time": "2023-04-10T15:53:46.991Z"
   },
   {
    "duration": 37,
    "start_time": "2023-04-10T15:53:46.998Z"
   },
   {
    "duration": 8,
    "start_time": "2023-04-10T15:53:47.037Z"
   },
   {
    "duration": 32,
    "start_time": "2023-04-10T15:53:47.048Z"
   },
   {
    "duration": 18,
    "start_time": "2023-04-10T15:53:47.081Z"
   },
   {
    "duration": 48,
    "start_time": "2023-04-10T15:53:47.102Z"
   },
   {
    "duration": 89,
    "start_time": "2023-04-10T15:53:47.152Z"
   },
   {
    "duration": 109,
    "start_time": "2023-04-10T15:53:47.243Z"
   },
   {
    "duration": 84,
    "start_time": "2023-04-10T15:53:47.354Z"
   },
   {
    "duration": 53,
    "start_time": "2023-04-10T15:53:47.440Z"
   },
   {
    "duration": 46,
    "start_time": "2023-04-10T15:53:47.494Z"
   },
   {
    "duration": 46,
    "start_time": "2023-04-10T15:53:47.541Z"
   },
   {
    "duration": 15,
    "start_time": "2023-04-10T15:53:47.589Z"
   },
   {
    "duration": 36,
    "start_time": "2023-04-10T15:53:47.606Z"
   },
   {
    "duration": 4,
    "start_time": "2023-04-10T15:53:47.644Z"
   },
   {
    "duration": 25,
    "start_time": "2023-04-10T15:53:47.650Z"
   },
   {
    "duration": 17,
    "start_time": "2023-04-10T15:53:47.677Z"
   },
   {
    "duration": 40,
    "start_time": "2023-04-10T15:53:47.695Z"
   },
   {
    "duration": 16,
    "start_time": "2023-04-10T15:53:47.737Z"
   },
   {
    "duration": 33,
    "start_time": "2023-04-10T15:53:47.754Z"
   },
   {
    "duration": 17,
    "start_time": "2023-04-10T15:53:47.789Z"
   },
   {
    "duration": 30,
    "start_time": "2023-04-10T15:53:47.807Z"
   },
   {
    "duration": 28,
    "start_time": "2023-04-10T15:53:47.839Z"
   },
   {
    "duration": 33,
    "start_time": "2023-04-10T15:53:47.870Z"
   },
   {
    "duration": 14,
    "start_time": "2023-04-10T15:53:47.905Z"
   },
   {
    "duration": 36,
    "start_time": "2023-04-10T15:53:47.921Z"
   },
   {
    "duration": 36,
    "start_time": "2023-04-10T15:53:47.959Z"
   },
   {
    "duration": 39,
    "start_time": "2023-04-10T15:53:47.997Z"
   },
   {
    "duration": 44,
    "start_time": "2023-04-10T15:53:48.038Z"
   },
   {
    "duration": 76,
    "start_time": "2023-04-10T15:53:55.081Z"
   },
   {
    "duration": 11,
    "start_time": "2023-04-10T15:53:59.152Z"
   },
   {
    "duration": 15,
    "start_time": "2023-04-10T15:54:32.608Z"
   },
   {
    "duration": 10,
    "start_time": "2023-04-10T15:54:57.468Z"
   },
   {
    "duration": 11,
    "start_time": "2023-04-10T15:55:57.509Z"
   },
   {
    "duration": 14,
    "start_time": "2023-04-10T15:56:44.098Z"
   },
   {
    "duration": 8,
    "start_time": "2023-04-10T15:56:54.976Z"
   },
   {
    "duration": 387,
    "start_time": "2023-05-10T17:24:55.781Z"
   },
   {
    "duration": 234,
    "start_time": "2023-05-10T17:24:56.170Z"
   },
   {
    "duration": 17,
    "start_time": "2023-05-10T17:24:56.407Z"
   },
   {
    "duration": 34,
    "start_time": "2023-05-10T17:24:56.426Z"
   },
   {
    "duration": 5,
    "start_time": "2023-05-10T17:24:56.461Z"
   },
   {
    "duration": 12,
    "start_time": "2023-05-10T17:24:56.467Z"
   },
   {
    "duration": 9,
    "start_time": "2023-05-10T17:24:56.481Z"
   },
   {
    "duration": 26,
    "start_time": "2023-05-10T17:24:56.492Z"
   },
   {
    "duration": 44,
    "start_time": "2023-05-10T17:24:56.519Z"
   },
   {
    "duration": 36,
    "start_time": "2023-05-10T17:24:56.566Z"
   },
   {
    "duration": 81,
    "start_time": "2023-05-10T17:24:56.604Z"
   },
   {
    "duration": 88,
    "start_time": "2023-05-10T17:24:56.686Z"
   },
   {
    "duration": 63,
    "start_time": "2023-05-10T17:24:56.776Z"
   },
   {
    "duration": 50,
    "start_time": "2023-05-10T17:24:56.841Z"
   },
   {
    "duration": 21,
    "start_time": "2023-05-10T17:24:56.893Z"
   },
   {
    "duration": 60,
    "start_time": "2023-05-10T17:24:56.915Z"
   },
   {
    "duration": 15,
    "start_time": "2023-05-10T17:24:56.977Z"
   },
   {
    "duration": 11,
    "start_time": "2023-05-10T17:24:56.994Z"
   },
   {
    "duration": 3,
    "start_time": "2023-05-10T17:24:57.006Z"
   },
   {
    "duration": 46,
    "start_time": "2023-05-10T17:24:57.011Z"
   },
   {
    "duration": 15,
    "start_time": "2023-05-10T17:24:57.059Z"
   },
   {
    "duration": 14,
    "start_time": "2023-05-10T17:24:57.076Z"
   },
   {
    "duration": 14,
    "start_time": "2023-05-10T17:24:57.091Z"
   },
   {
    "duration": 15,
    "start_time": "2023-05-10T17:24:57.106Z"
   },
   {
    "duration": 46,
    "start_time": "2023-05-10T17:24:57.123Z"
   },
   {
    "duration": 11,
    "start_time": "2023-05-10T17:24:57.171Z"
   },
   {
    "duration": 62,
    "start_time": "2023-05-10T17:24:57.184Z"
   },
   {
    "duration": 16,
    "start_time": "2023-05-10T17:24:57.250Z"
   },
   {
    "duration": 5,
    "start_time": "2023-05-10T17:24:57.268Z"
   },
   {
    "duration": 22,
    "start_time": "2023-05-10T17:24:57.275Z"
   },
   {
    "duration": 11,
    "start_time": "2023-05-10T17:24:57.299Z"
   },
   {
    "duration": 22,
    "start_time": "2023-05-10T17:24:57.312Z"
   },
   {
    "duration": 28,
    "start_time": "2023-05-10T17:24:57.336Z"
   },
   {
    "duration": 12,
    "start_time": "2023-05-10T17:24:57.366Z"
   },
   {
    "duration": 8,
    "start_time": "2023-05-10T17:24:57.380Z"
   },
   {
    "duration": 13,
    "start_time": "2023-05-10T17:30:03.229Z"
   },
   {
    "duration": 2,
    "start_time": "2023-05-10T17:42:48.673Z"
   },
   {
    "duration": 165,
    "start_time": "2023-05-10T17:42:48.677Z"
   },
   {
    "duration": 12,
    "start_time": "2023-05-10T17:42:48.843Z"
   },
   {
    "duration": 26,
    "start_time": "2023-05-10T17:42:48.857Z"
   },
   {
    "duration": 12,
    "start_time": "2023-05-10T17:42:48.884Z"
   },
   {
    "duration": 15,
    "start_time": "2023-05-10T17:42:48.897Z"
   },
   {
    "duration": 5,
    "start_time": "2023-05-10T17:42:48.913Z"
   },
   {
    "duration": 24,
    "start_time": "2023-05-10T17:42:48.919Z"
   },
   {
    "duration": 23,
    "start_time": "2023-05-10T17:42:48.945Z"
   },
   {
    "duration": 31,
    "start_time": "2023-05-10T17:42:48.969Z"
   },
   {
    "duration": 73,
    "start_time": "2023-05-10T17:42:49.004Z"
   },
   {
    "duration": 67,
    "start_time": "2023-05-10T17:42:49.078Z"
   },
   {
    "duration": 54,
    "start_time": "2023-05-10T17:42:49.156Z"
   },
   {
    "duration": 31,
    "start_time": "2023-05-10T17:42:49.212Z"
   },
   {
    "duration": 20,
    "start_time": "2023-05-10T17:42:49.256Z"
   },
   {
    "duration": 32,
    "start_time": "2023-05-10T17:42:49.278Z"
   },
   {
    "duration": 10,
    "start_time": "2023-05-10T17:42:49.312Z"
   },
   {
    "duration": 36,
    "start_time": "2023-05-10T17:42:49.324Z"
   },
   {
    "duration": 3,
    "start_time": "2023-05-10T17:42:49.362Z"
   },
   {
    "duration": 17,
    "start_time": "2023-05-10T17:42:49.366Z"
   },
   {
    "duration": 12,
    "start_time": "2023-05-10T17:42:49.384Z"
   },
   {
    "duration": 14,
    "start_time": "2023-05-10T17:42:49.398Z"
   },
   {
    "duration": 43,
    "start_time": "2023-05-10T17:42:49.414Z"
   },
   {
    "duration": 14,
    "start_time": "2023-05-10T17:42:49.458Z"
   },
   {
    "duration": 13,
    "start_time": "2023-05-10T17:42:49.474Z"
   },
   {
    "duration": 8,
    "start_time": "2023-05-10T17:42:49.489Z"
   },
   {
    "duration": 20,
    "start_time": "2023-05-10T17:42:49.498Z"
   },
   {
    "duration": 43,
    "start_time": "2023-05-10T17:42:49.519Z"
   },
   {
    "duration": 4,
    "start_time": "2023-05-10T17:42:49.565Z"
   },
   {
    "duration": 21,
    "start_time": "2023-05-10T17:42:49.570Z"
   },
   {
    "duration": 10,
    "start_time": "2023-05-10T17:42:49.593Z"
   },
   {
    "duration": 14,
    "start_time": "2023-05-10T17:42:49.605Z"
   },
   {
    "duration": 36,
    "start_time": "2023-05-10T17:42:49.621Z"
   },
   {
    "duration": 10,
    "start_time": "2023-05-10T17:42:49.658Z"
   },
   {
    "duration": 6,
    "start_time": "2023-05-10T17:42:49.670Z"
   },
   {
    "duration": 371,
    "start_time": "2023-05-10T18:39:56.389Z"
   },
   {
    "duration": 154,
    "start_time": "2023-05-10T18:39:56.761Z"
   },
   {
    "duration": 18,
    "start_time": "2023-05-10T18:39:56.917Z"
   },
   {
    "duration": 31,
    "start_time": "2023-05-10T18:39:56.937Z"
   },
   {
    "duration": 3,
    "start_time": "2023-05-10T18:39:56.970Z"
   },
   {
    "duration": 12,
    "start_time": "2023-05-10T18:39:56.975Z"
   },
   {
    "duration": 6,
    "start_time": "2023-05-10T18:39:56.988Z"
   },
   {
    "duration": 24,
    "start_time": "2023-05-10T18:39:56.996Z"
   },
   {
    "duration": 38,
    "start_time": "2023-05-10T18:39:57.022Z"
   },
   {
    "duration": 50,
    "start_time": "2023-05-10T18:39:57.063Z"
   },
   {
    "duration": 63,
    "start_time": "2023-05-10T18:39:57.115Z"
   },
   {
    "duration": 81,
    "start_time": "2023-05-10T18:39:57.180Z"
   },
   {
    "duration": 62,
    "start_time": "2023-05-10T18:39:57.263Z"
   },
   {
    "duration": 49,
    "start_time": "2023-05-10T18:39:57.327Z"
   },
   {
    "duration": 23,
    "start_time": "2023-05-10T18:39:57.378Z"
   },
   {
    "duration": 34,
    "start_time": "2023-05-10T18:39:57.403Z"
   },
   {
    "duration": 26,
    "start_time": "2023-05-10T18:39:57.439Z"
   },
   {
    "duration": 11,
    "start_time": "2023-05-10T18:39:57.466Z"
   },
   {
    "duration": 15,
    "start_time": "2023-05-10T18:39:57.479Z"
   },
   {
    "duration": 21,
    "start_time": "2023-05-10T18:39:57.496Z"
   },
   {
    "duration": 14,
    "start_time": "2023-05-10T18:39:57.519Z"
   },
   {
    "duration": 29,
    "start_time": "2023-05-10T18:39:57.535Z"
   },
   {
    "duration": 13,
    "start_time": "2023-05-10T18:39:57.566Z"
   },
   {
    "duration": 22,
    "start_time": "2023-05-10T18:39:57.580Z"
   },
   {
    "duration": 18,
    "start_time": "2023-05-10T18:39:57.604Z"
   },
   {
    "duration": 9,
    "start_time": "2023-05-10T18:39:57.624Z"
   },
   {
    "duration": 36,
    "start_time": "2023-05-10T18:39:57.634Z"
   },
   {
    "duration": 16,
    "start_time": "2023-05-10T18:39:57.673Z"
   },
   {
    "duration": 4,
    "start_time": "2023-05-10T18:39:57.690Z"
   },
   {
    "duration": 18,
    "start_time": "2023-05-10T18:39:57.696Z"
   },
   {
    "duration": 42,
    "start_time": "2023-05-10T18:39:57.716Z"
   },
   {
    "duration": 17,
    "start_time": "2023-05-10T18:39:57.760Z"
   },
   {
    "duration": 12,
    "start_time": "2023-05-10T18:39:57.779Z"
   },
   {
    "duration": 11,
    "start_time": "2023-05-10T18:39:57.793Z"
   },
   {
    "duration": 7,
    "start_time": "2023-05-10T18:39:57.806Z"
   },
   {
    "duration": 21,
    "start_time": "2023-05-10T18:43:50.478Z"
   },
   {
    "duration": 405,
    "start_time": "2023-05-10T18:44:29.464Z"
   },
   {
    "duration": 167,
    "start_time": "2023-05-10T18:44:29.871Z"
   },
   {
    "duration": 26,
    "start_time": "2023-05-10T18:44:30.040Z"
   },
   {
    "duration": 30,
    "start_time": "2023-05-10T18:44:30.069Z"
   },
   {
    "duration": 6,
    "start_time": "2023-05-10T18:44:30.101Z"
   },
   {
    "duration": 25,
    "start_time": "2023-05-10T18:44:30.109Z"
   },
   {
    "duration": 4,
    "start_time": "2023-05-10T18:44:30.139Z"
   },
   {
    "duration": 45,
    "start_time": "2023-05-10T18:44:30.145Z"
   },
   {
    "duration": 19,
    "start_time": "2023-05-10T18:44:30.192Z"
   },
   {
    "duration": 39,
    "start_time": "2023-05-10T18:44:30.213Z"
   },
   {
    "duration": 71,
    "start_time": "2023-05-10T18:44:30.256Z"
   },
   {
    "duration": 106,
    "start_time": "2023-05-10T18:44:30.329Z"
   },
   {
    "duration": 76,
    "start_time": "2023-05-10T18:44:30.437Z"
   },
   {
    "duration": 47,
    "start_time": "2023-05-10T18:44:30.515Z"
   },
   {
    "duration": 27,
    "start_time": "2023-05-10T18:44:30.564Z"
   },
   {
    "duration": 47,
    "start_time": "2023-05-10T18:44:30.593Z"
   },
   {
    "duration": 12,
    "start_time": "2023-05-10T18:44:30.657Z"
   },
   {
    "duration": 27,
    "start_time": "2023-05-10T18:44:30.671Z"
   },
   {
    "duration": 30,
    "start_time": "2023-05-10T18:44:30.700Z"
   },
   {
    "duration": 87,
    "start_time": "2023-05-10T18:44:30.732Z"
   },
   {
    "duration": 46,
    "start_time": "2023-05-10T18:44:30.821Z"
   },
   {
    "duration": 61,
    "start_time": "2023-05-10T18:44:30.868Z"
   },
   {
    "duration": 48,
    "start_time": "2023-05-10T18:44:30.931Z"
   },
   {
    "duration": 73,
    "start_time": "2023-05-10T18:44:30.981Z"
   },
   {
    "duration": 42,
    "start_time": "2023-05-10T18:44:31.056Z"
   },
   {
    "duration": 25,
    "start_time": "2023-05-10T18:44:31.100Z"
   },
   {
    "duration": 61,
    "start_time": "2023-05-10T18:44:31.127Z"
   },
   {
    "duration": 61,
    "start_time": "2023-05-10T18:44:31.192Z"
   },
   {
    "duration": 26,
    "start_time": "2023-05-10T18:44:31.255Z"
   },
   {
    "duration": 55,
    "start_time": "2023-05-10T18:44:31.283Z"
   },
   {
    "duration": 34,
    "start_time": "2023-05-10T18:44:31.340Z"
   },
   {
    "duration": 55,
    "start_time": "2023-05-10T18:44:31.376Z"
   },
   {
    "duration": 18,
    "start_time": "2023-05-10T18:44:31.433Z"
   },
   {
    "duration": 36,
    "start_time": "2023-05-10T18:44:31.454Z"
   },
   {
    "duration": 20,
    "start_time": "2023-05-10T18:44:31.493Z"
   },
   {
    "duration": 8,
    "start_time": "2023-05-10T18:52:27.857Z"
   },
   {
    "duration": 72,
    "start_time": "2023-05-10T18:54:02.296Z"
   },
   {
    "duration": 72,
    "start_time": "2023-05-10T18:54:13.036Z"
   },
   {
    "duration": 74,
    "start_time": "2023-05-10T18:58:16.027Z"
   },
   {
    "duration": 119,
    "start_time": "2023-05-10T18:58:30.545Z"
   },
   {
    "duration": 116,
    "start_time": "2023-05-10T18:59:00.313Z"
   },
   {
    "duration": 71,
    "start_time": "2023-05-10T19:00:11.741Z"
   },
   {
    "duration": 73,
    "start_time": "2023-05-10T19:01:45.385Z"
   },
   {
    "duration": 113,
    "start_time": "2023-05-10T19:01:51.244Z"
   },
   {
    "duration": 11,
    "start_time": "2023-05-10T19:02:02.912Z"
   },
   {
    "duration": 7,
    "start_time": "2023-05-10T19:02:14.602Z"
   },
   {
    "duration": 92,
    "start_time": "2023-05-10T19:02:37.738Z"
   },
   {
    "duration": 8,
    "start_time": "2023-05-10T19:02:41.721Z"
   },
   {
    "duration": 3,
    "start_time": "2023-05-10T19:02:57.615Z"
   },
   {
    "duration": 4,
    "start_time": "2023-05-10T19:03:03.777Z"
   },
   {
    "duration": 88,
    "start_time": "2023-05-10T19:03:10.152Z"
   },
   {
    "duration": 19,
    "start_time": "2023-05-10T19:07:46.619Z"
   },
   {
    "duration": 33,
    "start_time": "2023-05-10T19:08:25.747Z"
   },
   {
    "duration": 28,
    "start_time": "2023-05-10T19:08:48.611Z"
   },
   {
    "duration": 26,
    "start_time": "2023-05-10T19:09:01.481Z"
   },
   {
    "duration": 29,
    "start_time": "2023-05-10T19:09:11.342Z"
   },
   {
    "duration": 81,
    "start_time": "2023-05-10T19:11:45.939Z"
   },
   {
    "duration": 71,
    "start_time": "2023-05-10T19:12:04.573Z"
   },
   {
    "duration": 85,
    "start_time": "2023-05-10T19:12:19.325Z"
   },
   {
    "duration": 80,
    "start_time": "2023-05-10T19:13:01.964Z"
   },
   {
    "duration": 126,
    "start_time": "2023-05-10T19:14:05.326Z"
   },
   {
    "duration": 74,
    "start_time": "2023-05-10T19:14:17.624Z"
   },
   {
    "duration": 4,
    "start_time": "2023-05-10T19:14:22.585Z"
   },
   {
    "duration": 28,
    "start_time": "2023-05-10T19:14:25.906Z"
   },
   {
    "duration": 83,
    "start_time": "2023-05-10T19:14:35.296Z"
   },
   {
    "duration": 91,
    "start_time": "2023-05-10T19:14:54.339Z"
   },
   {
    "duration": 71,
    "start_time": "2023-05-10T19:14:58.799Z"
   },
   {
    "duration": 318,
    "start_time": "2023-05-10T19:15:02.885Z"
   },
   {
    "duration": 71,
    "start_time": "2023-05-10T19:15:13.219Z"
   },
   {
    "duration": 76,
    "start_time": "2023-05-10T19:15:16.851Z"
   },
   {
    "duration": 33,
    "start_time": "2023-05-10T19:15:53.434Z"
   },
   {
    "duration": 83,
    "start_time": "2023-05-10T19:17:05.754Z"
   },
   {
    "duration": 35,
    "start_time": "2023-05-10T19:17:09.746Z"
   },
   {
    "duration": 74,
    "start_time": "2023-05-10T19:19:21.103Z"
   },
   {
    "duration": 38,
    "start_time": "2023-05-10T19:19:27.719Z"
   },
   {
    "duration": 27,
    "start_time": "2023-05-10T19:19:37.290Z"
   },
   {
    "duration": 28,
    "start_time": "2023-05-10T19:21:04.259Z"
   },
   {
    "duration": 33,
    "start_time": "2023-05-10T19:21:12.150Z"
   },
   {
    "duration": 31,
    "start_time": "2023-05-10T19:21:16.186Z"
   },
   {
    "duration": 314,
    "start_time": "2023-05-10T19:21:47.205Z"
   },
   {
    "duration": 346,
    "start_time": "2023-05-10T19:21:52.869Z"
   },
   {
    "duration": 53,
    "start_time": "2023-05-10T19:22:08.637Z"
   },
   {
    "duration": 55,
    "start_time": "2023-05-10T19:22:54.260Z"
   },
   {
    "duration": 69,
    "start_time": "2023-05-10T19:23:06.364Z"
   },
   {
    "duration": 39,
    "start_time": "2023-05-10T19:24:32.233Z"
   },
   {
    "duration": 314,
    "start_time": "2023-05-10T19:24:39.694Z"
   },
   {
    "duration": 36,
    "start_time": "2023-05-10T19:24:44.331Z"
   },
   {
    "duration": 40,
    "start_time": "2023-05-10T19:26:01.725Z"
   },
   {
    "duration": 30,
    "start_time": "2023-05-10T19:26:07.943Z"
   },
   {
    "duration": 31,
    "start_time": "2023-05-10T19:26:26.315Z"
   },
   {
    "duration": 31,
    "start_time": "2023-05-10T19:26:49.722Z"
   },
   {
    "duration": 35,
    "start_time": "2023-05-10T19:27:25.217Z"
   },
   {
    "duration": 29,
    "start_time": "2023-05-10T19:27:31.895Z"
   },
   {
    "duration": 30,
    "start_time": "2023-05-10T19:27:38.746Z"
   },
   {
    "duration": 24,
    "start_time": "2023-05-10T19:27:42.714Z"
   },
   {
    "duration": 32,
    "start_time": "2023-05-10T19:29:57.710Z"
   },
   {
    "duration": 29,
    "start_time": "2023-05-10T19:40:41.619Z"
   },
   {
    "duration": 375,
    "start_time": "2023-05-10T19:42:10.486Z"
   },
   {
    "duration": 167,
    "start_time": "2023-05-10T19:42:10.863Z"
   },
   {
    "duration": 17,
    "start_time": "2023-05-10T19:42:11.032Z"
   },
   {
    "duration": 29,
    "start_time": "2023-05-10T19:42:11.057Z"
   },
   {
    "duration": 4,
    "start_time": "2023-05-10T19:42:11.087Z"
   },
   {
    "duration": 15,
    "start_time": "2023-05-10T19:42:11.093Z"
   },
   {
    "duration": 8,
    "start_time": "2023-05-10T19:42:11.110Z"
   },
   {
    "duration": 46,
    "start_time": "2023-05-10T19:42:11.120Z"
   },
   {
    "duration": 16,
    "start_time": "2023-05-10T19:42:11.168Z"
   },
   {
    "duration": 23,
    "start_time": "2023-05-10T19:42:11.187Z"
   },
   {
    "duration": 87,
    "start_time": "2023-05-10T19:42:11.212Z"
   },
   {
    "duration": 85,
    "start_time": "2023-05-10T19:42:11.301Z"
   },
   {
    "duration": 59,
    "start_time": "2023-05-10T19:42:11.387Z"
   },
   {
    "duration": 40,
    "start_time": "2023-05-10T19:42:11.447Z"
   },
   {
    "duration": 20,
    "start_time": "2023-05-10T19:42:11.489Z"
   },
   {
    "duration": 52,
    "start_time": "2023-05-10T19:42:11.510Z"
   },
   {
    "duration": 11,
    "start_time": "2023-05-10T19:42:11.563Z"
   },
   {
    "duration": 10,
    "start_time": "2023-05-10T19:42:11.575Z"
   },
   {
    "duration": 3,
    "start_time": "2023-05-10T19:42:11.586Z"
   },
   {
    "duration": 19,
    "start_time": "2023-05-10T19:42:11.591Z"
   },
   {
    "duration": 14,
    "start_time": "2023-05-10T19:42:11.611Z"
   },
   {
    "duration": 25,
    "start_time": "2023-05-10T19:42:11.655Z"
   },
   {
    "duration": 13,
    "start_time": "2023-05-10T19:42:11.682Z"
   },
   {
    "duration": 22,
    "start_time": "2023-05-10T19:42:11.696Z"
   },
   {
    "duration": 13,
    "start_time": "2023-05-10T19:42:11.720Z"
   },
   {
    "duration": 22,
    "start_time": "2023-05-10T19:42:11.735Z"
   },
   {
    "duration": 20,
    "start_time": "2023-05-10T19:42:11.758Z"
   },
   {
    "duration": 15,
    "start_time": "2023-05-10T19:42:11.781Z"
   },
   {
    "duration": 3,
    "start_time": "2023-05-10T19:42:11.798Z"
   },
   {
    "duration": 16,
    "start_time": "2023-05-10T19:42:11.803Z"
   },
   {
    "duration": 37,
    "start_time": "2023-05-10T19:42:11.820Z"
   },
   {
    "duration": 15,
    "start_time": "2023-05-10T19:42:11.859Z"
   },
   {
    "duration": 12,
    "start_time": "2023-05-10T19:42:11.876Z"
   },
   {
    "duration": 18,
    "start_time": "2023-05-10T19:42:11.890Z"
   },
   {
    "duration": 7,
    "start_time": "2023-05-10T19:42:11.910Z"
   }
  ],
  "colab": {
   "collapsed_sections": [
    "E0vqbgi9ay0H",
    "VUC88oWjTJw2"
   ],
   "name": "yandex_music_project.ipynb",
   "provenance": []
  },
  "kernelspec": {
   "display_name": "Python 3 (ipykernel)",
   "language": "python",
   "name": "python3"
  },
  "language_info": {
   "codemirror_mode": {
    "name": "ipython",
    "version": 3
   },
   "file_extension": ".py",
   "mimetype": "text/x-python",
   "name": "python",
   "nbconvert_exporter": "python",
   "pygments_lexer": "ipython3",
   "version": "3.9.7"
  },
  "toc": {
   "base_numbering": 1,
   "nav_menu": {},
   "number_sections": true,
   "sideBar": true,
   "skip_h1_title": true,
   "title_cell": "Table of Contents",
   "title_sidebar": "Contents",
   "toc_cell": false,
   "toc_position": {
    "height": "calc(100% - 180px)",
    "left": "10px",
    "top": "150px",
    "width": "288px"
   },
   "toc_section_display": true,
   "toc_window_display": true
  }
 },
 "nbformat": 4,
 "nbformat_minor": 1
}
